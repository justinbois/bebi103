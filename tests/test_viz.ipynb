{
 "cells": [
  {
   "cell_type": "code",
   "execution_count": 1,
   "metadata": {},
   "outputs": [
    {
     "data": {
      "text/html": [
       "\n",
       "    <div class=\"bk-root\">\n",
       "        <a href=\"https://bokeh.pydata.org\" target=\"_blank\" class=\"bk-logo bk-logo-small bk-logo-notebook\"></a>\n",
       "        <span id=\"b835ab9c-3769-4f35-b66c-fdcbc6213b77\">Loading BokehJS ...</span>\n",
       "    </div>"
      ]
     },
     "metadata": {},
     "output_type": "display_data"
    },
    {
     "data": {
      "application/javascript": [
       "\n",
       "(function(root) {\n",
       "  function now() {\n",
       "    return new Date();\n",
       "  }\n",
       "\n",
       "  var force = true;\n",
       "\n",
       "  if (typeof (root._bokeh_onload_callbacks) === \"undefined\" || force === true) {\n",
       "    root._bokeh_onload_callbacks = [];\n",
       "    root._bokeh_is_loading = undefined;\n",
       "  }\n",
       "\n",
       "  var JS_MIME_TYPE = 'application/javascript';\n",
       "  var HTML_MIME_TYPE = 'text/html';\n",
       "  var EXEC_MIME_TYPE = 'application/vnd.bokehjs_exec.v0+json';\n",
       "  var CLASS_NAME = 'output_bokeh rendered_html';\n",
       "\n",
       "  /**\n",
       "   * Render data to the DOM node\n",
       "   */\n",
       "  function render(props, node) {\n",
       "    var script = document.createElement(\"script\");\n",
       "    node.appendChild(script);\n",
       "  }\n",
       "\n",
       "  /**\n",
       "   * Handle when an output is cleared or removed\n",
       "   */\n",
       "  function handleClearOutput(event, handle) {\n",
       "    var cell = handle.cell;\n",
       "\n",
       "    var id = cell.output_area._bokeh_element_id;\n",
       "    var server_id = cell.output_area._bokeh_server_id;\n",
       "    // Clean up Bokeh references\n",
       "    if (id != null && id in Bokeh.index) {\n",
       "      Bokeh.index[id].model.document.clear();\n",
       "      delete Bokeh.index[id];\n",
       "    }\n",
       "\n",
       "    if (server_id !== undefined) {\n",
       "      // Clean up Bokeh references\n",
       "      var cmd = \"from bokeh.io.state import curstate; print(curstate().uuid_to_server['\" + server_id + \"'].get_sessions()[0].document.roots[0]._id)\";\n",
       "      cell.notebook.kernel.execute(cmd, {\n",
       "        iopub: {\n",
       "          output: function(msg) {\n",
       "            var id = msg.content.text.trim();\n",
       "            if (id in Bokeh.index) {\n",
       "              Bokeh.index[id].model.document.clear();\n",
       "              delete Bokeh.index[id];\n",
       "            }\n",
       "          }\n",
       "        }\n",
       "      });\n",
       "      // Destroy server and session\n",
       "      var cmd = \"import bokeh.io.notebook as ion; ion.destroy_server('\" + server_id + \"')\";\n",
       "      cell.notebook.kernel.execute(cmd);\n",
       "    }\n",
       "  }\n",
       "\n",
       "  /**\n",
       "   * Handle when a new output is added\n",
       "   */\n",
       "  function handleAddOutput(event, handle) {\n",
       "    var output_area = handle.output_area;\n",
       "    var output = handle.output;\n",
       "\n",
       "    // limit handleAddOutput to display_data with EXEC_MIME_TYPE content only\n",
       "    if ((output.output_type != \"display_data\") || (!output.data.hasOwnProperty(EXEC_MIME_TYPE))) {\n",
       "      return\n",
       "    }\n",
       "\n",
       "    var toinsert = output_area.element.find(\".\" + CLASS_NAME.split(' ')[0]);\n",
       "\n",
       "    if (output.metadata[EXEC_MIME_TYPE][\"id\"] !== undefined) {\n",
       "      toinsert[toinsert.length - 1].firstChild.textContent = output.data[JS_MIME_TYPE];\n",
       "      // store reference to embed id on output_area\n",
       "      output_area._bokeh_element_id = output.metadata[EXEC_MIME_TYPE][\"id\"];\n",
       "    }\n",
       "    if (output.metadata[EXEC_MIME_TYPE][\"server_id\"] !== undefined) {\n",
       "      var bk_div = document.createElement(\"div\");\n",
       "      bk_div.innerHTML = output.data[HTML_MIME_TYPE];\n",
       "      var script_attrs = bk_div.children[0].attributes;\n",
       "      for (var i = 0; i < script_attrs.length; i++) {\n",
       "        toinsert[toinsert.length - 1].firstChild.setAttribute(script_attrs[i].name, script_attrs[i].value);\n",
       "      }\n",
       "      // store reference to server id on output_area\n",
       "      output_area._bokeh_server_id = output.metadata[EXEC_MIME_TYPE][\"server_id\"];\n",
       "    }\n",
       "  }\n",
       "\n",
       "  function register_renderer(events, OutputArea) {\n",
       "\n",
       "    function append_mime(data, metadata, element) {\n",
       "      // create a DOM node to render to\n",
       "      var toinsert = this.create_output_subarea(\n",
       "        metadata,\n",
       "        CLASS_NAME,\n",
       "        EXEC_MIME_TYPE\n",
       "      );\n",
       "      this.keyboard_manager.register_events(toinsert);\n",
       "      // Render to node\n",
       "      var props = {data: data, metadata: metadata[EXEC_MIME_TYPE]};\n",
       "      render(props, toinsert[toinsert.length - 1]);\n",
       "      element.append(toinsert);\n",
       "      return toinsert\n",
       "    }\n",
       "\n",
       "    /* Handle when an output is cleared or removed */\n",
       "    events.on('clear_output.CodeCell', handleClearOutput);\n",
       "    events.on('delete.Cell', handleClearOutput);\n",
       "\n",
       "    /* Handle when a new output is added */\n",
       "    events.on('output_added.OutputArea', handleAddOutput);\n",
       "\n",
       "    /**\n",
       "     * Register the mime type and append_mime function with output_area\n",
       "     */\n",
       "    OutputArea.prototype.register_mime_type(EXEC_MIME_TYPE, append_mime, {\n",
       "      /* Is output safe? */\n",
       "      safe: true,\n",
       "      /* Index of renderer in `output_area.display_order` */\n",
       "      index: 0\n",
       "    });\n",
       "  }\n",
       "\n",
       "  // register the mime type if in Jupyter Notebook environment and previously unregistered\n",
       "  if (root.Jupyter !== undefined) {\n",
       "    var events = require('base/js/events');\n",
       "    var OutputArea = require('notebook/js/outputarea').OutputArea;\n",
       "\n",
       "    if (OutputArea.prototype.mime_types().indexOf(EXEC_MIME_TYPE) == -1) {\n",
       "      register_renderer(events, OutputArea);\n",
       "    }\n",
       "  }\n",
       "\n",
       "  \n",
       "  if (typeof (root._bokeh_timeout) === \"undefined\" || force === true) {\n",
       "    root._bokeh_timeout = Date.now() + 5000;\n",
       "    root._bokeh_failed_load = false;\n",
       "  }\n",
       "\n",
       "  var NB_LOAD_WARNING = {'data': {'text/html':\n",
       "     \"<div style='background-color: #fdd'>\\n\"+\n",
       "     \"<p>\\n\"+\n",
       "     \"BokehJS does not appear to have successfully loaded. If loading BokehJS from CDN, this \\n\"+\n",
       "     \"may be due to a slow or bad network connection. Possible fixes:\\n\"+\n",
       "     \"</p>\\n\"+\n",
       "     \"<ul>\\n\"+\n",
       "     \"<li>re-rerun `output_notebook()` to attempt to load from CDN again, or</li>\\n\"+\n",
       "     \"<li>use INLINE resources instead, as so:</li>\\n\"+\n",
       "     \"</ul>\\n\"+\n",
       "     \"<code>\\n\"+\n",
       "     \"from bokeh.resources import INLINE\\n\"+\n",
       "     \"output_notebook(resources=INLINE)\\n\"+\n",
       "     \"</code>\\n\"+\n",
       "     \"</div>\"}};\n",
       "\n",
       "  function display_loaded() {\n",
       "    var el = document.getElementById(\"b835ab9c-3769-4f35-b66c-fdcbc6213b77\");\n",
       "    if (el != null) {\n",
       "      el.textContent = \"BokehJS is loading...\";\n",
       "    }\n",
       "    if (root.Bokeh !== undefined) {\n",
       "      if (el != null) {\n",
       "        el.textContent = \"BokehJS \" + root.Bokeh.version + \" successfully loaded.\";\n",
       "      }\n",
       "    } else if (Date.now() < root._bokeh_timeout) {\n",
       "      setTimeout(display_loaded, 100)\n",
       "    }\n",
       "  }\n",
       "\n",
       "\n",
       "  function run_callbacks() {\n",
       "    try {\n",
       "      root._bokeh_onload_callbacks.forEach(function(callback) { callback() });\n",
       "    }\n",
       "    finally {\n",
       "      delete root._bokeh_onload_callbacks\n",
       "    }\n",
       "    console.info(\"Bokeh: all callbacks have finished\");\n",
       "  }\n",
       "\n",
       "  function load_libs(js_urls, callback) {\n",
       "    root._bokeh_onload_callbacks.push(callback);\n",
       "    if (root._bokeh_is_loading > 0) {\n",
       "      console.log(\"Bokeh: BokehJS is being loaded, scheduling callback at\", now());\n",
       "      return null;\n",
       "    }\n",
       "    if (js_urls == null || js_urls.length === 0) {\n",
       "      run_callbacks();\n",
       "      return null;\n",
       "    }\n",
       "    console.log(\"Bokeh: BokehJS not loaded, scheduling load and callback at\", now());\n",
       "    root._bokeh_is_loading = js_urls.length;\n",
       "    for (var i = 0; i < js_urls.length; i++) {\n",
       "      var url = js_urls[i];\n",
       "      var s = document.createElement('script');\n",
       "      s.src = url;\n",
       "      s.async = false;\n",
       "      s.onreadystatechange = s.onload = function() {\n",
       "        root._bokeh_is_loading--;\n",
       "        if (root._bokeh_is_loading === 0) {\n",
       "          console.log(\"Bokeh: all BokehJS libraries loaded\");\n",
       "          run_callbacks()\n",
       "        }\n",
       "      };\n",
       "      s.onerror = function() {\n",
       "        console.warn(\"failed to load library \" + url);\n",
       "      };\n",
       "      console.log(\"Bokeh: injecting script tag for BokehJS library: \", url);\n",
       "      document.getElementsByTagName(\"head\")[0].appendChild(s);\n",
       "    }\n",
       "  };var element = document.getElementById(\"b835ab9c-3769-4f35-b66c-fdcbc6213b77\");\n",
       "  if (element == null) {\n",
       "    console.log(\"Bokeh: ERROR: autoload.js configured with elementid 'b835ab9c-3769-4f35-b66c-fdcbc6213b77' but no matching script tag was found. \")\n",
       "    return false;\n",
       "  }\n",
       "\n",
       "  var js_urls = [\"https://cdn.pydata.org/bokeh/release/bokeh-0.13.0.min.js\", \"https://cdn.pydata.org/bokeh/release/bokeh-widgets-0.13.0.min.js\", \"https://cdn.pydata.org/bokeh/release/bokeh-tables-0.13.0.min.js\", \"https://cdn.pydata.org/bokeh/release/bokeh-gl-0.13.0.min.js\"];\n",
       "\n",
       "  var inline_js = [\n",
       "    function(Bokeh) {\n",
       "      Bokeh.set_log_level(\"info\");\n",
       "    },\n",
       "    \n",
       "    function(Bokeh) {\n",
       "      \n",
       "    },\n",
       "    function(Bokeh) {\n",
       "      console.log(\"Bokeh: injecting CSS: https://cdn.pydata.org/bokeh/release/bokeh-0.13.0.min.css\");\n",
       "      Bokeh.embed.inject_css(\"https://cdn.pydata.org/bokeh/release/bokeh-0.13.0.min.css\");\n",
       "      console.log(\"Bokeh: injecting CSS: https://cdn.pydata.org/bokeh/release/bokeh-widgets-0.13.0.min.css\");\n",
       "      Bokeh.embed.inject_css(\"https://cdn.pydata.org/bokeh/release/bokeh-widgets-0.13.0.min.css\");\n",
       "      console.log(\"Bokeh: injecting CSS: https://cdn.pydata.org/bokeh/release/bokeh-tables-0.13.0.min.css\");\n",
       "      Bokeh.embed.inject_css(\"https://cdn.pydata.org/bokeh/release/bokeh-tables-0.13.0.min.css\");\n",
       "    }\n",
       "  ];\n",
       "\n",
       "  function run_inline_js() {\n",
       "    \n",
       "    if ((root.Bokeh !== undefined) || (force === true)) {\n",
       "      for (var i = 0; i < inline_js.length; i++) {\n",
       "        inline_js[i].call(root, root.Bokeh);\n",
       "      }if (force === true) {\n",
       "        display_loaded();\n",
       "      }} else if (Date.now() < root._bokeh_timeout) {\n",
       "      setTimeout(run_inline_js, 100);\n",
       "    } else if (!root._bokeh_failed_load) {\n",
       "      console.log(\"Bokeh: BokehJS failed to load within specified timeout.\");\n",
       "      root._bokeh_failed_load = true;\n",
       "    } else if (force !== true) {\n",
       "      var cell = $(document.getElementById(\"b835ab9c-3769-4f35-b66c-fdcbc6213b77\")).parents('.cell').data().cell;\n",
       "      cell.output_area.append_execute_result(NB_LOAD_WARNING)\n",
       "    }\n",
       "\n",
       "  }\n",
       "\n",
       "  if (root._bokeh_is_loading === 0) {\n",
       "    console.log(\"Bokeh: BokehJS loaded, going straight to plotting\");\n",
       "    run_inline_js();\n",
       "  } else {\n",
       "    load_libs(js_urls, function() {\n",
       "      console.log(\"Bokeh: BokehJS plotting callback run at\", now());\n",
       "      run_inline_js();\n",
       "    });\n",
       "  }\n",
       "}(window));"
      ],
      "application/vnd.bokehjs_load.v0+json": "\n(function(root) {\n  function now() {\n    return new Date();\n  }\n\n  var force = true;\n\n  if (typeof (root._bokeh_onload_callbacks) === \"undefined\" || force === true) {\n    root._bokeh_onload_callbacks = [];\n    root._bokeh_is_loading = undefined;\n  }\n\n  \n\n  \n  if (typeof (root._bokeh_timeout) === \"undefined\" || force === true) {\n    root._bokeh_timeout = Date.now() + 5000;\n    root._bokeh_failed_load = false;\n  }\n\n  var NB_LOAD_WARNING = {'data': {'text/html':\n     \"<div style='background-color: #fdd'>\\n\"+\n     \"<p>\\n\"+\n     \"BokehJS does not appear to have successfully loaded. If loading BokehJS from CDN, this \\n\"+\n     \"may be due to a slow or bad network connection. Possible fixes:\\n\"+\n     \"</p>\\n\"+\n     \"<ul>\\n\"+\n     \"<li>re-rerun `output_notebook()` to attempt to load from CDN again, or</li>\\n\"+\n     \"<li>use INLINE resources instead, as so:</li>\\n\"+\n     \"</ul>\\n\"+\n     \"<code>\\n\"+\n     \"from bokeh.resources import INLINE\\n\"+\n     \"output_notebook(resources=INLINE)\\n\"+\n     \"</code>\\n\"+\n     \"</div>\"}};\n\n  function display_loaded() {\n    var el = document.getElementById(\"b835ab9c-3769-4f35-b66c-fdcbc6213b77\");\n    if (el != null) {\n      el.textContent = \"BokehJS is loading...\";\n    }\n    if (root.Bokeh !== undefined) {\n      if (el != null) {\n        el.textContent = \"BokehJS \" + root.Bokeh.version + \" successfully loaded.\";\n      }\n    } else if (Date.now() < root._bokeh_timeout) {\n      setTimeout(display_loaded, 100)\n    }\n  }\n\n\n  function run_callbacks() {\n    try {\n      root._bokeh_onload_callbacks.forEach(function(callback) { callback() });\n    }\n    finally {\n      delete root._bokeh_onload_callbacks\n    }\n    console.info(\"Bokeh: all callbacks have finished\");\n  }\n\n  function load_libs(js_urls, callback) {\n    root._bokeh_onload_callbacks.push(callback);\n    if (root._bokeh_is_loading > 0) {\n      console.log(\"Bokeh: BokehJS is being loaded, scheduling callback at\", now());\n      return null;\n    }\n    if (js_urls == null || js_urls.length === 0) {\n      run_callbacks();\n      return null;\n    }\n    console.log(\"Bokeh: BokehJS not loaded, scheduling load and callback at\", now());\n    root._bokeh_is_loading = js_urls.length;\n    for (var i = 0; i < js_urls.length; i++) {\n      var url = js_urls[i];\n      var s = document.createElement('script');\n      s.src = url;\n      s.async = false;\n      s.onreadystatechange = s.onload = function() {\n        root._bokeh_is_loading--;\n        if (root._bokeh_is_loading === 0) {\n          console.log(\"Bokeh: all BokehJS libraries loaded\");\n          run_callbacks()\n        }\n      };\n      s.onerror = function() {\n        console.warn(\"failed to load library \" + url);\n      };\n      console.log(\"Bokeh: injecting script tag for BokehJS library: \", url);\n      document.getElementsByTagName(\"head\")[0].appendChild(s);\n    }\n  };var element = document.getElementById(\"b835ab9c-3769-4f35-b66c-fdcbc6213b77\");\n  if (element == null) {\n    console.log(\"Bokeh: ERROR: autoload.js configured with elementid 'b835ab9c-3769-4f35-b66c-fdcbc6213b77' but no matching script tag was found. \")\n    return false;\n  }\n\n  var js_urls = [\"https://cdn.pydata.org/bokeh/release/bokeh-0.13.0.min.js\", \"https://cdn.pydata.org/bokeh/release/bokeh-widgets-0.13.0.min.js\", \"https://cdn.pydata.org/bokeh/release/bokeh-tables-0.13.0.min.js\", \"https://cdn.pydata.org/bokeh/release/bokeh-gl-0.13.0.min.js\"];\n\n  var inline_js = [\n    function(Bokeh) {\n      Bokeh.set_log_level(\"info\");\n    },\n    \n    function(Bokeh) {\n      \n    },\n    function(Bokeh) {\n      console.log(\"Bokeh: injecting CSS: https://cdn.pydata.org/bokeh/release/bokeh-0.13.0.min.css\");\n      Bokeh.embed.inject_css(\"https://cdn.pydata.org/bokeh/release/bokeh-0.13.0.min.css\");\n      console.log(\"Bokeh: injecting CSS: https://cdn.pydata.org/bokeh/release/bokeh-widgets-0.13.0.min.css\");\n      Bokeh.embed.inject_css(\"https://cdn.pydata.org/bokeh/release/bokeh-widgets-0.13.0.min.css\");\n      console.log(\"Bokeh: injecting CSS: https://cdn.pydata.org/bokeh/release/bokeh-tables-0.13.0.min.css\");\n      Bokeh.embed.inject_css(\"https://cdn.pydata.org/bokeh/release/bokeh-tables-0.13.0.min.css\");\n    }\n  ];\n\n  function run_inline_js() {\n    \n    if ((root.Bokeh !== undefined) || (force === true)) {\n      for (var i = 0; i < inline_js.length; i++) {\n        inline_js[i].call(root, root.Bokeh);\n      }if (force === true) {\n        display_loaded();\n      }} else if (Date.now() < root._bokeh_timeout) {\n      setTimeout(run_inline_js, 100);\n    } else if (!root._bokeh_failed_load) {\n      console.log(\"Bokeh: BokehJS failed to load within specified timeout.\");\n      root._bokeh_failed_load = true;\n    } else if (force !== true) {\n      var cell = $(document.getElementById(\"b835ab9c-3769-4f35-b66c-fdcbc6213b77\")).parents('.cell').data().cell;\n      cell.output_area.append_execute_result(NB_LOAD_WARNING)\n    }\n\n  }\n\n  if (root._bokeh_is_loading === 0) {\n    console.log(\"Bokeh: BokehJS loaded, going straight to plotting\");\n    run_inline_js();\n  } else {\n    load_libs(js_urls, function() {\n      console.log(\"Bokeh: BokehJS plotting callback run at\", now());\n      run_inline_js();\n    });\n  }\n}(window));"
     },
     "metadata": {},
     "output_type": "display_data"
    }
   ],
   "source": [
    "%load_ext autoreload\n",
    "%autoreload 2\n",
    "\n",
    "import pandas as pd\n",
    "\n",
    "import bebi103\n",
    "\n",
    "import bokeh.io\n",
    "bokeh.io.output_notebook()"
   ]
  },
  {
   "cell_type": "code",
   "execution_count": 2,
   "metadata": {},
   "outputs": [],
   "source": [
    "df = pd.read_csv('frog_tongue_adhesion.csv', comment='#')\n",
    "\n",
    "data_dict = {'ID': ['I', 'II', 'III', 'IV'],\n",
    "             'age': ['adult', 'adult', 'juvenile', 'juvenile'],\n",
    "             'SVL (mm)': [63, 70, 28, 31],\n",
    "             'weight (g)': [63.1, 72.7, 12.7, 12.7],\n",
    "             'species': ['cross', 'cross', 'cranwelli', 'cranwelli']}\n",
    "\n",
    "df = df.merge(pd.DataFrame(data=data_dict))"
   ]
  },
  {
   "cell_type": "markdown",
   "metadata": {},
   "source": [
    "## Jitter plots"
   ]
  },
  {
   "cell_type": "code",
   "execution_count": 3,
   "metadata": {},
   "outputs": [
    {
     "data": {
      "text/html": [
       "\n",
       "\n",
       "\n",
       "\n",
       "\n",
       "\n",
       "  <div class=\"bk-root\" id=\"d62bf38d-1d68-478e-b317-a70f92d4791a\"></div>\n"
      ]
     },
     "metadata": {},
     "output_type": "display_data"
    },
    {
     "data": {
      "application/javascript": [
       "(function(root) {\n",
       "  function embed_document(root) {\n",
       "    \n",
       "  var docs_json = {\"2077922e-9eeb-4bc8-83a4-6b1b710740ab\":{\"roots\":{\"references\":[{\"attributes\":{},\"id\":\"3cf3e80d-844b-48d8-8203-9ccf0b282127\",\"type\":\"LinearScale\"},{\"attributes\":{},\"id\":\"bb871e04-0279-4f35-8b77-f1b1e5fca083\",\"type\":\"HelpTool\"},{\"attributes\":{\"bottom_units\":\"screen\",\"fill_alpha\":{\"value\":0.5},\"fill_color\":{\"value\":\"lightgrey\"},\"left_units\":\"screen\",\"level\":\"overlay\",\"line_alpha\":{\"value\":1.0},\"line_color\":{\"value\":\"black\"},\"line_dash\":[4,4],\"line_width\":{\"value\":2},\"plot\":null,\"render_mode\":\"css\",\"right_units\":\"screen\",\"top_units\":\"screen\"},\"id\":\"1445255f-8584-4b31-802d-2ce9cb9bb0c9\",\"type\":\"BoxAnnotation\"},{\"attributes\":{},\"id\":\"4b8f787f-4a3c-4dd7-8a95-9ac5ccacb10a\",\"type\":\"CategoricalScale\"},{\"attributes\":{\"data_source\":{\"id\":\"98fef28d-39a2-406d-84fc-54e62d16bed6\",\"type\":\"ColumnDataSource\"},\"glyph\":{\"id\":\"067720db-6745-4e31-88ca-5c7b8846bbd9\",\"type\":\"Circle\"},\"hover_glyph\":null,\"muted_glyph\":null,\"nonselection_glyph\":{\"id\":\"3f258127-4645-463a-803e-2028b92d3635\",\"type\":\"Circle\"},\"selection_glyph\":null,\"view\":{\"id\":\"8191ca03-54ab-4e1a-9874-bc638ad5f7eb\",\"type\":\"CDSView\"}},\"id\":\"e5fec4b4-25d9-4aab-8058-1071eca54669\",\"type\":\"GlyphRenderer\"},{\"attributes\":{\"axis_label\":\"impact force (mN)\",\"formatter\":{\"id\":\"2a1e1719-045d-47c2-be46-5a00ca397675\",\"type\":\"BasicTickFormatter\"},\"plot\":{\"id\":\"5503e394-df09-4d75-9dd1-38fa2e3ed820\",\"subtype\":\"Figure\",\"type\":\"Plot\"},\"ticker\":{\"id\":\"fc473fe7-75fa-4bf6-a32f-b7740be8f957\",\"type\":\"BasicTicker\"}},\"id\":\"e7058df9-dbdb-43de-bac6-4ea6840022bd\",\"type\":\"LinearAxis\"},{\"attributes\":{\"fill_color\":{\"field\":\"cat\",\"transform\":{\"id\":\"f8cbb815-7ba7-461b-a621-8c84b574c448\",\"type\":\"CategoricalColorMapper\"}},\"line_color\":{\"field\":\"cat\",\"transform\":{\"id\":\"f8cbb815-7ba7-461b-a621-8c84b574c448\",\"type\":\"CategoricalColorMapper\"}},\"x\":{\"field\":\"cat\",\"transform\":{\"id\":\"1fd31b33-af5d-4c46-b5de-c205d8c9c1da\",\"type\":\"Jitter\"}},\"y\":{\"field\":\"impact force (mN)\"}},\"id\":\"067720db-6745-4e31-88ca-5c7b8846bbd9\",\"type\":\"Circle\"},{\"attributes\":{\"axis_label\":\"ID\",\"formatter\":{\"id\":\"c0c077a5-e235-4931-8bf9-8c3c31008b01\",\"type\":\"CategoricalTickFormatter\"},\"plot\":{\"id\":\"5503e394-df09-4d75-9dd1-38fa2e3ed820\",\"subtype\":\"Figure\",\"type\":\"Plot\"},\"ticker\":{\"id\":\"ef9b249a-e148-4920-9c5a-1422c51c96b8\",\"type\":\"CategoricalTicker\"}},\"id\":\"a09b019a-0d87-4605-9136-c953924e0460\",\"type\":\"CategoricalAxis\"},{\"attributes\":{},\"id\":\"fc473fe7-75fa-4bf6-a32f-b7740be8f957\",\"type\":\"BasicTicker\"},{\"attributes\":{\"callback\":null},\"id\":\"39c5feff-23b3-4fb9-83f7-81d54d04200a\",\"type\":\"DataRange1d\"},{\"attributes\":{\"fill_alpha\":{\"value\":0.1},\"fill_color\":{\"value\":\"#1f77b4\"},\"line_alpha\":{\"value\":0.1},\"line_color\":{\"value\":\"#1f77b4\"},\"x\":{\"field\":\"cat\",\"transform\":{\"id\":\"1fd31b33-af5d-4c46-b5de-c205d8c9c1da\",\"type\":\"Jitter\"}},\"y\":{\"field\":\"impact force (mN)\"}},\"id\":\"3f258127-4645-463a-803e-2028b92d3635\",\"type\":\"Circle\"},{\"attributes\":{},\"id\":\"2a1e1719-045d-47c2-be46-5a00ca397675\",\"type\":\"BasicTickFormatter\"},{\"attributes\":{},\"id\":\"ef9b249a-e148-4920-9c5a-1422c51c96b8\",\"type\":\"CategoricalTicker\"},{\"attributes\":{\"source\":{\"id\":\"98fef28d-39a2-406d-84fc-54e62d16bed6\",\"type\":\"ColumnDataSource\"}},\"id\":\"8191ca03-54ab-4e1a-9874-bc638ad5f7eb\",\"type\":\"CDSView\"},{\"attributes\":{\"grid_line_color\":{\"value\":null},\"plot\":{\"id\":\"5503e394-df09-4d75-9dd1-38fa2e3ed820\",\"subtype\":\"Figure\",\"type\":\"Plot\"},\"ticker\":{\"id\":\"ef9b249a-e148-4920-9c5a-1422c51c96b8\",\"type\":\"CategoricalTicker\"}},\"id\":\"aa4c76cf-5149-4350-86bc-bb4891605f7a\",\"type\":\"Grid\"},{\"attributes\":{\"dimension\":1,\"plot\":{\"id\":\"5503e394-df09-4d75-9dd1-38fa2e3ed820\",\"subtype\":\"Figure\",\"type\":\"Plot\"},\"ticker\":{\"id\":\"fc473fe7-75fa-4bf6-a32f-b7740be8f957\",\"type\":\"BasicTicker\"}},\"id\":\"4f52787b-e1f0-4d7b-8767-2bdd3b9b94e5\",\"type\":\"Grid\"},{\"attributes\":{},\"id\":\"1d0d1e45-0b24-4567-bd70-fa28d7f1aadf\",\"type\":\"Selection\"},{\"attributes\":{\"callback\":null,\"data\":{\"ID\":[\"I\",\"I\",\"I\",\"I\",\"I\",\"I\",\"I\",\"I\",\"I\",\"I\",\"I\",\"I\",\"I\",\"I\",\"I\",\"I\",\"I\",\"I\",\"I\",\"I\",\"II\",\"II\",\"II\",\"II\",\"II\",\"II\",\"II\",\"II\",\"II\",\"II\",\"II\",\"II\",\"II\",\"II\",\"II\",\"II\",\"II\",\"II\",\"II\",\"II\",\"III\",\"III\",\"III\",\"III\",\"III\",\"III\",\"III\",\"III\",\"III\",\"III\",\"III\",\"III\",\"III\",\"III\",\"III\",\"III\",\"III\",\"III\",\"III\",\"III\",\"IV\",\"IV\",\"IV\",\"IV\",\"IV\",\"IV\",\"IV\",\"IV\",\"IV\",\"IV\",\"IV\",\"IV\",\"IV\",\"IV\",\"IV\",\"IV\",\"IV\",\"IV\",\"IV\",\"IV\"],\"__label\":[\"I\",\"I\",\"I\",\"I\",\"I\",\"I\",\"I\",\"I\",\"I\",\"I\",\"I\",\"I\",\"I\",\"I\",\"I\",\"I\",\"I\",\"I\",\"I\",\"I\",\"II\",\"II\",\"II\",\"II\",\"II\",\"II\",\"II\",\"II\",\"II\",\"II\",\"II\",\"II\",\"II\",\"II\",\"II\",\"II\",\"II\",\"II\",\"II\",\"II\",\"III\",\"III\",\"III\",\"III\",\"III\",\"III\",\"III\",\"III\",\"III\",\"III\",\"III\",\"III\",\"III\",\"III\",\"III\",\"III\",\"III\",\"III\",\"III\",\"III\",\"IV\",\"IV\",\"IV\",\"IV\",\"IV\",\"IV\",\"IV\",\"IV\",\"IV\",\"IV\",\"IV\",\"IV\",\"IV\",\"IV\",\"IV\",\"IV\",\"IV\",\"IV\",\"IV\",\"IV\"],\"cat\":[\"I\",\"I\",\"I\",\"I\",\"I\",\"I\",\"I\",\"I\",\"I\",\"I\",\"I\",\"I\",\"I\",\"I\",\"I\",\"I\",\"I\",\"I\",\"I\",\"I\",\"II\",\"II\",\"II\",\"II\",\"II\",\"II\",\"II\",\"II\",\"II\",\"II\",\"II\",\"II\",\"II\",\"II\",\"II\",\"II\",\"II\",\"II\",\"II\",\"II\",\"III\",\"III\",\"III\",\"III\",\"III\",\"III\",\"III\",\"III\",\"III\",\"III\",\"III\",\"III\",\"III\",\"III\",\"III\",\"III\",\"III\",\"III\",\"III\",\"III\",\"IV\",\"IV\",\"IV\",\"IV\",\"IV\",\"IV\",\"IV\",\"IV\",\"IV\",\"IV\",\"IV\",\"IV\",\"IV\",\"IV\",\"IV\",\"IV\",\"IV\",\"IV\",\"IV\",\"IV\"],\"impact force (mN)\":[1205,2527,1745,1556,493,2276,556,1928,2641,1897,1891,1545,1307,1692,1543,1282,775,2032,1240,473,1612,605,327,946,541,1539,529,628,1453,297,703,269,751,245,1182,515,435,383,457,730,614,414,324,776,611,544,538,579,806,459,458,626,621,544,535,385,401,614,665,488,172,142,37,453,355,22,502,273,720,582,198,198,597,516,815,402,605,711,614,468]},\"selected\":{\"id\":\"1d0d1e45-0b24-4567-bd70-fa28d7f1aadf\",\"type\":\"Selection\"},\"selection_policy\":{\"id\":\"fd3149d6-54dc-4b31-9da7-b3f570122e4b\",\"type\":\"UnionRenderers\"}},\"id\":\"98fef28d-39a2-406d-84fc-54e62d16bed6\",\"type\":\"ColumnDataSource\"},{\"attributes\":{\"callback\":null,\"factors\":[\"I\",\"II\",\"III\",\"IV\"]},\"id\":\"5f66a14a-6918-4be2-825d-d5d7779d9df1\",\"type\":\"FactorRange\"},{\"attributes\":{},\"id\":\"c0c077a5-e235-4931-8bf9-8c3c31008b01\",\"type\":\"CategoricalTickFormatter\"},{\"attributes\":{},\"id\":\"fd3149d6-54dc-4b31-9da7-b3f570122e4b\",\"type\":\"UnionRenderers\"},{\"attributes\":{\"range\":{\"id\":\"5f66a14a-6918-4be2-825d-d5d7779d9df1\",\"type\":\"FactorRange\"},\"width\":0.4},\"id\":\"1fd31b33-af5d-4c46-b5de-c205d8c9c1da\",\"type\":\"Jitter\"},{\"attributes\":{\"factors\":[\"I\",\"II\",\"III\",\"IV\"],\"palette\":[\"#4e79a7\",\"#f28e2b\",\"#e15759\",\"#76b7b2\",\"#59a14f\",\"#edc948\",\"#b07aa1\",\"#ff9da7\",\"#9c755f\",\"#bab0ac\"]},\"id\":\"f8cbb815-7ba7-461b-a621-8c84b574c448\",\"type\":\"CategoricalColorMapper\"},{\"attributes\":{},\"id\":\"eee9f2c1-ba8f-463c-aa59-9e0b8d813e81\",\"type\":\"PanTool\"},{\"attributes\":{},\"id\":\"94daa797-55f7-4f51-b556-3955b1b2ce1a\",\"type\":\"WheelZoomTool\"},{\"attributes\":{\"overlay\":{\"id\":\"1445255f-8584-4b31-802d-2ce9cb9bb0c9\",\"type\":\"BoxAnnotation\"}},\"id\":\"2ca37871-bcd5-413b-9466-c0fb145ec7b0\",\"type\":\"BoxZoomTool\"},{\"attributes\":{\"below\":[{\"id\":\"a09b019a-0d87-4605-9136-c953924e0460\",\"type\":\"CategoricalAxis\"}],\"left\":[{\"id\":\"e7058df9-dbdb-43de-bac6-4ea6840022bd\",\"type\":\"LinearAxis\"}],\"plot_height\":300,\"plot_width\":400,\"renderers\":[{\"id\":\"a09b019a-0d87-4605-9136-c953924e0460\",\"type\":\"CategoricalAxis\"},{\"id\":\"aa4c76cf-5149-4350-86bc-bb4891605f7a\",\"type\":\"Grid\"},{\"id\":\"e7058df9-dbdb-43de-bac6-4ea6840022bd\",\"type\":\"LinearAxis\"},{\"id\":\"4f52787b-e1f0-4d7b-8767-2bdd3b9b94e5\",\"type\":\"Grid\"},{\"id\":\"1445255f-8584-4b31-802d-2ce9cb9bb0c9\",\"type\":\"BoxAnnotation\"},{\"id\":\"e5fec4b4-25d9-4aab-8058-1071eca54669\",\"type\":\"GlyphRenderer\"}],\"title\":null,\"toolbar\":{\"id\":\"80ee9f9b-beed-4ec7-a7b6-90b0cc1aa58f\",\"type\":\"Toolbar\"},\"x_range\":{\"id\":\"5f66a14a-6918-4be2-825d-d5d7779d9df1\",\"type\":\"FactorRange\"},\"x_scale\":{\"id\":\"4b8f787f-4a3c-4dd7-8a95-9ac5ccacb10a\",\"type\":\"CategoricalScale\"},\"y_range\":{\"id\":\"39c5feff-23b3-4fb9-83f7-81d54d04200a\",\"type\":\"DataRange1d\"},\"y_scale\":{\"id\":\"3cf3e80d-844b-48d8-8203-9ccf0b282127\",\"type\":\"LinearScale\"}},\"id\":\"5503e394-df09-4d75-9dd1-38fa2e3ed820\",\"subtype\":\"Figure\",\"type\":\"Plot\"},{\"attributes\":{},\"id\":\"c2279a32-2d80-43ea-8a48-14b78cb0537a\",\"type\":\"SaveTool\"},{\"attributes\":{\"active_drag\":\"auto\",\"active_inspect\":\"auto\",\"active_multi\":null,\"active_scroll\":\"auto\",\"active_tap\":\"auto\",\"tools\":[{\"id\":\"eee9f2c1-ba8f-463c-aa59-9e0b8d813e81\",\"type\":\"PanTool\"},{\"id\":\"94daa797-55f7-4f51-b556-3955b1b2ce1a\",\"type\":\"WheelZoomTool\"},{\"id\":\"2ca37871-bcd5-413b-9466-c0fb145ec7b0\",\"type\":\"BoxZoomTool\"},{\"id\":\"c2279a32-2d80-43ea-8a48-14b78cb0537a\",\"type\":\"SaveTool\"},{\"id\":\"9c5fcd70-6b2f-44ba-b700-99325407df78\",\"type\":\"ResetTool\"},{\"id\":\"bb871e04-0279-4f35-8b77-f1b1e5fca083\",\"type\":\"HelpTool\"}]},\"id\":\"80ee9f9b-beed-4ec7-a7b6-90b0cc1aa58f\",\"type\":\"Toolbar\"},{\"attributes\":{},\"id\":\"9c5fcd70-6b2f-44ba-b700-99325407df78\",\"type\":\"ResetTool\"}],\"root_ids\":[\"5503e394-df09-4d75-9dd1-38fa2e3ed820\"]},\"title\":\"Bokeh Application\",\"version\":\"0.13.0\"}};\n",
       "  var render_items = [{\"docid\":\"2077922e-9eeb-4bc8-83a4-6b1b710740ab\",\"roots\":{\"5503e394-df09-4d75-9dd1-38fa2e3ed820\":\"d62bf38d-1d68-478e-b317-a70f92d4791a\"}}];\n",
       "  root.Bokeh.embed.embed_items_notebook(docs_json, render_items);\n",
       "\n",
       "  }\n",
       "  if (root.Bokeh !== undefined) {\n",
       "    embed_document(root);\n",
       "  } else {\n",
       "    var attempts = 0;\n",
       "    var timer = setInterval(function(root) {\n",
       "      if (root.Bokeh !== undefined) {\n",
       "        embed_document(root);\n",
       "        clearInterval(timer);\n",
       "      }\n",
       "      attempts++;\n",
       "      if (attempts > 100) {\n",
       "        console.log(\"Bokeh: ERROR: Unable to run BokehJS code because BokehJS library is missing\")\n",
       "        clearInterval(timer);\n",
       "      }\n",
       "    }, 10, root)\n",
       "  }\n",
       "})(window);"
      ],
      "application/vnd.bokehjs_exec.v0+json": ""
     },
     "metadata": {
      "application/vnd.bokehjs_exec.v0+json": {
       "id": "5503e394-df09-4d75-9dd1-38fa2e3ed820"
      }
     },
     "output_type": "display_data"
    }
   ],
   "source": [
    "p = bebi103.viz.jitter( data=df, \n",
    "                        cats='ID', \n",
    "                        val='impact force (mN)', \n",
    "                        p=None, \n",
    "                        horizontal=False, \n",
    "                        x_axis_label='ID', \n",
    "                        y_axis_label='impact force (mN)', \n",
    "                        title=None, \n",
    "                        plot_height=300, \n",
    "                        plot_width=400, \n",
    "                        palette=['#4e79a7', '#f28e2b', '#e15759', '#76b7b2', '#59a14f',\n",
    "                                 '#edc948', '#b07aa1', '#ff9da7', '#9c755f', '#bab0ac'],\n",
    "                        width=0.4, \n",
    "                        order=None, \n",
    "                        val_axis_type='linear', \n",
    "                        show_legend=False,\n",
    "                        color_column=None, \n",
    "                        tooltips=None)\n",
    "bokeh.io.show(p) "
   ]
  },
  {
   "cell_type": "code",
   "execution_count": 4,
   "metadata": {},
   "outputs": [
    {
     "data": {
      "text/html": [
       "\n",
       "\n",
       "\n",
       "\n",
       "\n",
       "\n",
       "  <div class=\"bk-root\" id=\"8c0d8024-64ae-4700-bbc7-6773bee90594\"></div>\n"
      ]
     },
     "metadata": {},
     "output_type": "display_data"
    },
    {
     "data": {
      "application/javascript": [
       "(function(root) {\n",
       "  function embed_document(root) {\n",
       "    \n",
       "  var docs_json = {\"2b02f474-c9ac-4f43-9ab8-89a5af383b86\":{\"roots\":{\"references\":[{\"attributes\":{\"callback\":null,\"data\":{\"ID\":[\"I\",\"I\",\"I\",\"I\",\"I\",\"I\",\"I\",\"I\",\"I\",\"I\",\"I\",\"I\",\"I\",\"I\",\"I\",\"I\",\"I\",\"I\",\"I\",\"I\",\"II\",\"II\",\"II\",\"II\",\"II\",\"II\",\"II\",\"II\",\"II\",\"II\",\"II\",\"II\",\"II\",\"II\",\"II\",\"II\",\"II\",\"II\",\"II\",\"II\",\"III\",\"III\",\"III\",\"III\",\"III\",\"III\",\"III\",\"III\",\"III\",\"III\",\"III\",\"III\",\"III\",\"III\",\"III\",\"III\",\"III\",\"III\",\"III\",\"III\",\"IV\",\"IV\",\"IV\",\"IV\",\"IV\",\"IV\",\"IV\",\"IV\",\"IV\",\"IV\",\"IV\",\"IV\",\"IV\",\"IV\",\"IV\",\"IV\",\"IV\",\"IV\",\"IV\",\"IV\"],\"__label\":[\"adult\",\"adult\",\"adult\",\"adult\",\"adult\",\"adult\",\"adult\",\"adult\",\"adult\",\"adult\",\"adult\",\"adult\",\"adult\",\"adult\",\"adult\",\"adult\",\"adult\",\"adult\",\"adult\",\"adult\",\"adult\",\"adult\",\"adult\",\"adult\",\"adult\",\"adult\",\"adult\",\"adult\",\"adult\",\"adult\",\"adult\",\"adult\",\"adult\",\"adult\",\"adult\",\"adult\",\"adult\",\"adult\",\"adult\",\"adult\",\"juvenile\",\"juvenile\",\"juvenile\",\"juvenile\",\"juvenile\",\"juvenile\",\"juvenile\",\"juvenile\",\"juvenile\",\"juvenile\",\"juvenile\",\"juvenile\",\"juvenile\",\"juvenile\",\"juvenile\",\"juvenile\",\"juvenile\",\"juvenile\",\"juvenile\",\"juvenile\",\"juvenile\",\"juvenile\",\"juvenile\",\"juvenile\",\"juvenile\",\"juvenile\",\"juvenile\",\"juvenile\",\"juvenile\",\"juvenile\",\"juvenile\",\"juvenile\",\"juvenile\",\"juvenile\",\"juvenile\",\"juvenile\",\"juvenile\",\"juvenile\",\"juvenile\",\"juvenile\"],\"age\":[\"adult\",\"adult\",\"adult\",\"adult\",\"adult\",\"adult\",\"adult\",\"adult\",\"adult\",\"adult\",\"adult\",\"adult\",\"adult\",\"adult\",\"adult\",\"adult\",\"adult\",\"adult\",\"adult\",\"adult\",\"adult\",\"adult\",\"adult\",\"adult\",\"adult\",\"adult\",\"adult\",\"adult\",\"adult\",\"adult\",\"adult\",\"adult\",\"adult\",\"adult\",\"adult\",\"adult\",\"adult\",\"adult\",\"adult\",\"adult\",\"juvenile\",\"juvenile\",\"juvenile\",\"juvenile\",\"juvenile\",\"juvenile\",\"juvenile\",\"juvenile\",\"juvenile\",\"juvenile\",\"juvenile\",\"juvenile\",\"juvenile\",\"juvenile\",\"juvenile\",\"juvenile\",\"juvenile\",\"juvenile\",\"juvenile\",\"juvenile\",\"juvenile\",\"juvenile\",\"juvenile\",\"juvenile\",\"juvenile\",\"juvenile\",\"juvenile\",\"juvenile\",\"juvenile\",\"juvenile\",\"juvenile\",\"juvenile\",\"juvenile\",\"juvenile\",\"juvenile\",\"juvenile\",\"juvenile\",\"juvenile\",\"juvenile\",\"juvenile\"],\"cat\":[\"I\",\"I\",\"I\",\"I\",\"I\",\"I\",\"I\",\"I\",\"I\",\"I\",\"I\",\"I\",\"I\",\"I\",\"I\",\"I\",\"I\",\"I\",\"I\",\"I\",\"II\",\"II\",\"II\",\"II\",\"II\",\"II\",\"II\",\"II\",\"II\",\"II\",\"II\",\"II\",\"II\",\"II\",\"II\",\"II\",\"II\",\"II\",\"II\",\"II\",\"III\",\"III\",\"III\",\"III\",\"III\",\"III\",\"III\",\"III\",\"III\",\"III\",\"III\",\"III\",\"III\",\"III\",\"III\",\"III\",\"III\",\"III\",\"III\",\"III\",\"IV\",\"IV\",\"IV\",\"IV\",\"IV\",\"IV\",\"IV\",\"IV\",\"IV\",\"IV\",\"IV\",\"IV\",\"IV\",\"IV\",\"IV\",\"IV\",\"IV\",\"IV\",\"IV\",\"IV\"],\"impact force (mN)\":[1205,2527,1745,1556,493,2276,556,1928,2641,1897,1891,1545,1307,1692,1543,1282,775,2032,1240,473,1612,605,327,946,541,1539,529,628,1453,297,703,269,751,245,1182,515,435,383,457,730,614,414,324,776,611,544,538,579,806,459,458,626,621,544,535,385,401,614,665,488,172,142,37,453,355,22,502,273,720,582,198,198,597,516,815,402,605,711,614,468]},\"selected\":{\"id\":\"fb55b00f-bf0b-47ea-beba-1565bd7295b8\",\"type\":\"Selection\"},\"selection_policy\":{\"id\":\"9652e9e5-93ba-4bad-8360-535254e404a0\",\"type\":\"UnionRenderers\"}},\"id\":\"3fa4a608-82d7-4658-80d3-72a079df41eb\",\"type\":\"ColumnDataSource\"},{\"attributes\":{\"below\":[{\"id\":\"17636893-7220-40c4-a837-a10563fa54d0\",\"type\":\"CategoricalAxis\"}],\"left\":[{\"id\":\"4f37fed8-586c-4aaa-9e68-fac0ab28940c\",\"type\":\"LinearAxis\"}],\"plot_height\":300,\"plot_width\":400,\"renderers\":[{\"id\":\"17636893-7220-40c4-a837-a10563fa54d0\",\"type\":\"CategoricalAxis\"},{\"id\":\"0afce640-24a8-4ae2-b2e3-8149c70056de\",\"type\":\"Grid\"},{\"id\":\"4f37fed8-586c-4aaa-9e68-fac0ab28940c\",\"type\":\"LinearAxis\"},{\"id\":\"ecfbedef-2de0-438d-a250-bfb0bf0188ca\",\"type\":\"Grid\"},{\"id\":\"50d322aa-9a54-4bff-ae4c-01752f42dbd0\",\"type\":\"BoxAnnotation\"},{\"id\":\"d9da1d9b-ed2e-4296-871b-308d7e898a9c\",\"type\":\"GlyphRenderer\"}],\"title\":null,\"toolbar\":{\"id\":\"447bab17-57be-455c-bcae-76fbc341325d\",\"type\":\"Toolbar\"},\"x_range\":{\"id\":\"b841bc7b-2da0-4020-a40b-df57b2f44c36\",\"type\":\"FactorRange\"},\"x_scale\":{\"id\":\"541d4543-e78c-4065-95da-02131be667e4\",\"type\":\"CategoricalScale\"},\"y_range\":{\"id\":\"24853ab4-51a7-41ad-9274-25e4575c615d\",\"type\":\"DataRange1d\"},\"y_scale\":{\"id\":\"f3e54969-c792-450a-ba53-11056f91df61\",\"type\":\"LinearScale\"}},\"id\":\"b2656297-fb18-449e-972a-fb8f1e15cf9f\",\"subtype\":\"Figure\",\"type\":\"Plot\"},{\"attributes\":{\"fill_alpha\":{\"value\":0.1},\"fill_color\":{\"value\":\"#1f77b4\"},\"line_alpha\":{\"value\":0.1},\"line_color\":{\"value\":\"#1f77b4\"},\"x\":{\"field\":\"cat\",\"transform\":{\"id\":\"7a540785-90c4-4981-b013-46f180cd33a5\",\"type\":\"Jitter\"}},\"y\":{\"field\":\"impact force (mN)\"}},\"id\":\"4e6e9665-9ec5-4280-b5da-697e76debf4d\",\"type\":\"Circle\"},{\"attributes\":{},\"id\":\"f3e54969-c792-450a-ba53-11056f91df61\",\"type\":\"LinearScale\"},{\"attributes\":{},\"id\":\"541d4543-e78c-4065-95da-02131be667e4\",\"type\":\"CategoricalScale\"},{\"attributes\":{\"grid_line_color\":{\"value\":null},\"plot\":{\"id\":\"b2656297-fb18-449e-972a-fb8f1e15cf9f\",\"subtype\":\"Figure\",\"type\":\"Plot\"},\"ticker\":{\"id\":\"4e8a64e1-157e-4f00-951c-428e913f130e\",\"type\":\"CategoricalTicker\"}},\"id\":\"0afce640-24a8-4ae2-b2e3-8149c70056de\",\"type\":\"Grid\"},{\"attributes\":{\"source\":{\"id\":\"3fa4a608-82d7-4658-80d3-72a079df41eb\",\"type\":\"ColumnDataSource\"}},\"id\":\"aac767ba-dee4-4341-82ae-63db0db37152\",\"type\":\"CDSView\"},{\"attributes\":{},\"id\":\"475509c4-7a6f-42ec-94ee-6e6815c36017\",\"type\":\"BasicTicker\"},{\"attributes\":{\"range\":{\"id\":\"b841bc7b-2da0-4020-a40b-df57b2f44c36\",\"type\":\"FactorRange\"},\"width\":0.4},\"id\":\"7a540785-90c4-4981-b013-46f180cd33a5\",\"type\":\"Jitter\"},{\"attributes\":{\"data_source\":{\"id\":\"3fa4a608-82d7-4658-80d3-72a079df41eb\",\"type\":\"ColumnDataSource\"},\"glyph\":{\"id\":\"e3eac8e1-a3e2-46bd-8b99-045995512659\",\"type\":\"Circle\"},\"hover_glyph\":null,\"muted_glyph\":null,\"nonselection_glyph\":{\"id\":\"4e6e9665-9ec5-4280-b5da-697e76debf4d\",\"type\":\"Circle\"},\"selection_glyph\":null,\"view\":{\"id\":\"aac767ba-dee4-4341-82ae-63db0db37152\",\"type\":\"CDSView\"}},\"id\":\"d9da1d9b-ed2e-4296-871b-308d7e898a9c\",\"type\":\"GlyphRenderer\"},{\"attributes\":{\"callback\":null},\"id\":\"24853ab4-51a7-41ad-9274-25e4575c615d\",\"type\":\"DataRange1d\"},{\"attributes\":{\"active_drag\":\"auto\",\"active_inspect\":\"auto\",\"active_multi\":null,\"active_scroll\":\"auto\",\"active_tap\":\"auto\",\"tools\":[{\"id\":\"73fa4717-e149-4ebb-988d-2107df49c2fa\",\"type\":\"PanTool\"},{\"id\":\"be355f7a-25f7-4deb-a62a-ad2c178bb1f7\",\"type\":\"WheelZoomTool\"},{\"id\":\"884d7a86-5a17-4e9a-aefa-8a315b4b28e5\",\"type\":\"BoxZoomTool\"},{\"id\":\"67f6b2d1-bbc4-4b79-b47e-df7c6d19a577\",\"type\":\"SaveTool\"},{\"id\":\"535d3fb5-8e5f-4095-92d2-f6ace1043984\",\"type\":\"ResetTool\"},{\"id\":\"e65e3915-833c-4df0-b06c-6fd1031032d3\",\"type\":\"HelpTool\"}]},\"id\":\"447bab17-57be-455c-bcae-76fbc341325d\",\"type\":\"Toolbar\"},{\"attributes\":{\"dimension\":1,\"plot\":{\"id\":\"b2656297-fb18-449e-972a-fb8f1e15cf9f\",\"subtype\":\"Figure\",\"type\":\"Plot\"},\"ticker\":{\"id\":\"475509c4-7a6f-42ec-94ee-6e6815c36017\",\"type\":\"BasicTicker\"}},\"id\":\"ecfbedef-2de0-438d-a250-bfb0bf0188ca\",\"type\":\"Grid\"},{\"attributes\":{\"factors\":[\"adult\",\"juvenile\"],\"palette\":[\"#4e79a7\",\"#f28e2b\",\"#e15759\",\"#76b7b2\",\"#59a14f\",\"#edc948\",\"#b07aa1\",\"#ff9da7\",\"#9c755f\",\"#bab0ac\"]},\"id\":\"7753e2c5-4b59-475c-9257-aa765151ef0e\",\"type\":\"CategoricalColorMapper\"},{\"attributes\":{\"bottom_units\":\"screen\",\"fill_alpha\":{\"value\":0.5},\"fill_color\":{\"value\":\"lightgrey\"},\"left_units\":\"screen\",\"level\":\"overlay\",\"line_alpha\":{\"value\":1.0},\"line_color\":{\"value\":\"black\"},\"line_dash\":[4,4],\"line_width\":{\"value\":2},\"plot\":null,\"render_mode\":\"css\",\"right_units\":\"screen\",\"top_units\":\"screen\"},\"id\":\"50d322aa-9a54-4bff-ae4c-01752f42dbd0\",\"type\":\"BoxAnnotation\"},{\"attributes\":{},\"id\":\"e65e3915-833c-4df0-b06c-6fd1031032d3\",\"type\":\"HelpTool\"},{\"attributes\":{\"callback\":null,\"factors\":[\"I\",\"II\",\"III\",\"IV\"]},\"id\":\"b841bc7b-2da0-4020-a40b-df57b2f44c36\",\"type\":\"FactorRange\"},{\"attributes\":{\"axis_label\":\"impact force (mN)\",\"formatter\":{\"id\":\"dbc7db7f-4395-40fb-9637-c8f3f71334ec\",\"type\":\"BasicTickFormatter\"},\"plot\":{\"id\":\"b2656297-fb18-449e-972a-fb8f1e15cf9f\",\"subtype\":\"Figure\",\"type\":\"Plot\"},\"ticker\":{\"id\":\"475509c4-7a6f-42ec-94ee-6e6815c36017\",\"type\":\"BasicTicker\"}},\"id\":\"4f37fed8-586c-4aaa-9e68-fac0ab28940c\",\"type\":\"LinearAxis\"},{\"attributes\":{},\"id\":\"535d3fb5-8e5f-4095-92d2-f6ace1043984\",\"type\":\"ResetTool\"},{\"attributes\":{},\"id\":\"dbc7db7f-4395-40fb-9637-c8f3f71334ec\",\"type\":\"BasicTickFormatter\"},{\"attributes\":{},\"id\":\"fb55b00f-bf0b-47ea-beba-1565bd7295b8\",\"type\":\"Selection\"},{\"attributes\":{},\"id\":\"67f6b2d1-bbc4-4b79-b47e-df7c6d19a577\",\"type\":\"SaveTool\"},{\"attributes\":{},\"id\":\"9652e9e5-93ba-4bad-8360-535254e404a0\",\"type\":\"UnionRenderers\"},{\"attributes\":{\"overlay\":{\"id\":\"50d322aa-9a54-4bff-ae4c-01752f42dbd0\",\"type\":\"BoxAnnotation\"}},\"id\":\"884d7a86-5a17-4e9a-aefa-8a315b4b28e5\",\"type\":\"BoxZoomTool\"},{\"attributes\":{},\"id\":\"4e8a64e1-157e-4f00-951c-428e913f130e\",\"type\":\"CategoricalTicker\"},{\"attributes\":{},\"id\":\"be355f7a-25f7-4deb-a62a-ad2c178bb1f7\",\"type\":\"WheelZoomTool\"},{\"attributes\":{\"fill_color\":{\"field\":\"age\",\"transform\":{\"id\":\"7753e2c5-4b59-475c-9257-aa765151ef0e\",\"type\":\"CategoricalColorMapper\"}},\"line_color\":{\"field\":\"age\",\"transform\":{\"id\":\"7753e2c5-4b59-475c-9257-aa765151ef0e\",\"type\":\"CategoricalColorMapper\"}},\"x\":{\"field\":\"cat\",\"transform\":{\"id\":\"7a540785-90c4-4981-b013-46f180cd33a5\",\"type\":\"Jitter\"}},\"y\":{\"field\":\"impact force (mN)\"}},\"id\":\"e3eac8e1-a3e2-46bd-8b99-045995512659\",\"type\":\"Circle\"},{\"attributes\":{\"axis_label\":\"ID\",\"formatter\":{\"id\":\"fff6c33b-bbed-4b22-9a3e-27337c128a31\",\"type\":\"CategoricalTickFormatter\"},\"plot\":{\"id\":\"b2656297-fb18-449e-972a-fb8f1e15cf9f\",\"subtype\":\"Figure\",\"type\":\"Plot\"},\"ticker\":{\"id\":\"4e8a64e1-157e-4f00-951c-428e913f130e\",\"type\":\"CategoricalTicker\"}},\"id\":\"17636893-7220-40c4-a837-a10563fa54d0\",\"type\":\"CategoricalAxis\"},{\"attributes\":{},\"id\":\"73fa4717-e149-4ebb-988d-2107df49c2fa\",\"type\":\"PanTool\"},{\"attributes\":{},\"id\":\"fff6c33b-bbed-4b22-9a3e-27337c128a31\",\"type\":\"CategoricalTickFormatter\"}],\"root_ids\":[\"b2656297-fb18-449e-972a-fb8f1e15cf9f\"]},\"title\":\"Bokeh Application\",\"version\":\"0.13.0\"}};\n",
       "  var render_items = [{\"docid\":\"2b02f474-c9ac-4f43-9ab8-89a5af383b86\",\"roots\":{\"b2656297-fb18-449e-972a-fb8f1e15cf9f\":\"8c0d8024-64ae-4700-bbc7-6773bee90594\"}}];\n",
       "  root.Bokeh.embed.embed_items_notebook(docs_json, render_items);\n",
       "\n",
       "  }\n",
       "  if (root.Bokeh !== undefined) {\n",
       "    embed_document(root);\n",
       "  } else {\n",
       "    var attempts = 0;\n",
       "    var timer = setInterval(function(root) {\n",
       "      if (root.Bokeh !== undefined) {\n",
       "        embed_document(root);\n",
       "        clearInterval(timer);\n",
       "      }\n",
       "      attempts++;\n",
       "      if (attempts > 100) {\n",
       "        console.log(\"Bokeh: ERROR: Unable to run BokehJS code because BokehJS library is missing\")\n",
       "        clearInterval(timer);\n",
       "      }\n",
       "    }, 10, root)\n",
       "  }\n",
       "})(window);"
      ],
      "application/vnd.bokehjs_exec.v0+json": ""
     },
     "metadata": {
      "application/vnd.bokehjs_exec.v0+json": {
       "id": "b2656297-fb18-449e-972a-fb8f1e15cf9f"
      }
     },
     "output_type": "display_data"
    }
   ],
   "source": [
    "p = bebi103.viz.jitter( data=df, \n",
    "                        cats='ID', \n",
    "                        val='impact force (mN)', \n",
    "                        p=None, \n",
    "                        horizontal=False, \n",
    "                        x_axis_label='ID', \n",
    "                        y_axis_label='impact force (mN)', \n",
    "                        title=None, \n",
    "                        plot_height=300, \n",
    "                        plot_width=400, \n",
    "                        palette=['#4e79a7', '#f28e2b', '#e15759', '#76b7b2', '#59a14f',\n",
    "                                 '#edc948', '#b07aa1', '#ff9da7', '#9c755f', '#bab0ac'],\n",
    "                        width=0.4, \n",
    "                        order=None, \n",
    "                        val_axis_type='linear', \n",
    "                        show_legend=False,\n",
    "                        color_column='age', \n",
    "                        tooltips=None)\n",
    "bokeh.io.show(p) "
   ]
  },
  {
   "cell_type": "code",
   "execution_count": 5,
   "metadata": {},
   "outputs": [
    {
     "data": {
      "text/html": [
       "\n",
       "\n",
       "\n",
       "\n",
       "\n",
       "\n",
       "  <div class=\"bk-root\" id=\"a4e473e9-be91-4d5d-9363-6866750a47c7\"></div>\n"
      ]
     },
     "metadata": {},
     "output_type": "display_data"
    },
    {
     "data": {
      "application/javascript": [
       "(function(root) {\n",
       "  function embed_document(root) {\n",
       "    \n",
       "  var docs_json = {\"61714a73-2902-4b3c-bcad-62b1b4deacff\":{\"roots\":{\"references\":[{\"attributes\":{},\"id\":\"35441425-457f-49e3-8064-2a9daf55d210\",\"type\":\"CategoricalTicker\"},{\"attributes\":{\"data_source\":{\"id\":\"dc077ecf-3c36-461f-94f9-82a14b89108a\",\"type\":\"ColumnDataSource\"},\"glyph\":{\"id\":\"db0dbbc4-1020-4048-b540-d9ace56c59ee\",\"type\":\"Circle\"},\"hover_glyph\":null,\"muted_glyph\":null,\"nonselection_glyph\":{\"id\":\"3e36c860-be09-4b93-acdc-f3d46b8f0e5f\",\"type\":\"Circle\"},\"selection_glyph\":null,\"view\":{\"id\":\"c7526047-abdb-40a3-8108-7d92236475ad\",\"type\":\"CDSView\"}},\"id\":\"51cb37a9-4ab3-40ed-a613-6ef48b2a1bca\",\"type\":\"GlyphRenderer\"},{\"attributes\":{\"axis_label\":\"ID\",\"formatter\":{\"id\":\"4691f01e-a484-4e0f-a4b5-096cf7e3fc63\",\"type\":\"CategoricalTickFormatter\"},\"plot\":{\"id\":\"84bca128-e6f3-42b2-9d1f-e6575d33efc0\",\"subtype\":\"Figure\",\"type\":\"Plot\"},\"ticker\":{\"id\":\"35441425-457f-49e3-8064-2a9daf55d210\",\"type\":\"CategoricalTicker\"}},\"id\":\"bfa6663a-100c-471d-8ed7-d88aa5bb2f22\",\"type\":\"CategoricalAxis\"},{\"attributes\":{\"fill_color\":{\"field\":\"cat\",\"transform\":{\"id\":\"f8345576-89d8-4e2f-a3b0-2e4462ad77ea\",\"type\":\"CategoricalColorMapper\"}},\"line_color\":{\"field\":\"cat\",\"transform\":{\"id\":\"f8345576-89d8-4e2f-a3b0-2e4462ad77ea\",\"type\":\"CategoricalColorMapper\"}},\"x\":{\"field\":\"cat\",\"transform\":{\"id\":\"c4e40b79-a831-41dd-8191-e3e1dba5e420\",\"type\":\"Jitter\"}},\"y\":{\"field\":\"impact force (mN)\"}},\"id\":\"db0dbbc4-1020-4048-b540-d9ace56c59ee\",\"type\":\"Circle\"},{\"attributes\":{},\"id\":\"575eb82e-4556-4c04-8545-1f25542a337e\",\"type\":\"LinearScale\"},{\"attributes\":{\"grid_line_color\":{\"value\":null},\"plot\":{\"id\":\"84bca128-e6f3-42b2-9d1f-e6575d33efc0\",\"subtype\":\"Figure\",\"type\":\"Plot\"},\"ticker\":{\"id\":\"35441425-457f-49e3-8064-2a9daf55d210\",\"type\":\"CategoricalTicker\"}},\"id\":\"464b73f2-4300-48c3-81ae-ff218fcf47b6\",\"type\":\"Grid\"},{\"attributes\":{},\"id\":\"79eec889-5be1-4057-8bfd-d82b73800060\",\"type\":\"SaveTool\"},{\"attributes\":{},\"id\":\"5c5ed9ea-b723-4a82-9739-680b5c0c4c5d\",\"type\":\"PanTool\"},{\"attributes\":{\"label\":{\"field\":\"__label\"},\"renderers\":[{\"id\":\"51cb37a9-4ab3-40ed-a613-6ef48b2a1bca\",\"type\":\"GlyphRenderer\"}]},\"id\":\"e138f84b-c45b-4317-b670-e05b67c0c6b1\",\"type\":\"LegendItem\"},{\"attributes\":{\"bottom_units\":\"screen\",\"fill_alpha\":{\"value\":0.5},\"fill_color\":{\"value\":\"lightgrey\"},\"left_units\":\"screen\",\"level\":\"overlay\",\"line_alpha\":{\"value\":1.0},\"line_color\":{\"value\":\"black\"},\"line_dash\":[4,4],\"line_width\":{\"value\":2},\"plot\":null,\"render_mode\":\"css\",\"right_units\":\"screen\",\"top_units\":\"screen\"},\"id\":\"817dd5c5-ea67-48ff-8534-4857f60eb775\",\"type\":\"BoxAnnotation\"},{\"attributes\":{},\"id\":\"0027f476-c5b5-4ddb-bd5c-3cfd0765a0aa\",\"type\":\"HelpTool\"},{\"attributes\":{},\"id\":\"622047e4-c19e-4860-9b07-ab05f146d47f\",\"type\":\"ResetTool\"},{\"attributes\":{\"source\":{\"id\":\"dc077ecf-3c36-461f-94f9-82a14b89108a\",\"type\":\"ColumnDataSource\"}},\"id\":\"c7526047-abdb-40a3-8108-7d92236475ad\",\"type\":\"CDSView\"},{\"attributes\":{},\"id\":\"b6524a83-1e16-4471-a8e1-6d982fc7ac34\",\"type\":\"BasicTickFormatter\"},{\"attributes\":{\"fill_alpha\":{\"value\":0.1},\"fill_color\":{\"value\":\"#1f77b4\"},\"line_alpha\":{\"value\":0.1},\"line_color\":{\"value\":\"#1f77b4\"},\"x\":{\"field\":\"cat\",\"transform\":{\"id\":\"c4e40b79-a831-41dd-8191-e3e1dba5e420\",\"type\":\"Jitter\"}},\"y\":{\"field\":\"impact force (mN)\"}},\"id\":\"3e36c860-be09-4b93-acdc-f3d46b8f0e5f\",\"type\":\"Circle\"},{\"attributes\":{\"overlay\":{\"id\":\"817dd5c5-ea67-48ff-8534-4857f60eb775\",\"type\":\"BoxAnnotation\"}},\"id\":\"eadf4e94-bd75-45b8-bc0e-e2b88747b358\",\"type\":\"BoxZoomTool\"},{\"attributes\":{\"items\":[{\"id\":\"e138f84b-c45b-4317-b670-e05b67c0c6b1\",\"type\":\"LegendItem\"}],\"plot\":{\"id\":\"84bca128-e6f3-42b2-9d1f-e6575d33efc0\",\"subtype\":\"Figure\",\"type\":\"Plot\"}},\"id\":\"4e2c8b83-07e5-4c65-8762-6b0b61915198\",\"type\":\"Legend\"},{\"attributes\":{},\"id\":\"7c7642eb-d893-4401-92cd-1cbc05328d23\",\"type\":\"WheelZoomTool\"},{\"attributes\":{},\"id\":\"fb8fc34a-8329-4efd-bc44-61777b424d6e\",\"type\":\"CategoricalScale\"},{\"attributes\":{\"callback\":null,\"factors\":[\"I\",\"II\",\"III\",\"IV\"]},\"id\":\"f735161a-8327-40c8-8619-a510b1326880\",\"type\":\"FactorRange\"},{\"attributes\":{},\"id\":\"4691f01e-a484-4e0f-a4b5-096cf7e3fc63\",\"type\":\"CategoricalTickFormatter\"},{\"attributes\":{\"range\":{\"id\":\"f735161a-8327-40c8-8619-a510b1326880\",\"type\":\"FactorRange\"},\"width\":0.4},\"id\":\"c4e40b79-a831-41dd-8191-e3e1dba5e420\",\"type\":\"Jitter\"},{\"attributes\":{\"active_drag\":\"auto\",\"active_inspect\":\"auto\",\"active_multi\":null,\"active_scroll\":\"auto\",\"active_tap\":\"auto\",\"tools\":[{\"id\":\"5c5ed9ea-b723-4a82-9739-680b5c0c4c5d\",\"type\":\"PanTool\"},{\"id\":\"7c7642eb-d893-4401-92cd-1cbc05328d23\",\"type\":\"WheelZoomTool\"},{\"id\":\"eadf4e94-bd75-45b8-bc0e-e2b88747b358\",\"type\":\"BoxZoomTool\"},{\"id\":\"79eec889-5be1-4057-8bfd-d82b73800060\",\"type\":\"SaveTool\"},{\"id\":\"622047e4-c19e-4860-9b07-ab05f146d47f\",\"type\":\"ResetTool\"},{\"id\":\"0027f476-c5b5-4ddb-bd5c-3cfd0765a0aa\",\"type\":\"HelpTool\"}]},\"id\":\"2945e663-b03e-4b40-8eff-18fdf0ee79c2\",\"type\":\"Toolbar\"},{\"attributes\":{\"callback\":null},\"id\":\"f1ceef3c-5121-42fb-871f-ad807dee0fe3\",\"type\":\"DataRange1d\"},{\"attributes\":{\"below\":[{\"id\":\"bfa6663a-100c-471d-8ed7-d88aa5bb2f22\",\"type\":\"CategoricalAxis\"}],\"left\":[{\"id\":\"0919d8bf-a7ff-4d3f-95f4-95f3321a0855\",\"type\":\"LinearAxis\"}],\"plot_height\":300,\"plot_width\":400,\"renderers\":[{\"id\":\"bfa6663a-100c-471d-8ed7-d88aa5bb2f22\",\"type\":\"CategoricalAxis\"},{\"id\":\"464b73f2-4300-48c3-81ae-ff218fcf47b6\",\"type\":\"Grid\"},{\"id\":\"0919d8bf-a7ff-4d3f-95f4-95f3321a0855\",\"type\":\"LinearAxis\"},{\"id\":\"436707fb-19f3-4e39-8f06-1b78dbfb08ae\",\"type\":\"Grid\"},{\"id\":\"817dd5c5-ea67-48ff-8534-4857f60eb775\",\"type\":\"BoxAnnotation\"},{\"id\":\"4e2c8b83-07e5-4c65-8762-6b0b61915198\",\"type\":\"Legend\"},{\"id\":\"51cb37a9-4ab3-40ed-a613-6ef48b2a1bca\",\"type\":\"GlyphRenderer\"}],\"title\":null,\"toolbar\":{\"id\":\"2945e663-b03e-4b40-8eff-18fdf0ee79c2\",\"type\":\"Toolbar\"},\"x_range\":{\"id\":\"f735161a-8327-40c8-8619-a510b1326880\",\"type\":\"FactorRange\"},\"x_scale\":{\"id\":\"fb8fc34a-8329-4efd-bc44-61777b424d6e\",\"type\":\"CategoricalScale\"},\"y_range\":{\"id\":\"f1ceef3c-5121-42fb-871f-ad807dee0fe3\",\"type\":\"DataRange1d\"},\"y_scale\":{\"id\":\"575eb82e-4556-4c04-8545-1f25542a337e\",\"type\":\"LinearScale\"}},\"id\":\"84bca128-e6f3-42b2-9d1f-e6575d33efc0\",\"subtype\":\"Figure\",\"type\":\"Plot\"},{\"attributes\":{},\"id\":\"91c47418-6800-43a5-88e4-0b7b1e7f20d0\",\"type\":\"Selection\"},{\"attributes\":{\"callback\":null,\"data\":{\"ID\":[\"I\",\"I\",\"I\",\"I\",\"I\",\"I\",\"I\",\"I\",\"I\",\"I\",\"I\",\"I\",\"I\",\"I\",\"I\",\"I\",\"I\",\"I\",\"I\",\"I\",\"II\",\"II\",\"II\",\"II\",\"II\",\"II\",\"II\",\"II\",\"II\",\"II\",\"II\",\"II\",\"II\",\"II\",\"II\",\"II\",\"II\",\"II\",\"II\",\"II\",\"III\",\"III\",\"III\",\"III\",\"III\",\"III\",\"III\",\"III\",\"III\",\"III\",\"III\",\"III\",\"III\",\"III\",\"III\",\"III\",\"III\",\"III\",\"III\",\"III\",\"IV\",\"IV\",\"IV\",\"IV\",\"IV\",\"IV\",\"IV\",\"IV\",\"IV\",\"IV\",\"IV\",\"IV\",\"IV\",\"IV\",\"IV\",\"IV\",\"IV\",\"IV\",\"IV\",\"IV\"],\"__label\":[\"I\",\"I\",\"I\",\"I\",\"I\",\"I\",\"I\",\"I\",\"I\",\"I\",\"I\",\"I\",\"I\",\"I\",\"I\",\"I\",\"I\",\"I\",\"I\",\"I\",\"II\",\"II\",\"II\",\"II\",\"II\",\"II\",\"II\",\"II\",\"II\",\"II\",\"II\",\"II\",\"II\",\"II\",\"II\",\"II\",\"II\",\"II\",\"II\",\"II\",\"III\",\"III\",\"III\",\"III\",\"III\",\"III\",\"III\",\"III\",\"III\",\"III\",\"III\",\"III\",\"III\",\"III\",\"III\",\"III\",\"III\",\"III\",\"III\",\"III\",\"IV\",\"IV\",\"IV\",\"IV\",\"IV\",\"IV\",\"IV\",\"IV\",\"IV\",\"IV\",\"IV\",\"IV\",\"IV\",\"IV\",\"IV\",\"IV\",\"IV\",\"IV\",\"IV\",\"IV\"],\"cat\":[\"I\",\"I\",\"I\",\"I\",\"I\",\"I\",\"I\",\"I\",\"I\",\"I\",\"I\",\"I\",\"I\",\"I\",\"I\",\"I\",\"I\",\"I\",\"I\",\"I\",\"II\",\"II\",\"II\",\"II\",\"II\",\"II\",\"II\",\"II\",\"II\",\"II\",\"II\",\"II\",\"II\",\"II\",\"II\",\"II\",\"II\",\"II\",\"II\",\"II\",\"III\",\"III\",\"III\",\"III\",\"III\",\"III\",\"III\",\"III\",\"III\",\"III\",\"III\",\"III\",\"III\",\"III\",\"III\",\"III\",\"III\",\"III\",\"III\",\"III\",\"IV\",\"IV\",\"IV\",\"IV\",\"IV\",\"IV\",\"IV\",\"IV\",\"IV\",\"IV\",\"IV\",\"IV\",\"IV\",\"IV\",\"IV\",\"IV\",\"IV\",\"IV\",\"IV\",\"IV\"],\"impact force (mN)\":[1205,2527,1745,1556,493,2276,556,1928,2641,1897,1891,1545,1307,1692,1543,1282,775,2032,1240,473,1612,605,327,946,541,1539,529,628,1453,297,703,269,751,245,1182,515,435,383,457,730,614,414,324,776,611,544,538,579,806,459,458,626,621,544,535,385,401,614,665,488,172,142,37,453,355,22,502,273,720,582,198,198,597,516,815,402,605,711,614,468]},\"selected\":{\"id\":\"91c47418-6800-43a5-88e4-0b7b1e7f20d0\",\"type\":\"Selection\"},\"selection_policy\":{\"id\":\"9fcc9378-4773-4c6e-848c-d33929965554\",\"type\":\"UnionRenderers\"}},\"id\":\"dc077ecf-3c36-461f-94f9-82a14b89108a\",\"type\":\"ColumnDataSource\"},{\"attributes\":{\"dimension\":1,\"plot\":{\"id\":\"84bca128-e6f3-42b2-9d1f-e6575d33efc0\",\"subtype\":\"Figure\",\"type\":\"Plot\"},\"ticker\":{\"id\":\"a75a0bce-f01d-4ab3-809c-d41b095d1f1a\",\"type\":\"BasicTicker\"}},\"id\":\"436707fb-19f3-4e39-8f06-1b78dbfb08ae\",\"type\":\"Grid\"},{\"attributes\":{},\"id\":\"a75a0bce-f01d-4ab3-809c-d41b095d1f1a\",\"type\":\"BasicTicker\"},{\"attributes\":{\"axis_label\":\"impact force (mN)\",\"formatter\":{\"id\":\"b6524a83-1e16-4471-a8e1-6d982fc7ac34\",\"type\":\"BasicTickFormatter\"},\"plot\":{\"id\":\"84bca128-e6f3-42b2-9d1f-e6575d33efc0\",\"subtype\":\"Figure\",\"type\":\"Plot\"},\"ticker\":{\"id\":\"a75a0bce-f01d-4ab3-809c-d41b095d1f1a\",\"type\":\"BasicTicker\"}},\"id\":\"0919d8bf-a7ff-4d3f-95f4-95f3321a0855\",\"type\":\"LinearAxis\"},{\"attributes\":{},\"id\":\"9fcc9378-4773-4c6e-848c-d33929965554\",\"type\":\"UnionRenderers\"},{\"attributes\":{\"factors\":[\"I\",\"II\",\"III\",\"IV\"],\"palette\":[\"#4e79a7\",\"#f28e2b\",\"#e15759\",\"#76b7b2\",\"#59a14f\",\"#edc948\",\"#b07aa1\",\"#ff9da7\",\"#9c755f\",\"#bab0ac\"]},\"id\":\"f8345576-89d8-4e2f-a3b0-2e4462ad77ea\",\"type\":\"CategoricalColorMapper\"}],\"root_ids\":[\"84bca128-e6f3-42b2-9d1f-e6575d33efc0\"]},\"title\":\"Bokeh Application\",\"version\":\"0.13.0\"}};\n",
       "  var render_items = [{\"docid\":\"61714a73-2902-4b3c-bcad-62b1b4deacff\",\"roots\":{\"84bca128-e6f3-42b2-9d1f-e6575d33efc0\":\"a4e473e9-be91-4d5d-9363-6866750a47c7\"}}];\n",
       "  root.Bokeh.embed.embed_items_notebook(docs_json, render_items);\n",
       "\n",
       "  }\n",
       "  if (root.Bokeh !== undefined) {\n",
       "    embed_document(root);\n",
       "  } else {\n",
       "    var attempts = 0;\n",
       "    var timer = setInterval(function(root) {\n",
       "      if (root.Bokeh !== undefined) {\n",
       "        embed_document(root);\n",
       "        clearInterval(timer);\n",
       "      }\n",
       "      attempts++;\n",
       "      if (attempts > 100) {\n",
       "        console.log(\"Bokeh: ERROR: Unable to run BokehJS code because BokehJS library is missing\")\n",
       "        clearInterval(timer);\n",
       "      }\n",
       "    }, 10, root)\n",
       "  }\n",
       "})(window);"
      ],
      "application/vnd.bokehjs_exec.v0+json": ""
     },
     "metadata": {
      "application/vnd.bokehjs_exec.v0+json": {
       "id": "84bca128-e6f3-42b2-9d1f-e6575d33efc0"
      }
     },
     "output_type": "display_data"
    }
   ],
   "source": [
    "p = bebi103.viz.jitter( data=df, \n",
    "                        cats='ID', \n",
    "                        val='impact force (mN)', \n",
    "                        p=None, \n",
    "                        horizontal=False, \n",
    "                        x_axis_label='ID', \n",
    "                        y_axis_label='impact force (mN)', \n",
    "                        title=None, \n",
    "                        plot_height=300, \n",
    "                        plot_width=400, \n",
    "                        palette=['#4e79a7', '#f28e2b', '#e15759', '#76b7b2', '#59a14f',\n",
    "                                 '#edc948', '#b07aa1', '#ff9da7', '#9c755f', '#bab0ac'],\n",
    "                        width=0.4, \n",
    "                        order=None, \n",
    "                        val_axis_type='linear', \n",
    "                        show_legend=True,\n",
    "                        color_column=None, \n",
    "                        tooltips=None)\n",
    "bokeh.io.show(p) "
   ]
  },
  {
   "cell_type": "code",
   "execution_count": 6,
   "metadata": {},
   "outputs": [
    {
     "data": {
      "text/html": [
       "\n",
       "\n",
       "\n",
       "\n",
       "\n",
       "\n",
       "  <div class=\"bk-root\" id=\"e8d38c7e-b012-4107-a5df-39c874ae20d1\"></div>\n"
      ]
     },
     "metadata": {},
     "output_type": "display_data"
    },
    {
     "data": {
      "application/javascript": [
       "(function(root) {\n",
       "  function embed_document(root) {\n",
       "    \n",
       "  var docs_json = {\"860d326e-bb73-4108-96f1-d8f97867430d\":{\"roots\":{\"references\":[{\"attributes\":{\"callback\":null,\"factors\":[\"I\",\"II\",\"III\",\"IV\"]},\"id\":\"3a5526db-2417-497d-acd8-221daf89d032\",\"type\":\"FactorRange\"},{\"attributes\":{},\"id\":\"f8121ad9-fb07-4302-a6de-80ba2ebe8d06\",\"type\":\"UnionRenderers\"},{\"attributes\":{\"below\":[{\"id\":\"aeef717c-1032-4e04-951d-e92c1d65187d\",\"type\":\"CategoricalAxis\"}],\"left\":[{\"id\":\"db56b44e-d01c-4c55-83b4-e033f0c867aa\",\"type\":\"LinearAxis\"}],\"plot_height\":300,\"plot_width\":400,\"renderers\":[{\"id\":\"aeef717c-1032-4e04-951d-e92c1d65187d\",\"type\":\"CategoricalAxis\"},{\"id\":\"c64c3d9b-775d-4d70-9d59-6cca0c04c5b1\",\"type\":\"Grid\"},{\"id\":\"db56b44e-d01c-4c55-83b4-e033f0c867aa\",\"type\":\"LinearAxis\"},{\"id\":\"953e1ed4-e967-4a7d-8bb3-c1cd4324b8ac\",\"type\":\"Grid\"},{\"id\":\"d2b7a2ae-101f-46e3-8ffc-083f3e94a902\",\"type\":\"BoxAnnotation\"},{\"id\":\"0ed9100f-d1aa-4c34-be4f-45f248205a56\",\"type\":\"Legend\"},{\"id\":\"81947a6f-e7ec-4f10-b4a3-1117a0e68a77\",\"type\":\"GlyphRenderer\"}],\"title\":null,\"toolbar\":{\"id\":\"19f8c044-8cd2-485a-a78d-f27e674af4d1\",\"type\":\"Toolbar\"},\"x_range\":{\"id\":\"3a5526db-2417-497d-acd8-221daf89d032\",\"type\":\"FactorRange\"},\"x_scale\":{\"id\":\"96466e26-85eb-4586-bea4-b3701022e728\",\"type\":\"CategoricalScale\"},\"y_range\":{\"id\":\"9a23a6b8-2d90-445a-a9d0-30440fd8aabe\",\"type\":\"DataRange1d\"},\"y_scale\":{\"id\":\"c4ca2507-9dab-40f4-ae1c-2283092f88b5\",\"type\":\"LinearScale\"}},\"id\":\"e5ee3a51-c914-4961-974e-f167dc83b2e3\",\"subtype\":\"Figure\",\"type\":\"Plot\"},{\"attributes\":{\"items\":[{\"id\":\"a7aafe3d-c1d6-4033-901c-2538d32c53ea\",\"type\":\"LegendItem\"}],\"plot\":{\"id\":\"e5ee3a51-c914-4961-974e-f167dc83b2e3\",\"subtype\":\"Figure\",\"type\":\"Plot\"}},\"id\":\"0ed9100f-d1aa-4c34-be4f-45f248205a56\",\"type\":\"Legend\"},{\"attributes\":{\"range\":{\"id\":\"3a5526db-2417-497d-acd8-221daf89d032\",\"type\":\"FactorRange\"},\"width\":0.4},\"id\":\"ad91b842-7130-430f-984a-0f33283d168b\",\"type\":\"Jitter\"},{\"attributes\":{\"active_drag\":\"auto\",\"active_inspect\":\"auto\",\"active_multi\":null,\"active_scroll\":\"auto\",\"active_tap\":\"auto\",\"tools\":[{\"id\":\"e465e6b8-875b-4f8c-8c87-a0e6ba2af0c1\",\"type\":\"PanTool\"},{\"id\":\"c816f608-a24b-4eaf-8b04-b804592022dd\",\"type\":\"WheelZoomTool\"},{\"id\":\"2d9a86da-2b4d-445b-b2df-763b7ccde0e4\",\"type\":\"BoxZoomTool\"},{\"id\":\"31944331-fd18-4b29-9d9d-005d59382551\",\"type\":\"SaveTool\"},{\"id\":\"16db4582-b60c-49e0-84ad-8ecbff39bc74\",\"type\":\"ResetTool\"},{\"id\":\"e9311a4f-130e-4169-80b4-56cf40c16b0d\",\"type\":\"HelpTool\"}]},\"id\":\"19f8c044-8cd2-485a-a78d-f27e674af4d1\",\"type\":\"Toolbar\"},{\"attributes\":{\"fill_color\":{\"field\":\"trial number\",\"transform\":{\"id\":\"f2c7ba3b-a3be-409e-af2f-3c4f803e99a1\",\"type\":\"CategoricalColorMapper\"}},\"line_color\":{\"field\":\"trial number\",\"transform\":{\"id\":\"f2c7ba3b-a3be-409e-af2f-3c4f803e99a1\",\"type\":\"CategoricalColorMapper\"}},\"x\":{\"field\":\"cat\",\"transform\":{\"id\":\"ad91b842-7130-430f-984a-0f33283d168b\",\"type\":\"Jitter\"}},\"y\":{\"field\":\"impact force (mN)\"}},\"id\":\"e6cb163b-5189-4870-9945-84e2c72e1b46\",\"type\":\"Circle\"},{\"attributes\":{\"callback\":null},\"id\":\"9a23a6b8-2d90-445a-a9d0-30440fd8aabe\",\"type\":\"DataRange1d\"},{\"attributes\":{\"fill_alpha\":{\"value\":0.1},\"fill_color\":{\"value\":\"#1f77b4\"},\"line_alpha\":{\"value\":0.1},\"line_color\":{\"value\":\"#1f77b4\"},\"x\":{\"field\":\"cat\",\"transform\":{\"id\":\"ad91b842-7130-430f-984a-0f33283d168b\",\"type\":\"Jitter\"}},\"y\":{\"field\":\"impact force (mN)\"}},\"id\":\"9e1ed1c6-2cd2-4dd9-aa2f-dc2a4fda7974\",\"type\":\"Circle\"},{\"attributes\":{\"axis_label\":\"impact force (mN)\",\"formatter\":{\"id\":\"81e1288c-fa6c-4c73-b09f-cd2c1e1d7451\",\"type\":\"BasicTickFormatter\"},\"plot\":{\"id\":\"e5ee3a51-c914-4961-974e-f167dc83b2e3\",\"subtype\":\"Figure\",\"type\":\"Plot\"},\"ticker\":{\"id\":\"de3d80dd-9d48-4099-89f8-e91c160a3347\",\"type\":\"BasicTicker\"}},\"id\":\"db56b44e-d01c-4c55-83b4-e033f0c867aa\",\"type\":\"LinearAxis\"},{\"attributes\":{\"data_source\":{\"id\":\"77ecadb6-4f6a-44b6-ba24-477a59fe4490\",\"type\":\"ColumnDataSource\"},\"glyph\":{\"id\":\"e6cb163b-5189-4870-9945-84e2c72e1b46\",\"type\":\"Circle\"},\"hover_glyph\":null,\"muted_glyph\":null,\"nonselection_glyph\":{\"id\":\"9e1ed1c6-2cd2-4dd9-aa2f-dc2a4fda7974\",\"type\":\"Circle\"},\"selection_glyph\":null,\"view\":{\"id\":\"e43d45c1-5626-4ef7-9099-dea60dfb5bbf\",\"type\":\"CDSView\"}},\"id\":\"81947a6f-e7ec-4f10-b4a3-1117a0e68a77\",\"type\":\"GlyphRenderer\"},{\"attributes\":{},\"id\":\"c4ca2507-9dab-40f4-ae1c-2283092f88b5\",\"type\":\"LinearScale\"},{\"attributes\":{\"source\":{\"id\":\"77ecadb6-4f6a-44b6-ba24-477a59fe4490\",\"type\":\"ColumnDataSource\"}},\"id\":\"e43d45c1-5626-4ef7-9099-dea60dfb5bbf\",\"type\":\"CDSView\"},{\"attributes\":{},\"id\":\"96466e26-85eb-4586-bea4-b3701022e728\",\"type\":\"CategoricalScale\"},{\"attributes\":{},\"id\":\"81e1288c-fa6c-4c73-b09f-cd2c1e1d7451\",\"type\":\"BasicTickFormatter\"},{\"attributes\":{\"grid_line_color\":{\"value\":null},\"plot\":{\"id\":\"e5ee3a51-c914-4961-974e-f167dc83b2e3\",\"subtype\":\"Figure\",\"type\":\"Plot\"},\"ticker\":{\"id\":\"5249e397-8c31-45ba-ba07-6a9868cf8129\",\"type\":\"CategoricalTicker\"}},\"id\":\"c64c3d9b-775d-4d70-9d59-6cca0c04c5b1\",\"type\":\"Grid\"},{\"attributes\":{},\"id\":\"8509d080-bba9-4af9-9dd4-a27685d33561\",\"type\":\"CategoricalTickFormatter\"},{\"attributes\":{\"axis_label\":\"ID\",\"formatter\":{\"id\":\"8509d080-bba9-4af9-9dd4-a27685d33561\",\"type\":\"CategoricalTickFormatter\"},\"plot\":{\"id\":\"e5ee3a51-c914-4961-974e-f167dc83b2e3\",\"subtype\":\"Figure\",\"type\":\"Plot\"},\"ticker\":{\"id\":\"5249e397-8c31-45ba-ba07-6a9868cf8129\",\"type\":\"CategoricalTicker\"}},\"id\":\"aeef717c-1032-4e04-951d-e92c1d65187d\",\"type\":\"CategoricalAxis\"},{\"attributes\":{},\"id\":\"8f6e0917-26ba-4695-be7b-299199fdf5d7\",\"type\":\"Selection\"},{\"attributes\":{},\"id\":\"5249e397-8c31-45ba-ba07-6a9868cf8129\",\"type\":\"CategoricalTicker\"},{\"attributes\":{\"label\":{\"field\":\"__label\"},\"renderers\":[{\"id\":\"81947a6f-e7ec-4f10-b4a3-1117a0e68a77\",\"type\":\"GlyphRenderer\"}]},\"id\":\"a7aafe3d-c1d6-4033-901c-2538d32c53ea\",\"type\":\"LegendItem\"},{\"attributes\":{\"callback\":null,\"data\":{\"ID\":[\"I\",\"I\",\"I\",\"I\",\"I\",\"I\",\"I\",\"I\",\"I\",\"I\",\"I\",\"I\",\"I\",\"I\",\"I\",\"I\",\"I\",\"I\",\"I\",\"I\",\"II\",\"II\",\"II\",\"II\",\"II\",\"II\",\"II\",\"II\",\"II\",\"II\",\"II\",\"II\",\"II\",\"II\",\"II\",\"II\",\"II\",\"II\",\"II\",\"II\",\"III\",\"III\",\"III\",\"III\",\"III\",\"III\",\"III\",\"III\",\"III\",\"III\",\"III\",\"III\",\"III\",\"III\",\"III\",\"III\",\"III\",\"III\",\"III\",\"III\",\"IV\",\"IV\",\"IV\",\"IV\",\"IV\",\"IV\",\"IV\",\"IV\",\"IV\",\"IV\",\"IV\",\"IV\",\"IV\",\"IV\",\"IV\",\"IV\",\"IV\",\"IV\",\"IV\",\"IV\"],\"__label\":[\"3\",\"4\",\"1\",\"2\",\"3\",\"4\",\"1\",\"2\",\"3\",\"4\",\"1\",\"2\",\"3\",\"4\",\"5\",\"1\",\"2\",\"3\",\"4\",\"5\",\"1\",\"2\",\"3\",\"4\",\"1\",\"2\",\"3\",\"4\",\"1\",\"2\",\"3\",\"4\",\"1\",\"2\",\"1\",\"2\",\"1\",\"2\",\"3\",\"1\",\"1\",\"2\",\"3\",\"1\",\"2\",\"3\",\"1\",\"2\",\"1\",\"2\",\"3\",\"4\",\"1\",\"2\",\"3\",\"4\",\"1\",\"2\",\"3\",\"4\",\"2\",\"3\",\"4\",\"1\",\"2\",\"3\",\"1\",\"1\",\"2\",\"3\",\"4\",\"1\",\"1\",\"2\",\"3\",\"4\",\"1\",\"2\",\"3\",\"4\"],\"cat\":[\"I\",\"I\",\"I\",\"I\",\"I\",\"I\",\"I\",\"I\",\"I\",\"I\",\"I\",\"I\",\"I\",\"I\",\"I\",\"I\",\"I\",\"I\",\"I\",\"I\",\"II\",\"II\",\"II\",\"II\",\"II\",\"II\",\"II\",\"II\",\"II\",\"II\",\"II\",\"II\",\"II\",\"II\",\"II\",\"II\",\"II\",\"II\",\"II\",\"II\",\"III\",\"III\",\"III\",\"III\",\"III\",\"III\",\"III\",\"III\",\"III\",\"III\",\"III\",\"III\",\"III\",\"III\",\"III\",\"III\",\"III\",\"III\",\"III\",\"III\",\"IV\",\"IV\",\"IV\",\"IV\",\"IV\",\"IV\",\"IV\",\"IV\",\"IV\",\"IV\",\"IV\",\"IV\",\"IV\",\"IV\",\"IV\",\"IV\",\"IV\",\"IV\",\"IV\",\"IV\"],\"impact force (mN)\":[1205,2527,1745,1556,493,2276,556,1928,2641,1897,1891,1545,1307,1692,1543,1282,775,2032,1240,473,1612,605,327,946,541,1539,529,628,1453,297,703,269,751,245,1182,515,435,383,457,730,614,414,324,776,611,544,538,579,806,459,458,626,621,544,535,385,401,614,665,488,172,142,37,453,355,22,502,273,720,582,198,198,597,516,815,402,605,711,614,468],\"trial number\":[\"3\",\"4\",\"1\",\"2\",\"3\",\"4\",\"1\",\"2\",\"3\",\"4\",\"1\",\"2\",\"3\",\"4\",\"5\",\"1\",\"2\",\"3\",\"4\",\"5\",\"1\",\"2\",\"3\",\"4\",\"1\",\"2\",\"3\",\"4\",\"1\",\"2\",\"3\",\"4\",\"1\",\"2\",\"1\",\"2\",\"1\",\"2\",\"3\",\"1\",\"1\",\"2\",\"3\",\"1\",\"2\",\"3\",\"1\",\"2\",\"1\",\"2\",\"3\",\"4\",\"1\",\"2\",\"3\",\"4\",\"1\",\"2\",\"3\",\"4\",\"2\",\"3\",\"4\",\"1\",\"2\",\"3\",\"1\",\"1\",\"2\",\"3\",\"4\",\"1\",\"1\",\"2\",\"3\",\"4\",\"1\",\"2\",\"3\",\"4\"]},\"selected\":{\"id\":\"8f6e0917-26ba-4695-be7b-299199fdf5d7\",\"type\":\"Selection\"},\"selection_policy\":{\"id\":\"f8121ad9-fb07-4302-a6de-80ba2ebe8d06\",\"type\":\"UnionRenderers\"}},\"id\":\"77ecadb6-4f6a-44b6-ba24-477a59fe4490\",\"type\":\"ColumnDataSource\"},{\"attributes\":{},\"id\":\"de3d80dd-9d48-4099-89f8-e91c160a3347\",\"type\":\"BasicTicker\"},{\"attributes\":{\"dimension\":1,\"plot\":{\"id\":\"e5ee3a51-c914-4961-974e-f167dc83b2e3\",\"subtype\":\"Figure\",\"type\":\"Plot\"},\"ticker\":{\"id\":\"de3d80dd-9d48-4099-89f8-e91c160a3347\",\"type\":\"BasicTicker\"}},\"id\":\"953e1ed4-e967-4a7d-8bb3-c1cd4324b8ac\",\"type\":\"Grid\"},{\"attributes\":{\"factors\":[\"1\",\"2\",\"3\",\"4\",\"5\"],\"palette\":[\"#4e79a7\",\"#f28e2b\",\"#e15759\",\"#76b7b2\",\"#59a14f\",\"#edc948\",\"#b07aa1\",\"#ff9da7\",\"#9c755f\",\"#bab0ac\"]},\"id\":\"f2c7ba3b-a3be-409e-af2f-3c4f803e99a1\",\"type\":\"CategoricalColorMapper\"},{\"attributes\":{},\"id\":\"e465e6b8-875b-4f8c-8c87-a0e6ba2af0c1\",\"type\":\"PanTool\"},{\"attributes\":{},\"id\":\"c816f608-a24b-4eaf-8b04-b804592022dd\",\"type\":\"WheelZoomTool\"},{\"attributes\":{\"overlay\":{\"id\":\"d2b7a2ae-101f-46e3-8ffc-083f3e94a902\",\"type\":\"BoxAnnotation\"}},\"id\":\"2d9a86da-2b4d-445b-b2df-763b7ccde0e4\",\"type\":\"BoxZoomTool\"},{\"attributes\":{},\"id\":\"31944331-fd18-4b29-9d9d-005d59382551\",\"type\":\"SaveTool\"},{\"attributes\":{},\"id\":\"16db4582-b60c-49e0-84ad-8ecbff39bc74\",\"type\":\"ResetTool\"},{\"attributes\":{},\"id\":\"e9311a4f-130e-4169-80b4-56cf40c16b0d\",\"type\":\"HelpTool\"},{\"attributes\":{\"bottom_units\":\"screen\",\"fill_alpha\":{\"value\":0.5},\"fill_color\":{\"value\":\"lightgrey\"},\"left_units\":\"screen\",\"level\":\"overlay\",\"line_alpha\":{\"value\":1.0},\"line_color\":{\"value\":\"black\"},\"line_dash\":[4,4],\"line_width\":{\"value\":2},\"plot\":null,\"render_mode\":\"css\",\"right_units\":\"screen\",\"top_units\":\"screen\"},\"id\":\"d2b7a2ae-101f-46e3-8ffc-083f3e94a902\",\"type\":\"BoxAnnotation\"}],\"root_ids\":[\"e5ee3a51-c914-4961-974e-f167dc83b2e3\"]},\"title\":\"Bokeh Application\",\"version\":\"0.13.0\"}};\n",
       "  var render_items = [{\"docid\":\"860d326e-bb73-4108-96f1-d8f97867430d\",\"roots\":{\"e5ee3a51-c914-4961-974e-f167dc83b2e3\":\"e8d38c7e-b012-4107-a5df-39c874ae20d1\"}}];\n",
       "  root.Bokeh.embed.embed_items_notebook(docs_json, render_items);\n",
       "\n",
       "  }\n",
       "  if (root.Bokeh !== undefined) {\n",
       "    embed_document(root);\n",
       "  } else {\n",
       "    var attempts = 0;\n",
       "    var timer = setInterval(function(root) {\n",
       "      if (root.Bokeh !== undefined) {\n",
       "        embed_document(root);\n",
       "        clearInterval(timer);\n",
       "      }\n",
       "      attempts++;\n",
       "      if (attempts > 100) {\n",
       "        console.log(\"Bokeh: ERROR: Unable to run BokehJS code because BokehJS library is missing\")\n",
       "        clearInterval(timer);\n",
       "      }\n",
       "    }, 10, root)\n",
       "  }\n",
       "})(window);"
      ],
      "application/vnd.bokehjs_exec.v0+json": ""
     },
     "metadata": {
      "application/vnd.bokehjs_exec.v0+json": {
       "id": "e5ee3a51-c914-4961-974e-f167dc83b2e3"
      }
     },
     "output_type": "display_data"
    }
   ],
   "source": [
    "p = bebi103.viz.jitter( data=df, \n",
    "                        cats='ID', \n",
    "                        val='impact force (mN)', \n",
    "                        p=None, \n",
    "                        horizontal=False, \n",
    "                        x_axis_label='ID', \n",
    "                        y_axis_label='impact force (mN)', \n",
    "                        title=None, \n",
    "                        plot_height=300, \n",
    "                        plot_width=400, \n",
    "                        palette=['#4e79a7', '#f28e2b', '#e15759', '#76b7b2', '#59a14f',\n",
    "                                 '#edc948', '#b07aa1', '#ff9da7', '#9c755f', '#bab0ac'],\n",
    "                        width=0.4, \n",
    "                        order=None, \n",
    "                        val_axis_type='linear', \n",
    "                        show_legend=True,\n",
    "                        color_column='trial number', \n",
    "                        tooltips=None)\n",
    "bokeh.io.show(p) "
   ]
  },
  {
   "cell_type": "code",
   "execution_count": 7,
   "metadata": {},
   "outputs": [
    {
     "data": {
      "text/html": [
       "\n",
       "\n",
       "\n",
       "\n",
       "\n",
       "\n",
       "  <div class=\"bk-root\" id=\"708ef84c-9afd-4abd-b09c-3fdb0e0fc5a2\"></div>\n"
      ]
     },
     "metadata": {},
     "output_type": "display_data"
    },
    {
     "data": {
      "application/javascript": [
       "(function(root) {\n",
       "  function embed_document(root) {\n",
       "    \n",
       "  var docs_json = {\"47fd7c4f-d75f-43e4-a211-3e1ea290c66a\":{\"roots\":{\"references\":[{\"attributes\":{\"plot\":{\"id\":\"aef65d7f-c186-4674-b339-4baa0ef4ab63\",\"subtype\":\"Figure\",\"type\":\"Plot\"},\"ticker\":{\"id\":\"dedd8da0-4c95-4953-ac27-e5f6afb8ab3c\",\"type\":\"BasicTicker\"}},\"id\":\"f6ea1f6a-94f4-425b-8454-291ff94e8e11\",\"type\":\"Grid\"},{\"attributes\":{\"fill_alpha\":{\"value\":0.1},\"fill_color\":{\"value\":\"#1f77b4\"},\"line_alpha\":{\"value\":0.1},\"line_color\":{\"value\":\"#1f77b4\"},\"x\":{\"field\":\"impact force (mN)\"},\"y\":{\"field\":\"cat\",\"transform\":{\"id\":\"41b5dedb-9c5a-4f13-9f35-8078212955ee\",\"type\":\"Jitter\"}}},\"id\":\"29b96dda-d153-44b4-8392-b564ad8b62ba\",\"type\":\"Circle\"},{\"attributes\":{\"axis_label\":\"ID\",\"formatter\":{\"id\":\"d917179a-0147-4764-b602-6f4f0d06faf8\",\"type\":\"BasicTickFormatter\"},\"plot\":{\"id\":\"aef65d7f-c186-4674-b339-4baa0ef4ab63\",\"subtype\":\"Figure\",\"type\":\"Plot\"},\"ticker\":{\"id\":\"dedd8da0-4c95-4953-ac27-e5f6afb8ab3c\",\"type\":\"BasicTicker\"}},\"id\":\"ca24e5e1-8dac-4d06-a5a5-66b03009211e\",\"type\":\"LinearAxis\"},{\"attributes\":{\"source\":{\"id\":\"65625aeb-6a00-4869-9489-a916e706cf6a\",\"type\":\"ColumnDataSource\"}},\"id\":\"8fb23780-ef03-4308-91da-f3d69f230692\",\"type\":\"CDSView\"},{\"attributes\":{},\"id\":\"dedd8da0-4c95-4953-ac27-e5f6afb8ab3c\",\"type\":\"BasicTicker\"},{\"attributes\":{\"axis_label\":\"impact force (mN)\",\"formatter\":{\"id\":\"62487945-f47a-45a6-b419-e5bb99cb7ba6\",\"type\":\"CategoricalTickFormatter\"},\"plot\":{\"id\":\"aef65d7f-c186-4674-b339-4baa0ef4ab63\",\"subtype\":\"Figure\",\"type\":\"Plot\"},\"ticker\":{\"id\":\"9f4f6772-dd75-4c4d-92cf-a39595b5ec23\",\"type\":\"CategoricalTicker\"}},\"id\":\"75bce50a-659a-49f2-b69a-bdd985e39980\",\"type\":\"CategoricalAxis\"},{\"attributes\":{\"callback\":null,\"factors\":[\"IV\",\"III\",\"II\",\"I\"]},\"id\":\"84643553-7988-42ae-93de-0e031bedd00d\",\"type\":\"FactorRange\"},{\"attributes\":{},\"id\":\"62487945-f47a-45a6-b419-e5bb99cb7ba6\",\"type\":\"CategoricalTickFormatter\"},{\"attributes\":{\"dimension\":1,\"grid_line_color\":{\"value\":null},\"plot\":{\"id\":\"aef65d7f-c186-4674-b339-4baa0ef4ab63\",\"subtype\":\"Figure\",\"type\":\"Plot\"},\"ticker\":{\"id\":\"9f4f6772-dd75-4c4d-92cf-a39595b5ec23\",\"type\":\"CategoricalTicker\"}},\"id\":\"0b3ae33a-a0ef-404b-a421-8e5fd69e84d8\",\"type\":\"Grid\"},{\"attributes\":{\"callback\":null,\"data\":{\"ID\":[\"I\",\"I\",\"I\",\"I\",\"I\",\"I\",\"I\",\"I\",\"I\",\"I\",\"I\",\"I\",\"I\",\"I\",\"I\",\"I\",\"I\",\"I\",\"I\",\"I\",\"II\",\"II\",\"II\",\"II\",\"II\",\"II\",\"II\",\"II\",\"II\",\"II\",\"II\",\"II\",\"II\",\"II\",\"II\",\"II\",\"II\",\"II\",\"II\",\"II\",\"III\",\"III\",\"III\",\"III\",\"III\",\"III\",\"III\",\"III\",\"III\",\"III\",\"III\",\"III\",\"III\",\"III\",\"III\",\"III\",\"III\",\"III\",\"III\",\"III\",\"IV\",\"IV\",\"IV\",\"IV\",\"IV\",\"IV\",\"IV\",\"IV\",\"IV\",\"IV\",\"IV\",\"IV\",\"IV\",\"IV\",\"IV\",\"IV\",\"IV\",\"IV\",\"IV\",\"IV\"],\"__label\":[\"I\",\"I\",\"I\",\"I\",\"I\",\"I\",\"I\",\"I\",\"I\",\"I\",\"I\",\"I\",\"I\",\"I\",\"I\",\"I\",\"I\",\"I\",\"I\",\"I\",\"II\",\"II\",\"II\",\"II\",\"II\",\"II\",\"II\",\"II\",\"II\",\"II\",\"II\",\"II\",\"II\",\"II\",\"II\",\"II\",\"II\",\"II\",\"II\",\"II\",\"III\",\"III\",\"III\",\"III\",\"III\",\"III\",\"III\",\"III\",\"III\",\"III\",\"III\",\"III\",\"III\",\"III\",\"III\",\"III\",\"III\",\"III\",\"III\",\"III\",\"IV\",\"IV\",\"IV\",\"IV\",\"IV\",\"IV\",\"IV\",\"IV\",\"IV\",\"IV\",\"IV\",\"IV\",\"IV\",\"IV\",\"IV\",\"IV\",\"IV\",\"IV\",\"IV\",\"IV\"],\"adhesive force (mN)\":[-785,-983,-850,-455,-974,-592,-512,-804,-690,-462,-766,-715,-613,-677,-528,-452,-430,-652,-692,-536,-655,-292,-246,-245,-553,-664,-261,-691,-92,-566,-223,-512,-227,-573,-522,-599,-364,-469,-844,-648,-94,-163,-172,-225,-301,-93,-131,-289,-104,-229,-259,-231,-267,-178,-123,-151,-127,-372,-236,-390,-456,-193,-236,-225,-217,-161,-139,-264,-342,-231,-209,-292,-339,-371,-331,-302,-216,-163,-367,-218],\"cat\":[\"I\",\"I\",\"I\",\"I\",\"I\",\"I\",\"I\",\"I\",\"I\",\"I\",\"I\",\"I\",\"I\",\"I\",\"I\",\"I\",\"I\",\"I\",\"I\",\"I\",\"II\",\"II\",\"II\",\"II\",\"II\",\"II\",\"II\",\"II\",\"II\",\"II\",\"II\",\"II\",\"II\",\"II\",\"II\",\"II\",\"II\",\"II\",\"II\",\"II\",\"III\",\"III\",\"III\",\"III\",\"III\",\"III\",\"III\",\"III\",\"III\",\"III\",\"III\",\"III\",\"III\",\"III\",\"III\",\"III\",\"III\",\"III\",\"III\",\"III\",\"IV\",\"IV\",\"IV\",\"IV\",\"IV\",\"IV\",\"IV\",\"IV\",\"IV\",\"IV\",\"IV\",\"IV\",\"IV\",\"IV\",\"IV\",\"IV\",\"IV\",\"IV\",\"IV\",\"IV\"],\"impact force (mN)\":[1205,2527,1745,1556,493,2276,556,1928,2641,1897,1891,1545,1307,1692,1543,1282,775,2032,1240,473,1612,605,327,946,541,1539,529,628,1453,297,703,269,751,245,1182,515,435,383,457,730,614,414,324,776,611,544,538,579,806,459,458,626,621,544,535,385,401,614,665,488,172,142,37,453,355,22,502,273,720,582,198,198,597,516,815,402,605,711,614,468],\"trial number\":[3,4,1,2,3,4,1,2,3,4,1,2,3,4,5,1,2,3,4,5,1,2,3,4,1,2,3,4,1,2,3,4,1,2,1,2,1,2,3,1,1,2,3,1,2,3,1,2,1,2,3,4,1,2,3,4,1,2,3,4,2,3,4,1,2,3,1,1,2,3,4,1,1,2,3,4,1,2,3,4]},\"selected\":{\"id\":\"fda22404-81e8-4dcd-9b46-d90b089d47e3\",\"type\":\"Selection\"},\"selection_policy\":{\"id\":\"352c9e4b-7ca6-413b-9600-9ab206e65ee8\",\"type\":\"UnionRenderers\"}},\"id\":\"65625aeb-6a00-4869-9489-a916e706cf6a\",\"type\":\"ColumnDataSource\"},{\"attributes\":{},\"id\":\"352c9e4b-7ca6-413b-9600-9ab206e65ee8\",\"type\":\"UnionRenderers\"},{\"attributes\":{},\"id\":\"d917179a-0147-4764-b602-6f4f0d06faf8\",\"type\":\"BasicTickFormatter\"},{\"attributes\":{\"bottom_units\":\"screen\",\"fill_alpha\":{\"value\":0.5},\"fill_color\":{\"value\":\"lightgrey\"},\"left_units\":\"screen\",\"level\":\"overlay\",\"line_alpha\":{\"value\":1.0},\"line_color\":{\"value\":\"black\"},\"line_dash\":[4,4],\"line_width\":{\"value\":2},\"plot\":null,\"render_mode\":\"css\",\"right_units\":\"screen\",\"top_units\":\"screen\"},\"id\":\"56eadf03-2739-4606-9ddd-bd9fcc27e3bf\",\"type\":\"BoxAnnotation\"},{\"attributes\":{},\"id\":\"fda22404-81e8-4dcd-9b46-d90b089d47e3\",\"type\":\"Selection\"},{\"attributes\":{},\"id\":\"deb5d4c5-6a68-4e66-bdf9-d9397848a920\",\"type\":\"PanTool\"},{\"attributes\":{\"fill_color\":{\"field\":\"cat\",\"transform\":{\"id\":\"ee64e122-2796-4a49-8084-409f99b24741\",\"type\":\"CategoricalColorMapper\"}},\"line_color\":{\"field\":\"cat\",\"transform\":{\"id\":\"ee64e122-2796-4a49-8084-409f99b24741\",\"type\":\"CategoricalColorMapper\"}},\"x\":{\"field\":\"impact force (mN)\"},\"y\":{\"field\":\"cat\",\"transform\":{\"id\":\"41b5dedb-9c5a-4f13-9f35-8078212955ee\",\"type\":\"Jitter\"}}},\"id\":\"1366178c-5d4d-45b2-b3af-664ebfebbae1\",\"type\":\"Circle\"},{\"attributes\":{},\"id\":\"9f4f6772-dd75-4c4d-92cf-a39595b5ec23\",\"type\":\"CategoricalTicker\"},{\"attributes\":{},\"id\":\"144cf278-d64a-4e7a-b7c1-4004d27a1d62\",\"type\":\"WheelZoomTool\"},{\"attributes\":{\"factors\":[\"I\",\"II\",\"III\",\"IV\"],\"palette\":[\"#4e79a7\",\"#f28e2b\",\"#e15759\",\"#76b7b2\",\"#59a14f\",\"#edc948\",\"#b07aa1\",\"#ff9da7\",\"#9c755f\",\"#bab0ac\"]},\"id\":\"ee64e122-2796-4a49-8084-409f99b24741\",\"type\":\"CategoricalColorMapper\"},{\"attributes\":{\"overlay\":{\"id\":\"56eadf03-2739-4606-9ddd-bd9fcc27e3bf\",\"type\":\"BoxAnnotation\"}},\"id\":\"140d5e8a-88db-4c58-b715-e1fdfe2fb4d1\",\"type\":\"BoxZoomTool\"},{\"attributes\":{\"below\":[{\"id\":\"ca24e5e1-8dac-4d06-a5a5-66b03009211e\",\"type\":\"LinearAxis\"}],\"left\":[{\"id\":\"75bce50a-659a-49f2-b69a-bdd985e39980\",\"type\":\"CategoricalAxis\"}],\"plot_height\":300,\"plot_width\":400,\"renderers\":[{\"id\":\"ca24e5e1-8dac-4d06-a5a5-66b03009211e\",\"type\":\"LinearAxis\"},{\"id\":\"f6ea1f6a-94f4-425b-8454-291ff94e8e11\",\"type\":\"Grid\"},{\"id\":\"75bce50a-659a-49f2-b69a-bdd985e39980\",\"type\":\"CategoricalAxis\"},{\"id\":\"0b3ae33a-a0ef-404b-a421-8e5fd69e84d8\",\"type\":\"Grid\"},{\"id\":\"56eadf03-2739-4606-9ddd-bd9fcc27e3bf\",\"type\":\"BoxAnnotation\"},{\"id\":\"656fbd8f-fff3-4e2a-9e08-8bb13dc257e7\",\"type\":\"GlyphRenderer\"}],\"title\":null,\"toolbar\":{\"id\":\"a5f97954-da99-4751-83b5-a2c6e377bb19\",\"type\":\"Toolbar\"},\"x_range\":{\"id\":\"6c883ff9-78dd-4256-b38c-abed7d727549\",\"type\":\"DataRange1d\"},\"x_scale\":{\"id\":\"62f96aa5-4ef6-4ca6-b835-f28ffb320921\",\"type\":\"LinearScale\"},\"y_range\":{\"id\":\"84643553-7988-42ae-93de-0e031bedd00d\",\"type\":\"FactorRange\"},\"y_scale\":{\"id\":\"6a935fc5-d8e3-457f-b7e8-12da8aacd098\",\"type\":\"CategoricalScale\"}},\"id\":\"aef65d7f-c186-4674-b339-4baa0ef4ab63\",\"subtype\":\"Figure\",\"type\":\"Plot\"},{\"attributes\":{},\"id\":\"a0f3c98b-f065-4e66-91f9-0e9b7322c722\",\"type\":\"SaveTool\"},{\"attributes\":{\"active_drag\":\"auto\",\"active_inspect\":\"auto\",\"active_multi\":null,\"active_scroll\":\"auto\",\"active_tap\":\"auto\",\"tools\":[{\"id\":\"deb5d4c5-6a68-4e66-bdf9-d9397848a920\",\"type\":\"PanTool\"},{\"id\":\"144cf278-d64a-4e7a-b7c1-4004d27a1d62\",\"type\":\"WheelZoomTool\"},{\"id\":\"140d5e8a-88db-4c58-b715-e1fdfe2fb4d1\",\"type\":\"BoxZoomTool\"},{\"id\":\"a0f3c98b-f065-4e66-91f9-0e9b7322c722\",\"type\":\"SaveTool\"},{\"id\":\"89ddd4e0-c8be-47c3-829e-5af1a0111dd1\",\"type\":\"ResetTool\"},{\"id\":\"6e0970ea-24cb-47a0-85df-3eaca732ed4d\",\"type\":\"HelpTool\"},{\"id\":\"41f8a0e3-4816-4179-857f-244fae00b686\",\"type\":\"HoverTool\"}]},\"id\":\"a5f97954-da99-4751-83b5-a2c6e377bb19\",\"type\":\"Toolbar\"},{\"attributes\":{},\"id\":\"89ddd4e0-c8be-47c3-829e-5af1a0111dd1\",\"type\":\"ResetTool\"},{\"attributes\":{\"callback\":null},\"id\":\"6c883ff9-78dd-4256-b38c-abed7d727549\",\"type\":\"DataRange1d\"},{\"attributes\":{},\"id\":\"6e0970ea-24cb-47a0-85df-3eaca732ed4d\",\"type\":\"HelpTool\"},{\"attributes\":{\"range\":{\"id\":\"84643553-7988-42ae-93de-0e031bedd00d\",\"type\":\"FactorRange\"},\"width\":0.4},\"id\":\"41b5dedb-9c5a-4f13-9f35-8078212955ee\",\"type\":\"Jitter\"},{\"attributes\":{\"callback\":null,\"renderers\":\"auto\",\"tooltips\":[[\"impact force (mN)\",\"@{impact force (mN)}\"],[\"trial number\",\"@{trial number}\"],[\"adhesive force (mN)\",\"@{adhesive force (mN)}\"]]},\"id\":\"41f8a0e3-4816-4179-857f-244fae00b686\",\"type\":\"HoverTool\"},{\"attributes\":{},\"id\":\"6a935fc5-d8e3-457f-b7e8-12da8aacd098\",\"type\":\"CategoricalScale\"},{\"attributes\":{},\"id\":\"62f96aa5-4ef6-4ca6-b835-f28ffb320921\",\"type\":\"LinearScale\"},{\"attributes\":{\"data_source\":{\"id\":\"65625aeb-6a00-4869-9489-a916e706cf6a\",\"type\":\"ColumnDataSource\"},\"glyph\":{\"id\":\"1366178c-5d4d-45b2-b3af-664ebfebbae1\",\"type\":\"Circle\"},\"hover_glyph\":null,\"muted_glyph\":null,\"nonselection_glyph\":{\"id\":\"29b96dda-d153-44b4-8392-b564ad8b62ba\",\"type\":\"Circle\"},\"selection_glyph\":null,\"view\":{\"id\":\"8fb23780-ef03-4308-91da-f3d69f230692\",\"type\":\"CDSView\"}},\"id\":\"656fbd8f-fff3-4e2a-9e08-8bb13dc257e7\",\"type\":\"GlyphRenderer\"}],\"root_ids\":[\"aef65d7f-c186-4674-b339-4baa0ef4ab63\"]},\"title\":\"Bokeh Application\",\"version\":\"0.13.0\"}};\n",
       "  var render_items = [{\"docid\":\"47fd7c4f-d75f-43e4-a211-3e1ea290c66a\",\"roots\":{\"aef65d7f-c186-4674-b339-4baa0ef4ab63\":\"708ef84c-9afd-4abd-b09c-3fdb0e0fc5a2\"}}];\n",
       "  root.Bokeh.embed.embed_items_notebook(docs_json, render_items);\n",
       "\n",
       "  }\n",
       "  if (root.Bokeh !== undefined) {\n",
       "    embed_document(root);\n",
       "  } else {\n",
       "    var attempts = 0;\n",
       "    var timer = setInterval(function(root) {\n",
       "      if (root.Bokeh !== undefined) {\n",
       "        embed_document(root);\n",
       "        clearInterval(timer);\n",
       "      }\n",
       "      attempts++;\n",
       "      if (attempts > 100) {\n",
       "        console.log(\"Bokeh: ERROR: Unable to run BokehJS code because BokehJS library is missing\")\n",
       "        clearInterval(timer);\n",
       "      }\n",
       "    }, 10, root)\n",
       "  }\n",
       "})(window);"
      ],
      "application/vnd.bokehjs_exec.v0+json": ""
     },
     "metadata": {
      "application/vnd.bokehjs_exec.v0+json": {
       "id": "aef65d7f-c186-4674-b339-4baa0ef4ab63"
      }
     },
     "output_type": "display_data"
    }
   ],
   "source": [
    "p = bebi103.viz.jitter( data=df, \n",
    "                        cats='ID', \n",
    "                        val='impact force (mN)', \n",
    "                        p=None, \n",
    "                        horizontal=True, \n",
    "                        x_axis_label='ID', \n",
    "                        y_axis_label='impact force (mN)', \n",
    "                        title=None, \n",
    "                        plot_height=300, \n",
    "                        plot_width=400, \n",
    "                        palette=['#4e79a7', '#f28e2b', '#e15759', '#76b7b2', '#59a14f',\n",
    "                                 '#edc948', '#b07aa1', '#ff9da7', '#9c755f', '#bab0ac'],\n",
    "                        width=0.4, \n",
    "                        order=None, \n",
    "                        val_axis_type='linear', \n",
    "                        show_legend=False,\n",
    "                        color_column=None, \n",
    "                        tooltips=[('impact force (mN)', '@{impact force (mN)}'), \n",
    "                                  ('trial number', '@{trial number}'),\n",
    "                                  ('adhesive force (mN)', '@{adhesive force (mN)}')])\n",
    "bokeh.io.show(p) "
   ]
  },
  {
   "cell_type": "code",
   "execution_count": 8,
   "metadata": {},
   "outputs": [
    {
     "data": {
      "text/html": [
       "\n",
       "\n",
       "\n",
       "\n",
       "\n",
       "\n",
       "  <div class=\"bk-root\" id=\"dcd9b140-5e51-4a40-8636-8d374777d4ca\"></div>\n"
      ]
     },
     "metadata": {},
     "output_type": "display_data"
    },
    {
     "data": {
      "application/javascript": [
       "(function(root) {\n",
       "  function embed_document(root) {\n",
       "    \n",
       "  var docs_json = {\"445de7be-bcbe-45e2-a29d-a3a00417e646\":{\"roots\":{\"references\":[{\"attributes\":{\"axis_label\":\"impact force (mN)\",\"formatter\":{\"id\":\"af9961aa-44b4-491d-bc31-89e28a089eaf\",\"type\":\"CategoricalTickFormatter\"},\"plot\":{\"id\":\"6b15adbd-79c2-4bb8-9c13-6a851bd75aff\",\"subtype\":\"Figure\",\"type\":\"Plot\"},\"ticker\":{\"id\":\"cb6d2449-999f-4107-af93-26c7648529d3\",\"type\":\"CategoricalTicker\"}},\"id\":\"8d76bbd3-eafd-4c22-96d6-fffc664a58fa\",\"type\":\"CategoricalAxis\"},{\"attributes\":{\"active_drag\":\"auto\",\"active_inspect\":\"auto\",\"active_multi\":null,\"active_scroll\":\"auto\",\"active_tap\":\"auto\",\"tools\":[{\"id\":\"4ad910d4-1968-48fc-90f5-29c22d626b58\",\"type\":\"PanTool\"},{\"id\":\"271980e3-0ead-4ad2-81ea-e8aaeb51faca\",\"type\":\"WheelZoomTool\"},{\"id\":\"b0f19239-a4e2-41f0-9da1-f843221b9abc\",\"type\":\"BoxZoomTool\"},{\"id\":\"463aba07-f25a-476b-989f-d369e49c0899\",\"type\":\"SaveTool\"},{\"id\":\"b2ef1e80-d0f1-4086-801b-949a780628f0\",\"type\":\"ResetTool\"},{\"id\":\"74bb0324-878a-40b6-9960-1acf3d52c118\",\"type\":\"HelpTool\"},{\"id\":\"581e2f85-be05-45cb-a684-2f9d5e14425b\",\"type\":\"HoverTool\"}]},\"id\":\"ca66a832-0880-44d7-bf50-0aac671eaabd\",\"type\":\"Toolbar\"},{\"attributes\":{\"callback\":null,\"factors\":[\"IV\",\"III\",\"II\",\"I\"]},\"id\":\"1f86678b-3aa8-4cca-bece-0b3ec62c205b\",\"type\":\"FactorRange\"},{\"attributes\":{\"bottom_units\":\"screen\",\"fill_alpha\":{\"value\":0.5},\"fill_color\":{\"value\":\"lightgrey\"},\"left_units\":\"screen\",\"level\":\"overlay\",\"line_alpha\":{\"value\":1.0},\"line_color\":{\"value\":\"black\"},\"line_dash\":[4,4],\"line_width\":{\"value\":2},\"plot\":null,\"render_mode\":\"css\",\"right_units\":\"screen\",\"top_units\":\"screen\"},\"id\":\"6c6134f9-3fc5-4a65-971b-c237869a5ee8\",\"type\":\"BoxAnnotation\"},{\"attributes\":{\"overlay\":{\"id\":\"6c6134f9-3fc5-4a65-971b-c237869a5ee8\",\"type\":\"BoxAnnotation\"}},\"id\":\"b0f19239-a4e2-41f0-9da1-f843221b9abc\",\"type\":\"BoxZoomTool\"},{\"attributes\":{},\"id\":\"2d115e39-91ba-41c1-92cf-99c772e5e027\",\"type\":\"CategoricalScale\"},{\"attributes\":{},\"id\":\"463aba07-f25a-476b-989f-d369e49c0899\",\"type\":\"SaveTool\"},{\"attributes\":{\"ticker\":null},\"id\":\"91fbac94-786d-444c-9017-ebcaa26c4035\",\"type\":\"LogTickFormatter\"},{\"attributes\":{},\"id\":\"b2ef1e80-d0f1-4086-801b-949a780628f0\",\"type\":\"ResetTool\"},{\"attributes\":{\"callback\":null},\"id\":\"f22621cb-e21d-4616-affd-032a84cccd53\",\"type\":\"DataRange1d\"},{\"attributes\":{},\"id\":\"74bb0324-878a-40b6-9960-1acf3d52c118\",\"type\":\"HelpTool\"},{\"attributes\":{\"num_minor_ticks\":10},\"id\":\"3bf5c877-c9b3-4590-b9ac-882604bdc1cd\",\"type\":\"LogTicker\"},{\"attributes\":{},\"id\":\"271980e3-0ead-4ad2-81ea-e8aaeb51faca\",\"type\":\"WheelZoomTool\"},{\"attributes\":{\"callback\":null,\"renderers\":\"auto\",\"tooltips\":[[\"impact force (mN)\",\"@{impact force (mN)}\"],[\"trial number\",\"@{trial number}\"],[\"adhesive force (mN)\",\"@{adhesive force (mN)}\"]]},\"id\":\"581e2f85-be05-45cb-a684-2f9d5e14425b\",\"type\":\"HoverTool\"},{\"attributes\":{\"factors\":[\"I\",\"II\",\"III\",\"IV\"],\"palette\":[\"#4e79a7\",\"#f28e2b\",\"#e15759\",\"#76b7b2\",\"#59a14f\",\"#edc948\",\"#b07aa1\",\"#ff9da7\",\"#9c755f\",\"#bab0ac\"]},\"id\":\"47bff809-27f4-49b8-b97a-399f1434c1ad\",\"type\":\"CategoricalColorMapper\"},{\"attributes\":{\"callback\":null,\"data\":{\"ID\":[\"I\",\"I\",\"I\",\"I\",\"I\",\"I\",\"I\",\"I\",\"I\",\"I\",\"I\",\"I\",\"I\",\"I\",\"I\",\"I\",\"I\",\"I\",\"I\",\"I\",\"II\",\"II\",\"II\",\"II\",\"II\",\"II\",\"II\",\"II\",\"II\",\"II\",\"II\",\"II\",\"II\",\"II\",\"II\",\"II\",\"II\",\"II\",\"II\",\"II\",\"III\",\"III\",\"III\",\"III\",\"III\",\"III\",\"III\",\"III\",\"III\",\"III\",\"III\",\"III\",\"III\",\"III\",\"III\",\"III\",\"III\",\"III\",\"III\",\"III\",\"IV\",\"IV\",\"IV\",\"IV\",\"IV\",\"IV\",\"IV\",\"IV\",\"IV\",\"IV\",\"IV\",\"IV\",\"IV\",\"IV\",\"IV\",\"IV\",\"IV\",\"IV\",\"IV\",\"IV\"],\"__label\":[\"I\",\"I\",\"I\",\"I\",\"I\",\"I\",\"I\",\"I\",\"I\",\"I\",\"I\",\"I\",\"I\",\"I\",\"I\",\"I\",\"I\",\"I\",\"I\",\"I\",\"II\",\"II\",\"II\",\"II\",\"II\",\"II\",\"II\",\"II\",\"II\",\"II\",\"II\",\"II\",\"II\",\"II\",\"II\",\"II\",\"II\",\"II\",\"II\",\"II\",\"III\",\"III\",\"III\",\"III\",\"III\",\"III\",\"III\",\"III\",\"III\",\"III\",\"III\",\"III\",\"III\",\"III\",\"III\",\"III\",\"III\",\"III\",\"III\",\"III\",\"IV\",\"IV\",\"IV\",\"IV\",\"IV\",\"IV\",\"IV\",\"IV\",\"IV\",\"IV\",\"IV\",\"IV\",\"IV\",\"IV\",\"IV\",\"IV\",\"IV\",\"IV\",\"IV\",\"IV\"],\"adhesive force (mN)\":[-785,-983,-850,-455,-974,-592,-512,-804,-690,-462,-766,-715,-613,-677,-528,-452,-430,-652,-692,-536,-655,-292,-246,-245,-553,-664,-261,-691,-92,-566,-223,-512,-227,-573,-522,-599,-364,-469,-844,-648,-94,-163,-172,-225,-301,-93,-131,-289,-104,-229,-259,-231,-267,-178,-123,-151,-127,-372,-236,-390,-456,-193,-236,-225,-217,-161,-139,-264,-342,-231,-209,-292,-339,-371,-331,-302,-216,-163,-367,-218],\"cat\":[\"I\",\"I\",\"I\",\"I\",\"I\",\"I\",\"I\",\"I\",\"I\",\"I\",\"I\",\"I\",\"I\",\"I\",\"I\",\"I\",\"I\",\"I\",\"I\",\"I\",\"II\",\"II\",\"II\",\"II\",\"II\",\"II\",\"II\",\"II\",\"II\",\"II\",\"II\",\"II\",\"II\",\"II\",\"II\",\"II\",\"II\",\"II\",\"II\",\"II\",\"III\",\"III\",\"III\",\"III\",\"III\",\"III\",\"III\",\"III\",\"III\",\"III\",\"III\",\"III\",\"III\",\"III\",\"III\",\"III\",\"III\",\"III\",\"III\",\"III\",\"IV\",\"IV\",\"IV\",\"IV\",\"IV\",\"IV\",\"IV\",\"IV\",\"IV\",\"IV\",\"IV\",\"IV\",\"IV\",\"IV\",\"IV\",\"IV\",\"IV\",\"IV\",\"IV\",\"IV\"],\"impact force (mN)\":[1205,2527,1745,1556,493,2276,556,1928,2641,1897,1891,1545,1307,1692,1543,1282,775,2032,1240,473,1612,605,327,946,541,1539,529,628,1453,297,703,269,751,245,1182,515,435,383,457,730,614,414,324,776,611,544,538,579,806,459,458,626,621,544,535,385,401,614,665,488,172,142,37,453,355,22,502,273,720,582,198,198,597,516,815,402,605,711,614,468],\"trial number\":[3,4,1,2,3,4,1,2,3,4,1,2,3,4,5,1,2,3,4,5,1,2,3,4,1,2,3,4,1,2,3,4,1,2,1,2,1,2,3,1,1,2,3,1,2,3,1,2,1,2,3,4,1,2,3,4,1,2,3,4,2,3,4,1,2,3,1,1,2,3,4,1,1,2,3,4,1,2,3,4]},\"selected\":{\"id\":\"a1c1fce2-86fd-449a-b20a-7216a66da052\",\"type\":\"Selection\"},\"selection_policy\":{\"id\":\"2d9939e9-af33-4242-ba0c-c69c4502301c\",\"type\":\"UnionRenderers\"}},\"id\":\"a611587a-536d-4f80-a076-cbcd40a6c676\",\"type\":\"ColumnDataSource\"},{\"attributes\":{\"fill_alpha\":{\"value\":0.1},\"fill_color\":{\"value\":\"#1f77b4\"},\"line_alpha\":{\"value\":0.1},\"line_color\":{\"value\":\"#1f77b4\"},\"x\":{\"field\":\"impact force (mN)\"},\"y\":{\"field\":\"cat\",\"transform\":{\"id\":\"d49c8797-7531-41dc-8b92-14496993cfb3\",\"type\":\"Jitter\"}}},\"id\":\"d928252c-796a-44a2-badc-14202226e1e8\",\"type\":\"Circle\"},{\"attributes\":{\"dimension\":1,\"grid_line_color\":{\"value\":null},\"plot\":{\"id\":\"6b15adbd-79c2-4bb8-9c13-6a851bd75aff\",\"subtype\":\"Figure\",\"type\":\"Plot\"},\"ticker\":{\"id\":\"cb6d2449-999f-4107-af93-26c7648529d3\",\"type\":\"CategoricalTicker\"}},\"id\":\"a91f2aa0-f948-46a6-9ac3-878939401fe3\",\"type\":\"Grid\"},{\"attributes\":{\"data_source\":{\"id\":\"a611587a-536d-4f80-a076-cbcd40a6c676\",\"type\":\"ColumnDataSource\"},\"glyph\":{\"id\":\"c372add1-a71e-4023-9a5b-bc154da8c35b\",\"type\":\"Circle\"},\"hover_glyph\":null,\"muted_glyph\":null,\"nonselection_glyph\":{\"id\":\"d928252c-796a-44a2-badc-14202226e1e8\",\"type\":\"Circle\"},\"selection_glyph\":null,\"view\":{\"id\":\"f472f4ba-c526-4109-a37d-eb32eba542f6\",\"type\":\"CDSView\"}},\"id\":\"b81135b0-314c-4c5c-bb4b-135c4c99568f\",\"type\":\"GlyphRenderer\"},{\"attributes\":{\"source\":{\"id\":\"a611587a-536d-4f80-a076-cbcd40a6c676\",\"type\":\"ColumnDataSource\"}},\"id\":\"f472f4ba-c526-4109-a37d-eb32eba542f6\",\"type\":\"CDSView\"},{\"attributes\":{},\"id\":\"b5b979f6-96c8-4bab-a331-c2b6a5d1ff19\",\"type\":\"LogScale\"},{\"attributes\":{\"fill_color\":{\"field\":\"cat\",\"transform\":{\"id\":\"47bff809-27f4-49b8-b97a-399f1434c1ad\",\"type\":\"CategoricalColorMapper\"}},\"line_color\":{\"field\":\"cat\",\"transform\":{\"id\":\"47bff809-27f4-49b8-b97a-399f1434c1ad\",\"type\":\"CategoricalColorMapper\"}},\"x\":{\"field\":\"impact force (mN)\"},\"y\":{\"field\":\"cat\",\"transform\":{\"id\":\"d49c8797-7531-41dc-8b92-14496993cfb3\",\"type\":\"Jitter\"}}},\"id\":\"c372add1-a71e-4023-9a5b-bc154da8c35b\",\"type\":\"Circle\"},{\"attributes\":{},\"id\":\"a1c1fce2-86fd-449a-b20a-7216a66da052\",\"type\":\"Selection\"},{\"attributes\":{},\"id\":\"af9961aa-44b4-491d-bc31-89e28a089eaf\",\"type\":\"CategoricalTickFormatter\"},{\"attributes\":{\"range\":{\"id\":\"1f86678b-3aa8-4cca-bece-0b3ec62c205b\",\"type\":\"FactorRange\"},\"width\":0.4},\"id\":\"d49c8797-7531-41dc-8b92-14496993cfb3\",\"type\":\"Jitter\"},{\"attributes\":{\"below\":[{\"id\":\"bb1c3878-6982-44ab-a5e9-ee47778123a8\",\"type\":\"LogAxis\"}],\"left\":[{\"id\":\"8d76bbd3-eafd-4c22-96d6-fffc664a58fa\",\"type\":\"CategoricalAxis\"}],\"plot_height\":300,\"plot_width\":400,\"renderers\":[{\"id\":\"bb1c3878-6982-44ab-a5e9-ee47778123a8\",\"type\":\"LogAxis\"},{\"id\":\"345073d1-dc60-490c-befc-c72a51aaacca\",\"type\":\"Grid\"},{\"id\":\"8d76bbd3-eafd-4c22-96d6-fffc664a58fa\",\"type\":\"CategoricalAxis\"},{\"id\":\"a91f2aa0-f948-46a6-9ac3-878939401fe3\",\"type\":\"Grid\"},{\"id\":\"6c6134f9-3fc5-4a65-971b-c237869a5ee8\",\"type\":\"BoxAnnotation\"},{\"id\":\"b81135b0-314c-4c5c-bb4b-135c4c99568f\",\"type\":\"GlyphRenderer\"}],\"title\":null,\"toolbar\":{\"id\":\"ca66a832-0880-44d7-bf50-0aac671eaabd\",\"type\":\"Toolbar\"},\"x_range\":{\"id\":\"f22621cb-e21d-4616-affd-032a84cccd53\",\"type\":\"DataRange1d\"},\"x_scale\":{\"id\":\"b5b979f6-96c8-4bab-a331-c2b6a5d1ff19\",\"type\":\"LogScale\"},\"y_range\":{\"id\":\"1f86678b-3aa8-4cca-bece-0b3ec62c205b\",\"type\":\"FactorRange\"},\"y_scale\":{\"id\":\"2d115e39-91ba-41c1-92cf-99c772e5e027\",\"type\":\"CategoricalScale\"}},\"id\":\"6b15adbd-79c2-4bb8-9c13-6a851bd75aff\",\"subtype\":\"Figure\",\"type\":\"Plot\"},{\"attributes\":{\"plot\":{\"id\":\"6b15adbd-79c2-4bb8-9c13-6a851bd75aff\",\"subtype\":\"Figure\",\"type\":\"Plot\"},\"ticker\":{\"id\":\"3bf5c877-c9b3-4590-b9ac-882604bdc1cd\",\"type\":\"LogTicker\"}},\"id\":\"345073d1-dc60-490c-befc-c72a51aaacca\",\"type\":\"Grid\"},{\"attributes\":{},\"id\":\"4ad910d4-1968-48fc-90f5-29c22d626b58\",\"type\":\"PanTool\"},{\"attributes\":{},\"id\":\"2d9939e9-af33-4242-ba0c-c69c4502301c\",\"type\":\"UnionRenderers\"},{\"attributes\":{},\"id\":\"cb6d2449-999f-4107-af93-26c7648529d3\",\"type\":\"CategoricalTicker\"},{\"attributes\":{\"axis_label\":\"ID\",\"formatter\":{\"id\":\"91fbac94-786d-444c-9017-ebcaa26c4035\",\"type\":\"LogTickFormatter\"},\"plot\":{\"id\":\"6b15adbd-79c2-4bb8-9c13-6a851bd75aff\",\"subtype\":\"Figure\",\"type\":\"Plot\"},\"ticker\":{\"id\":\"3bf5c877-c9b3-4590-b9ac-882604bdc1cd\",\"type\":\"LogTicker\"}},\"id\":\"bb1c3878-6982-44ab-a5e9-ee47778123a8\",\"type\":\"LogAxis\"}],\"root_ids\":[\"6b15adbd-79c2-4bb8-9c13-6a851bd75aff\"]},\"title\":\"Bokeh Application\",\"version\":\"0.13.0\"}};\n",
       "  var render_items = [{\"docid\":\"445de7be-bcbe-45e2-a29d-a3a00417e646\",\"roots\":{\"6b15adbd-79c2-4bb8-9c13-6a851bd75aff\":\"dcd9b140-5e51-4a40-8636-8d374777d4ca\"}}];\n",
       "  root.Bokeh.embed.embed_items_notebook(docs_json, render_items);\n",
       "\n",
       "  }\n",
       "  if (root.Bokeh !== undefined) {\n",
       "    embed_document(root);\n",
       "  } else {\n",
       "    var attempts = 0;\n",
       "    var timer = setInterval(function(root) {\n",
       "      if (root.Bokeh !== undefined) {\n",
       "        embed_document(root);\n",
       "        clearInterval(timer);\n",
       "      }\n",
       "      attempts++;\n",
       "      if (attempts > 100) {\n",
       "        console.log(\"Bokeh: ERROR: Unable to run BokehJS code because BokehJS library is missing\")\n",
       "        clearInterval(timer);\n",
       "      }\n",
       "    }, 10, root)\n",
       "  }\n",
       "})(window);"
      ],
      "application/vnd.bokehjs_exec.v0+json": ""
     },
     "metadata": {
      "application/vnd.bokehjs_exec.v0+json": {
       "id": "6b15adbd-79c2-4bb8-9c13-6a851bd75aff"
      }
     },
     "output_type": "display_data"
    }
   ],
   "source": [
    "p = bebi103.viz.jitter( data=df, \n",
    "                        cats='ID', \n",
    "                        val='impact force (mN)', \n",
    "                        p=None, \n",
    "                        horizontal=True, \n",
    "                        x_axis_label='ID', \n",
    "                        y_axis_label='impact force (mN)', \n",
    "                        title=None, \n",
    "                        plot_height=300, \n",
    "                        plot_width=400, \n",
    "                        palette=['#4e79a7', '#f28e2b', '#e15759', '#76b7b2', '#59a14f',\n",
    "                                 '#edc948', '#b07aa1', '#ff9da7', '#9c755f', '#bab0ac'],\n",
    "                        width=0.4, \n",
    "                        order=None, \n",
    "                        val_axis_type='log', \n",
    "                        show_legend=False,\n",
    "                        color_column=None, \n",
    "                        tooltips=[('impact force (mN)', '@{impact force (mN)}'), \n",
    "                                  ('trial number', '@{trial number}'),\n",
    "                                  ('adhesive force (mN)', '@{adhesive force (mN)}')])\n",
    "bokeh.io.show(p) "
   ]
  },
  {
   "cell_type": "code",
   "execution_count": 9,
   "metadata": {},
   "outputs": [
    {
     "data": {
      "text/html": [
       "\n",
       "\n",
       "\n",
       "\n",
       "\n",
       "\n",
       "  <div class=\"bk-root\" id=\"4ec8f106-a58e-40c6-9dc6-360f68728818\"></div>\n"
      ]
     },
     "metadata": {},
     "output_type": "display_data"
    },
    {
     "data": {
      "application/javascript": [
       "(function(root) {\n",
       "  function embed_document(root) {\n",
       "    \n",
       "  var docs_json = {\"1e7ff56d-95ae-4037-a52a-07d1d5fb4f3b\":{\"roots\":{\"references\":[{\"attributes\":{},\"id\":\"80ab013d-1007-49b8-9162-2c2b4fc4f797\",\"type\":\"ResetTool\"},{\"attributes\":{},\"id\":\"7971ddff-0f2b-4e77-a892-cd9cc44ece43\",\"type\":\"LinearScale\"},{\"attributes\":{\"callback\":null,\"factors\":[[\"adult\",\"I\"],[\"adult\",\"II\"],[\"juvenile\",\"III\"],[\"juvenile\",\"IV\"]]},\"id\":\"586856fa-c62d-4fc8-b7d6-4731abd4cee0\",\"type\":\"FactorRange\"},{\"attributes\":{},\"id\":\"f59ac54e-da69-4601-9158-c74460b7220e\",\"type\":\"HelpTool\"},{\"attributes\":{\"fill_color\":{\"field\":\"cat\",\"transform\":{\"id\":\"def00552-46a9-449d-a071-4752cbc19983\",\"type\":\"CategoricalColorMapper\"}},\"line_color\":{\"field\":\"cat\",\"transform\":{\"id\":\"def00552-46a9-449d-a071-4752cbc19983\",\"type\":\"CategoricalColorMapper\"}},\"x\":{\"field\":\"cat\",\"transform\":{\"id\":\"ae8c45cd-719f-4fc9-94cc-1b0657ce1e08\",\"type\":\"Jitter\"}},\"y\":{\"field\":\"impact force (mN)\"}},\"id\":\"35a8db03-96b0-4e8e-b37c-e208276aad67\",\"type\":\"Circle\"},{\"attributes\":{},\"id\":\"0fb367d8-36fa-431a-b8f7-c633701ddd77\",\"type\":\"PanTool\"},{\"attributes\":{},\"id\":\"d830ea63-891d-4c8e-8a4e-5f97066d3ea9\",\"type\":\"WheelZoomTool\"},{\"attributes\":{\"overlay\":{\"id\":\"b5d02b0d-79cd-44ca-9c83-7ae2fc15af5d\",\"type\":\"BoxAnnotation\"}},\"id\":\"2a9895f7-90a2-4bc1-af00-26bb094fc274\",\"type\":\"BoxZoomTool\"},{\"attributes\":{},\"id\":\"742a3d4f-3f71-47ae-a8d1-9b0fb373da64\",\"type\":\"UnionRenderers\"},{\"attributes\":{\"data_source\":{\"id\":\"538e8321-bc2a-46e4-94c3-8173ea77068f\",\"type\":\"ColumnDataSource\"},\"glyph\":{\"id\":\"35a8db03-96b0-4e8e-b37c-e208276aad67\",\"type\":\"Circle\"},\"hover_glyph\":null,\"muted_glyph\":null,\"nonselection_glyph\":{\"id\":\"7ae5520e-0f8d-4838-9a29-ca65f9b0b90f\",\"type\":\"Circle\"},\"selection_glyph\":null,\"view\":{\"id\":\"bc62c221-2ae3-4264-b2b1-0b80e60273be\",\"type\":\"CDSView\"}},\"id\":\"d045a529-99e5-4b21-8779-dc700e653ab5\",\"type\":\"GlyphRenderer\"},{\"attributes\":{\"dimension\":1,\"plot\":{\"id\":\"58bb4f41-b2ce-493e-b9f0-ca7b810c6a90\",\"subtype\":\"Figure\",\"type\":\"Plot\"},\"ticker\":{\"id\":\"c8d109fb-6c15-4a9b-ba80-3ba398f8d927\",\"type\":\"BasicTicker\"}},\"id\":\"bb623ae5-cd6f-4f9e-89a9-2ab7b34e2b65\",\"type\":\"Grid\"},{\"attributes\":{\"source\":{\"id\":\"538e8321-bc2a-46e4-94c3-8173ea77068f\",\"type\":\"ColumnDataSource\"}},\"id\":\"bc62c221-2ae3-4264-b2b1-0b80e60273be\",\"type\":\"CDSView\"},{\"attributes\":{\"axis_label\":\"ID\",\"formatter\":{\"id\":\"17373d0d-5f9b-4afc-97e3-28d78ae45069\",\"type\":\"CategoricalTickFormatter\"},\"plot\":{\"id\":\"58bb4f41-b2ce-493e-b9f0-ca7b810c6a90\",\"subtype\":\"Figure\",\"type\":\"Plot\"},\"ticker\":{\"id\":\"73f8cfd6-4705-4224-a04c-cbbb623008b6\",\"type\":\"CategoricalTicker\"}},\"id\":\"50af1616-d996-4690-a93c-7fe708f7ac9a\",\"type\":\"CategoricalAxis\"},{\"attributes\":{},\"id\":\"73f8cfd6-4705-4224-a04c-cbbb623008b6\",\"type\":\"CategoricalTicker\"},{\"attributes\":{},\"id\":\"acf73ff3-e055-42ef-a454-7f5baf18cccb\",\"type\":\"CategoricalScale\"},{\"attributes\":{\"callback\":null,\"data\":{\"ID\":[\"I\",\"I\",\"I\",\"I\",\"I\",\"I\",\"I\",\"I\",\"I\",\"I\",\"I\",\"I\",\"I\",\"I\",\"I\",\"I\",\"I\",\"I\",\"I\",\"I\",\"II\",\"II\",\"II\",\"II\",\"II\",\"II\",\"II\",\"II\",\"II\",\"II\",\"II\",\"II\",\"II\",\"II\",\"II\",\"II\",\"II\",\"II\",\"II\",\"II\",\"III\",\"III\",\"III\",\"III\",\"III\",\"III\",\"III\",\"III\",\"III\",\"III\",\"III\",\"III\",\"III\",\"III\",\"III\",\"III\",\"III\",\"III\",\"III\",\"III\",\"IV\",\"IV\",\"IV\",\"IV\",\"IV\",\"IV\",\"IV\",\"IV\",\"IV\",\"IV\",\"IV\",\"IV\",\"IV\",\"IV\",\"IV\",\"IV\",\"IV\",\"IV\",\"IV\",\"IV\"],\"__label\":[\"adult, I\",\"adult, I\",\"adult, I\",\"adult, I\",\"adult, I\",\"adult, I\",\"adult, I\",\"adult, I\",\"adult, I\",\"adult, I\",\"adult, I\",\"adult, I\",\"adult, I\",\"adult, I\",\"adult, I\",\"adult, I\",\"adult, I\",\"adult, I\",\"adult, I\",\"adult, I\",\"adult, II\",\"adult, II\",\"adult, II\",\"adult, II\",\"adult, II\",\"adult, II\",\"adult, II\",\"adult, II\",\"adult, II\",\"adult, II\",\"adult, II\",\"adult, II\",\"adult, II\",\"adult, II\",\"adult, II\",\"adult, II\",\"adult, II\",\"adult, II\",\"adult, II\",\"adult, II\",\"juvenile, III\",\"juvenile, III\",\"juvenile, III\",\"juvenile, III\",\"juvenile, III\",\"juvenile, III\",\"juvenile, III\",\"juvenile, III\",\"juvenile, III\",\"juvenile, III\",\"juvenile, III\",\"juvenile, III\",\"juvenile, III\",\"juvenile, III\",\"juvenile, III\",\"juvenile, III\",\"juvenile, III\",\"juvenile, III\",\"juvenile, III\",\"juvenile, III\",\"juvenile, IV\",\"juvenile, IV\",\"juvenile, IV\",\"juvenile, IV\",\"juvenile, IV\",\"juvenile, IV\",\"juvenile, IV\",\"juvenile, IV\",\"juvenile, IV\",\"juvenile, IV\",\"juvenile, IV\",\"juvenile, IV\",\"juvenile, IV\",\"juvenile, IV\",\"juvenile, IV\",\"juvenile, IV\",\"juvenile, IV\",\"juvenile, IV\",\"juvenile, IV\",\"juvenile, IV\"],\"age\":[\"adult\",\"adult\",\"adult\",\"adult\",\"adult\",\"adult\",\"adult\",\"adult\",\"adult\",\"adult\",\"adult\",\"adult\",\"adult\",\"adult\",\"adult\",\"adult\",\"adult\",\"adult\",\"adult\",\"adult\",\"adult\",\"adult\",\"adult\",\"adult\",\"adult\",\"adult\",\"adult\",\"adult\",\"adult\",\"adult\",\"adult\",\"adult\",\"adult\",\"adult\",\"adult\",\"adult\",\"adult\",\"adult\",\"adult\",\"adult\",\"juvenile\",\"juvenile\",\"juvenile\",\"juvenile\",\"juvenile\",\"juvenile\",\"juvenile\",\"juvenile\",\"juvenile\",\"juvenile\",\"juvenile\",\"juvenile\",\"juvenile\",\"juvenile\",\"juvenile\",\"juvenile\",\"juvenile\",\"juvenile\",\"juvenile\",\"juvenile\",\"juvenile\",\"juvenile\",\"juvenile\",\"juvenile\",\"juvenile\",\"juvenile\",\"juvenile\",\"juvenile\",\"juvenile\",\"juvenile\",\"juvenile\",\"juvenile\",\"juvenile\",\"juvenile\",\"juvenile\",\"juvenile\",\"juvenile\",\"juvenile\",\"juvenile\",\"juvenile\"],\"cat\":[[\"adult\",\"I\"],[\"adult\",\"I\"],[\"adult\",\"I\"],[\"adult\",\"I\"],[\"adult\",\"I\"],[\"adult\",\"I\"],[\"adult\",\"I\"],[\"adult\",\"I\"],[\"adult\",\"I\"],[\"adult\",\"I\"],[\"adult\",\"I\"],[\"adult\",\"I\"],[\"adult\",\"I\"],[\"adult\",\"I\"],[\"adult\",\"I\"],[\"adult\",\"I\"],[\"adult\",\"I\"],[\"adult\",\"I\"],[\"adult\",\"I\"],[\"adult\",\"I\"],[\"adult\",\"II\"],[\"adult\",\"II\"],[\"adult\",\"II\"],[\"adult\",\"II\"],[\"adult\",\"II\"],[\"adult\",\"II\"],[\"adult\",\"II\"],[\"adult\",\"II\"],[\"adult\",\"II\"],[\"adult\",\"II\"],[\"adult\",\"II\"],[\"adult\",\"II\"],[\"adult\",\"II\"],[\"adult\",\"II\"],[\"adult\",\"II\"],[\"adult\",\"II\"],[\"adult\",\"II\"],[\"adult\",\"II\"],[\"adult\",\"II\"],[\"adult\",\"II\"],[\"juvenile\",\"III\"],[\"juvenile\",\"III\"],[\"juvenile\",\"III\"],[\"juvenile\",\"III\"],[\"juvenile\",\"III\"],[\"juvenile\",\"III\"],[\"juvenile\",\"III\"],[\"juvenile\",\"III\"],[\"juvenile\",\"III\"],[\"juvenile\",\"III\"],[\"juvenile\",\"III\"],[\"juvenile\",\"III\"],[\"juvenile\",\"III\"],[\"juvenile\",\"III\"],[\"juvenile\",\"III\"],[\"juvenile\",\"III\"],[\"juvenile\",\"III\"],[\"juvenile\",\"III\"],[\"juvenile\",\"III\"],[\"juvenile\",\"III\"],[\"juvenile\",\"IV\"],[\"juvenile\",\"IV\"],[\"juvenile\",\"IV\"],[\"juvenile\",\"IV\"],[\"juvenile\",\"IV\"],[\"juvenile\",\"IV\"],[\"juvenile\",\"IV\"],[\"juvenile\",\"IV\"],[\"juvenile\",\"IV\"],[\"juvenile\",\"IV\"],[\"juvenile\",\"IV\"],[\"juvenile\",\"IV\"],[\"juvenile\",\"IV\"],[\"juvenile\",\"IV\"],[\"juvenile\",\"IV\"],[\"juvenile\",\"IV\"],[\"juvenile\",\"IV\"],[\"juvenile\",\"IV\"],[\"juvenile\",\"IV\"],[\"juvenile\",\"IV\"]],\"impact force (mN)\":[1205,2527,1745,1556,493,2276,556,1928,2641,1897,1891,1545,1307,1692,1543,1282,775,2032,1240,473,1612,605,327,946,541,1539,529,628,1453,297,703,269,751,245,1182,515,435,383,457,730,614,414,324,776,611,544,538,579,806,459,458,626,621,544,535,385,401,614,665,488,172,142,37,453,355,22,502,273,720,582,198,198,597,516,815,402,605,711,614,468]},\"selected\":{\"id\":\"41e60d83-b323-4e04-bcf5-fc807b0adac7\",\"type\":\"Selection\"},\"selection_policy\":{\"id\":\"742a3d4f-3f71-47ae-a8d1-9b0fb373da64\",\"type\":\"UnionRenderers\"}},\"id\":\"538e8321-bc2a-46e4-94c3-8173ea77068f\",\"type\":\"ColumnDataSource\"},{\"attributes\":{\"grid_line_color\":{\"value\":null},\"plot\":{\"id\":\"58bb4f41-b2ce-493e-b9f0-ca7b810c6a90\",\"subtype\":\"Figure\",\"type\":\"Plot\"},\"ticker\":{\"id\":\"73f8cfd6-4705-4224-a04c-cbbb623008b6\",\"type\":\"CategoricalTicker\"}},\"id\":\"2ffc965f-0645-47d1-b098-d2cc9947b3b7\",\"type\":\"Grid\"},{\"attributes\":{},\"id\":\"c8d109fb-6c15-4a9b-ba80-3ba398f8d927\",\"type\":\"BasicTicker\"},{\"attributes\":{\"callback\":null},\"id\":\"be8361c2-a368-4edb-96f6-ed11a056d0da\",\"type\":\"DataRange1d\"},{\"attributes\":{},\"id\":\"17373d0d-5f9b-4afc-97e3-28d78ae45069\",\"type\":\"CategoricalTickFormatter\"},{\"attributes\":{\"active_drag\":\"auto\",\"active_inspect\":\"auto\",\"active_multi\":null,\"active_scroll\":\"auto\",\"active_tap\":\"auto\",\"tools\":[{\"id\":\"0fb367d8-36fa-431a-b8f7-c633701ddd77\",\"type\":\"PanTool\"},{\"id\":\"d830ea63-891d-4c8e-8a4e-5f97066d3ea9\",\"type\":\"WheelZoomTool\"},{\"id\":\"2a9895f7-90a2-4bc1-af00-26bb094fc274\",\"type\":\"BoxZoomTool\"},{\"id\":\"d5b9621e-0265-4484-b0b2-710eda69e28a\",\"type\":\"SaveTool\"},{\"id\":\"80ab013d-1007-49b8-9162-2c2b4fc4f797\",\"type\":\"ResetTool\"},{\"id\":\"f59ac54e-da69-4601-9158-c74460b7220e\",\"type\":\"HelpTool\"}]},\"id\":\"0cdb7c6e-a3d1-41ac-928f-d660916c9d1d\",\"type\":\"Toolbar\"},{\"attributes\":{\"below\":[{\"id\":\"50af1616-d996-4690-a93c-7fe708f7ac9a\",\"type\":\"CategoricalAxis\"}],\"left\":[{\"id\":\"a7731ebe-37e2-427c-a8de-bdd187b97153\",\"type\":\"LinearAxis\"}],\"plot_height\":300,\"plot_width\":400,\"renderers\":[{\"id\":\"50af1616-d996-4690-a93c-7fe708f7ac9a\",\"type\":\"CategoricalAxis\"},{\"id\":\"2ffc965f-0645-47d1-b098-d2cc9947b3b7\",\"type\":\"Grid\"},{\"id\":\"a7731ebe-37e2-427c-a8de-bdd187b97153\",\"type\":\"LinearAxis\"},{\"id\":\"bb623ae5-cd6f-4f9e-89a9-2ab7b34e2b65\",\"type\":\"Grid\"},{\"id\":\"b5d02b0d-79cd-44ca-9c83-7ae2fc15af5d\",\"type\":\"BoxAnnotation\"},{\"id\":\"d045a529-99e5-4b21-8779-dc700e653ab5\",\"type\":\"GlyphRenderer\"}],\"title\":null,\"toolbar\":{\"id\":\"0cdb7c6e-a3d1-41ac-928f-d660916c9d1d\",\"type\":\"Toolbar\"},\"x_range\":{\"id\":\"586856fa-c62d-4fc8-b7d6-4731abd4cee0\",\"type\":\"FactorRange\"},\"x_scale\":{\"id\":\"acf73ff3-e055-42ef-a454-7f5baf18cccb\",\"type\":\"CategoricalScale\"},\"y_range\":{\"id\":\"be8361c2-a368-4edb-96f6-ed11a056d0da\",\"type\":\"DataRange1d\"},\"y_scale\":{\"id\":\"7971ddff-0f2b-4e77-a892-cd9cc44ece43\",\"type\":\"LinearScale\"}},\"id\":\"58bb4f41-b2ce-493e-b9f0-ca7b810c6a90\",\"subtype\":\"Figure\",\"type\":\"Plot\"},{\"attributes\":{},\"id\":\"c77b5f6d-9ad3-43a0-b279-cbda51df00b6\",\"type\":\"BasicTickFormatter\"},{\"attributes\":{\"factors\":[[\"adult\",\"I\"],[\"adult\",\"II\"],[\"juvenile\",\"III\"],[\"juvenile\",\"IV\"]],\"palette\":[\"#4e79a7\",\"#f28e2b\",\"#e15759\",\"#76b7b2\",\"#59a14f\",\"#edc948\",\"#b07aa1\",\"#ff9da7\",\"#9c755f\",\"#bab0ac\"]},\"id\":\"def00552-46a9-449d-a071-4752cbc19983\",\"type\":\"CategoricalColorMapper\"},{\"attributes\":{},\"id\":\"41e60d83-b323-4e04-bcf5-fc807b0adac7\",\"type\":\"Selection\"},{\"attributes\":{\"fill_alpha\":{\"value\":0.1},\"fill_color\":{\"value\":\"#1f77b4\"},\"line_alpha\":{\"value\":0.1},\"line_color\":{\"value\":\"#1f77b4\"},\"x\":{\"field\":\"cat\",\"transform\":{\"id\":\"ae8c45cd-719f-4fc9-94cc-1b0657ce1e08\",\"type\":\"Jitter\"}},\"y\":{\"field\":\"impact force (mN)\"}},\"id\":\"7ae5520e-0f8d-4838-9a29-ca65f9b0b90f\",\"type\":\"Circle\"},{\"attributes\":{\"bottom_units\":\"screen\",\"fill_alpha\":{\"value\":0.5},\"fill_color\":{\"value\":\"lightgrey\"},\"left_units\":\"screen\",\"level\":\"overlay\",\"line_alpha\":{\"value\":1.0},\"line_color\":{\"value\":\"black\"},\"line_dash\":[4,4],\"line_width\":{\"value\":2},\"plot\":null,\"render_mode\":\"css\",\"right_units\":\"screen\",\"top_units\":\"screen\"},\"id\":\"b5d02b0d-79cd-44ca-9c83-7ae2fc15af5d\",\"type\":\"BoxAnnotation\"},{\"attributes\":{\"range\":{\"id\":\"586856fa-c62d-4fc8-b7d6-4731abd4cee0\",\"type\":\"FactorRange\"},\"width\":0.4},\"id\":\"ae8c45cd-719f-4fc9-94cc-1b0657ce1e08\",\"type\":\"Jitter\"},{\"attributes\":{},\"id\":\"d5b9621e-0265-4484-b0b2-710eda69e28a\",\"type\":\"SaveTool\"},{\"attributes\":{\"axis_label\":\"impact force (mN)\",\"formatter\":{\"id\":\"c77b5f6d-9ad3-43a0-b279-cbda51df00b6\",\"type\":\"BasicTickFormatter\"},\"plot\":{\"id\":\"58bb4f41-b2ce-493e-b9f0-ca7b810c6a90\",\"subtype\":\"Figure\",\"type\":\"Plot\"},\"ticker\":{\"id\":\"c8d109fb-6c15-4a9b-ba80-3ba398f8d927\",\"type\":\"BasicTicker\"}},\"id\":\"a7731ebe-37e2-427c-a8de-bdd187b97153\",\"type\":\"LinearAxis\"}],\"root_ids\":[\"58bb4f41-b2ce-493e-b9f0-ca7b810c6a90\"]},\"title\":\"Bokeh Application\",\"version\":\"0.13.0\"}};\n",
       "  var render_items = [{\"docid\":\"1e7ff56d-95ae-4037-a52a-07d1d5fb4f3b\",\"roots\":{\"58bb4f41-b2ce-493e-b9f0-ca7b810c6a90\":\"4ec8f106-a58e-40c6-9dc6-360f68728818\"}}];\n",
       "  root.Bokeh.embed.embed_items_notebook(docs_json, render_items);\n",
       "\n",
       "  }\n",
       "  if (root.Bokeh !== undefined) {\n",
       "    embed_document(root);\n",
       "  } else {\n",
       "    var attempts = 0;\n",
       "    var timer = setInterval(function(root) {\n",
       "      if (root.Bokeh !== undefined) {\n",
       "        embed_document(root);\n",
       "        clearInterval(timer);\n",
       "      }\n",
       "      attempts++;\n",
       "      if (attempts > 100) {\n",
       "        console.log(\"Bokeh: ERROR: Unable to run BokehJS code because BokehJS library is missing\")\n",
       "        clearInterval(timer);\n",
       "      }\n",
       "    }, 10, root)\n",
       "  }\n",
       "})(window);"
      ],
      "application/vnd.bokehjs_exec.v0+json": ""
     },
     "metadata": {
      "application/vnd.bokehjs_exec.v0+json": {
       "id": "58bb4f41-b2ce-493e-b9f0-ca7b810c6a90"
      }
     },
     "output_type": "display_data"
    }
   ],
   "source": [
    "p = bebi103.viz.jitter( data=df, \n",
    "                        cats=['age', 'ID'], \n",
    "                        val='impact force (mN)', \n",
    "                        p=None, \n",
    "                        horizontal=False, \n",
    "                        x_axis_label='ID', \n",
    "                        y_axis_label='impact force (mN)', \n",
    "                        title=None, \n",
    "                        plot_height=300, \n",
    "                        plot_width=400, \n",
    "                        palette=['#4e79a7', '#f28e2b', '#e15759', '#76b7b2', '#59a14f',\n",
    "                                 '#edc948', '#b07aa1', '#ff9da7', '#9c755f', '#bab0ac'],\n",
    "                        width=0.4, \n",
    "                        order=None, \n",
    "                        val_axis_type='linear', \n",
    "                        show_legend=False,\n",
    "                        color_column=None, \n",
    "                        tooltips=None)\n",
    "bokeh.io.show(p) "
   ]
  },
  {
   "cell_type": "code",
   "execution_count": 10,
   "metadata": {},
   "outputs": [
    {
     "data": {
      "text/html": [
       "\n",
       "\n",
       "\n",
       "\n",
       "\n",
       "\n",
       "  <div class=\"bk-root\" id=\"dfd6b735-8c77-43e9-8828-a751179777c5\"></div>\n"
      ]
     },
     "metadata": {},
     "output_type": "display_data"
    },
    {
     "data": {
      "application/javascript": [
       "(function(root) {\n",
       "  function embed_document(root) {\n",
       "    \n",
       "  var docs_json = {\"233b5404-d839-42e7-829b-54a4f6fb088b\":{\"roots\":{\"references\":[{\"attributes\":{\"axis_label\":\"impact force (mN)\",\"formatter\":{\"id\":\"c6be4e4e-89f2-497c-950a-dada1772ca2e\",\"type\":\"BasicTickFormatter\"},\"plot\":{\"id\":\"1641b715-9f81-496c-bc9b-d89f4ac1f2af\",\"subtype\":\"Figure\",\"type\":\"Plot\"},\"ticker\":{\"id\":\"50deaca9-cee1-4277-a519-ef5d59e673be\",\"type\":\"BasicTicker\"}},\"id\":\"30a528f1-3cf3-4618-9d37-5ee2cca19398\",\"type\":\"LinearAxis\"},{\"attributes\":{},\"id\":\"62ebc857-ee77-4deb-b246-88e6c62e4abb\",\"type\":\"CategoricalScale\"},{\"attributes\":{},\"id\":\"98a413db-1bec-442d-b154-19f1723c7b00\",\"type\":\"CategoricalTicker\"},{\"attributes\":{\"dimension\":1,\"grid_line_color\":{\"value\":null},\"plot\":{\"id\":\"1641b715-9f81-496c-bc9b-d89f4ac1f2af\",\"subtype\":\"Figure\",\"type\":\"Plot\"},\"ticker\":{\"id\":\"98a413db-1bec-442d-b154-19f1723c7b00\",\"type\":\"CategoricalTicker\"}},\"id\":\"53d855c5-6db9-4279-bf8d-116db57c4d3c\",\"type\":\"Grid\"},{\"attributes\":{},\"id\":\"c6be4e4e-89f2-497c-950a-dada1772ca2e\",\"type\":\"BasicTickFormatter\"},{\"attributes\":{},\"id\":\"b6f23789-e7b3-484e-8908-5305003e2d2d\",\"type\":\"LinearScale\"},{\"attributes\":{},\"id\":\"4b1d1f7d-aac4-4030-a6d9-e1e4ad10fdd7\",\"type\":\"PanTool\"},{\"attributes\":{\"active_drag\":\"auto\",\"active_inspect\":\"auto\",\"active_multi\":null,\"active_scroll\":\"auto\",\"active_tap\":\"auto\",\"tools\":[{\"id\":\"4b1d1f7d-aac4-4030-a6d9-e1e4ad10fdd7\",\"type\":\"PanTool\"},{\"id\":\"1a5db102-36c1-405e-b24e-a091ddeb68e4\",\"type\":\"WheelZoomTool\"},{\"id\":\"84ad3390-7715-4e85-8d57-bfb17d558f34\",\"type\":\"BoxZoomTool\"},{\"id\":\"02f64bd3-b62a-444e-8e19-f3e41064fc41\",\"type\":\"SaveTool\"},{\"id\":\"664539a4-2bfb-4ae0-b299-3f0b14740912\",\"type\":\"ResetTool\"},{\"id\":\"2c8c6d6a-d58e-4170-b87a-7108e6a67c77\",\"type\":\"HelpTool\"}]},\"id\":\"8e44ce7b-0664-43ed-904d-d26417f680a0\",\"type\":\"Toolbar\"},{\"attributes\":{\"range\":{\"id\":\"83743b0d-f7af-44d2-b6e3-2ef21f7dc183\",\"type\":\"FactorRange\"},\"width\":0.4},\"id\":\"40201b2e-5d53-41aa-8c77-0e22d949ffe2\",\"type\":\"Jitter\"},{\"attributes\":{},\"id\":\"1a5db102-36c1-405e-b24e-a091ddeb68e4\",\"type\":\"WheelZoomTool\"},{\"attributes\":{\"below\":[{\"id\":\"30a528f1-3cf3-4618-9d37-5ee2cca19398\",\"type\":\"LinearAxis\"}],\"left\":[{\"id\":\"0ebe5617-4638-4f1c-804f-15fe36531e6e\",\"type\":\"CategoricalAxis\"}],\"plot_height\":300,\"plot_width\":400,\"renderers\":[{\"id\":\"30a528f1-3cf3-4618-9d37-5ee2cca19398\",\"type\":\"LinearAxis\"},{\"id\":\"13e48ccd-7f40-4dd6-a9d7-fe0283886dcc\",\"type\":\"Grid\"},{\"id\":\"0ebe5617-4638-4f1c-804f-15fe36531e6e\",\"type\":\"CategoricalAxis\"},{\"id\":\"53d855c5-6db9-4279-bf8d-116db57c4d3c\",\"type\":\"Grid\"},{\"id\":\"9b6a0ee5-66b5-44ba-9974-82093832790d\",\"type\":\"BoxAnnotation\"},{\"id\":\"fd26f9e6-b151-4c60-99f1-1c6fac8de5ee\",\"type\":\"GlyphRenderer\"}],\"title\":null,\"toolbar\":{\"id\":\"8e44ce7b-0664-43ed-904d-d26417f680a0\",\"type\":\"Toolbar\"},\"x_range\":{\"id\":\"2c8fd48a-7170-43a5-99c2-9b42f230084f\",\"type\":\"DataRange1d\"},\"x_scale\":{\"id\":\"b6f23789-e7b3-484e-8908-5305003e2d2d\",\"type\":\"LinearScale\"},\"y_range\":{\"id\":\"83743b0d-f7af-44d2-b6e3-2ef21f7dc183\",\"type\":\"FactorRange\"},\"y_scale\":{\"id\":\"62ebc857-ee77-4deb-b246-88e6c62e4abb\",\"type\":\"CategoricalScale\"}},\"id\":\"1641b715-9f81-496c-bc9b-d89f4ac1f2af\",\"subtype\":\"Figure\",\"type\":\"Plot\"},{\"attributes\":{\"callback\":null},\"id\":\"2c8fd48a-7170-43a5-99c2-9b42f230084f\",\"type\":\"DataRange1d\"},{\"attributes\":{\"callback\":null,\"factors\":[[\"juvenile\",\"IV\"],[\"juvenile\",\"III\"],[\"adult\",\"II\"],[\"adult\",\"I\"]]},\"id\":\"83743b0d-f7af-44d2-b6e3-2ef21f7dc183\",\"type\":\"FactorRange\"},{\"attributes\":{\"overlay\":{\"id\":\"9b6a0ee5-66b5-44ba-9974-82093832790d\",\"type\":\"BoxAnnotation\"}},\"id\":\"84ad3390-7715-4e85-8d57-bfb17d558f34\",\"type\":\"BoxZoomTool\"},{\"attributes\":{\"factors\":[\"1\",\"2\",\"3\",\"4\",\"5\"],\"palette\":[\"#4e79a7\",\"#f28e2b\",\"#e15759\",\"#76b7b2\",\"#59a14f\",\"#edc948\",\"#b07aa1\",\"#ff9da7\",\"#9c755f\",\"#bab0ac\"]},\"id\":\"0b0077dc-d752-482c-a8fe-211396e693fc\",\"type\":\"CategoricalColorMapper\"},{\"attributes\":{\"fill_color\":{\"field\":\"trial number\",\"transform\":{\"id\":\"0b0077dc-d752-482c-a8fe-211396e693fc\",\"type\":\"CategoricalColorMapper\"}},\"line_color\":{\"field\":\"trial number\",\"transform\":{\"id\":\"0b0077dc-d752-482c-a8fe-211396e693fc\",\"type\":\"CategoricalColorMapper\"}},\"x\":{\"field\":\"impact force (mN)\"},\"y\":{\"field\":\"cat\",\"transform\":{\"id\":\"40201b2e-5d53-41aa-8c77-0e22d949ffe2\",\"type\":\"Jitter\"}}},\"id\":\"af90ff49-aa27-4fdb-92a5-ac80e9d59e74\",\"type\":\"Circle\"},{\"attributes\":{},\"id\":\"02f64bd3-b62a-444e-8e19-f3e41064fc41\",\"type\":\"SaveTool\"},{\"attributes\":{},\"id\":\"74e1ba8f-a5e2-46f2-8e5c-b43583fafd40\",\"type\":\"Selection\"},{\"attributes\":{},\"id\":\"2a366055-0345-44f8-8453-44d123a214f8\",\"type\":\"UnionRenderers\"},{\"attributes\":{},\"id\":\"664539a4-2bfb-4ae0-b299-3f0b14740912\",\"type\":\"ResetTool\"},{\"attributes\":{\"fill_alpha\":{\"value\":0.1},\"fill_color\":{\"value\":\"#1f77b4\"},\"line_alpha\":{\"value\":0.1},\"line_color\":{\"value\":\"#1f77b4\"},\"x\":{\"field\":\"impact force (mN)\"},\"y\":{\"field\":\"cat\",\"transform\":{\"id\":\"40201b2e-5d53-41aa-8c77-0e22d949ffe2\",\"type\":\"Jitter\"}}},\"id\":\"cbc541ca-4db4-463e-bf9b-5e7e7461c7cd\",\"type\":\"Circle\"},{\"attributes\":{\"data_source\":{\"id\":\"364d5958-1f07-4a5c-8870-43fd54df3c96\",\"type\":\"ColumnDataSource\"},\"glyph\":{\"id\":\"af90ff49-aa27-4fdb-92a5-ac80e9d59e74\",\"type\":\"Circle\"},\"hover_glyph\":null,\"muted_glyph\":null,\"nonselection_glyph\":{\"id\":\"cbc541ca-4db4-463e-bf9b-5e7e7461c7cd\",\"type\":\"Circle\"},\"selection_glyph\":null,\"view\":{\"id\":\"9645435a-fe00-4667-806f-227c6a011af2\",\"type\":\"CDSView\"}},\"id\":\"fd26f9e6-b151-4c60-99f1-1c6fac8de5ee\",\"type\":\"GlyphRenderer\"},{\"attributes\":{},\"id\":\"2c8c6d6a-d58e-4170-b87a-7108e6a67c77\",\"type\":\"HelpTool\"},{\"attributes\":{\"plot\":{\"id\":\"1641b715-9f81-496c-bc9b-d89f4ac1f2af\",\"subtype\":\"Figure\",\"type\":\"Plot\"},\"ticker\":{\"id\":\"50deaca9-cee1-4277-a519-ef5d59e673be\",\"type\":\"BasicTicker\"}},\"id\":\"13e48ccd-7f40-4dd6-a9d7-fe0283886dcc\",\"type\":\"Grid\"},{\"attributes\":{\"bottom_units\":\"screen\",\"fill_alpha\":{\"value\":0.5},\"fill_color\":{\"value\":\"lightgrey\"},\"left_units\":\"screen\",\"level\":\"overlay\",\"line_alpha\":{\"value\":1.0},\"line_color\":{\"value\":\"black\"},\"line_dash\":[4,4],\"line_width\":{\"value\":2},\"plot\":null,\"render_mode\":\"css\",\"right_units\":\"screen\",\"top_units\":\"screen\"},\"id\":\"9b6a0ee5-66b5-44ba-9974-82093832790d\",\"type\":\"BoxAnnotation\"},{\"attributes\":{\"source\":{\"id\":\"364d5958-1f07-4a5c-8870-43fd54df3c96\",\"type\":\"ColumnDataSource\"}},\"id\":\"9645435a-fe00-4667-806f-227c6a011af2\",\"type\":\"CDSView\"},{\"attributes\":{},\"id\":\"9e8cb29c-81e6-4cf9-a5ef-516e8f6c8c24\",\"type\":\"CategoricalTickFormatter\"},{\"attributes\":{},\"id\":\"50deaca9-cee1-4277-a519-ef5d59e673be\",\"type\":\"BasicTicker\"},{\"attributes\":{\"callback\":null,\"data\":{\"ID\":[\"I\",\"I\",\"I\",\"I\",\"I\",\"I\",\"I\",\"I\",\"I\",\"I\",\"I\",\"I\",\"I\",\"I\",\"I\",\"I\",\"I\",\"I\",\"I\",\"I\",\"II\",\"II\",\"II\",\"II\",\"II\",\"II\",\"II\",\"II\",\"II\",\"II\",\"II\",\"II\",\"II\",\"II\",\"II\",\"II\",\"II\",\"II\",\"II\",\"II\",\"III\",\"III\",\"III\",\"III\",\"III\",\"III\",\"III\",\"III\",\"III\",\"III\",\"III\",\"III\",\"III\",\"III\",\"III\",\"III\",\"III\",\"III\",\"III\",\"III\",\"IV\",\"IV\",\"IV\",\"IV\",\"IV\",\"IV\",\"IV\",\"IV\",\"IV\",\"IV\",\"IV\",\"IV\",\"IV\",\"IV\",\"IV\",\"IV\",\"IV\",\"IV\",\"IV\",\"IV\"],\"__label\":[\"3\",\"4\",\"1\",\"2\",\"3\",\"4\",\"1\",\"2\",\"3\",\"4\",\"1\",\"2\",\"3\",\"4\",\"5\",\"1\",\"2\",\"3\",\"4\",\"5\",\"1\",\"2\",\"3\",\"4\",\"1\",\"2\",\"3\",\"4\",\"1\",\"2\",\"3\",\"4\",\"1\",\"2\",\"1\",\"2\",\"1\",\"2\",\"3\",\"1\",\"1\",\"2\",\"3\",\"1\",\"2\",\"3\",\"1\",\"2\",\"1\",\"2\",\"3\",\"4\",\"1\",\"2\",\"3\",\"4\",\"1\",\"2\",\"3\",\"4\",\"2\",\"3\",\"4\",\"1\",\"2\",\"3\",\"1\",\"1\",\"2\",\"3\",\"4\",\"1\",\"1\",\"2\",\"3\",\"4\",\"1\",\"2\",\"3\",\"4\"],\"age\":[\"adult\",\"adult\",\"adult\",\"adult\",\"adult\",\"adult\",\"adult\",\"adult\",\"adult\",\"adult\",\"adult\",\"adult\",\"adult\",\"adult\",\"adult\",\"adult\",\"adult\",\"adult\",\"adult\",\"adult\",\"adult\",\"adult\",\"adult\",\"adult\",\"adult\",\"adult\",\"adult\",\"adult\",\"adult\",\"adult\",\"adult\",\"adult\",\"adult\",\"adult\",\"adult\",\"adult\",\"adult\",\"adult\",\"adult\",\"adult\",\"juvenile\",\"juvenile\",\"juvenile\",\"juvenile\",\"juvenile\",\"juvenile\",\"juvenile\",\"juvenile\",\"juvenile\",\"juvenile\",\"juvenile\",\"juvenile\",\"juvenile\",\"juvenile\",\"juvenile\",\"juvenile\",\"juvenile\",\"juvenile\",\"juvenile\",\"juvenile\",\"juvenile\",\"juvenile\",\"juvenile\",\"juvenile\",\"juvenile\",\"juvenile\",\"juvenile\",\"juvenile\",\"juvenile\",\"juvenile\",\"juvenile\",\"juvenile\",\"juvenile\",\"juvenile\",\"juvenile\",\"juvenile\",\"juvenile\",\"juvenile\",\"juvenile\",\"juvenile\"],\"cat\":[[\"adult\",\"I\"],[\"adult\",\"I\"],[\"adult\",\"I\"],[\"adult\",\"I\"],[\"adult\",\"I\"],[\"adult\",\"I\"],[\"adult\",\"I\"],[\"adult\",\"I\"],[\"adult\",\"I\"],[\"adult\",\"I\"],[\"adult\",\"I\"],[\"adult\",\"I\"],[\"adult\",\"I\"],[\"adult\",\"I\"],[\"adult\",\"I\"],[\"adult\",\"I\"],[\"adult\",\"I\"],[\"adult\",\"I\"],[\"adult\",\"I\"],[\"adult\",\"I\"],[\"adult\",\"II\"],[\"adult\",\"II\"],[\"adult\",\"II\"],[\"adult\",\"II\"],[\"adult\",\"II\"],[\"adult\",\"II\"],[\"adult\",\"II\"],[\"adult\",\"II\"],[\"adult\",\"II\"],[\"adult\",\"II\"],[\"adult\",\"II\"],[\"adult\",\"II\"],[\"adult\",\"II\"],[\"adult\",\"II\"],[\"adult\",\"II\"],[\"adult\",\"II\"],[\"adult\",\"II\"],[\"adult\",\"II\"],[\"adult\",\"II\"],[\"adult\",\"II\"],[\"juvenile\",\"III\"],[\"juvenile\",\"III\"],[\"juvenile\",\"III\"],[\"juvenile\",\"III\"],[\"juvenile\",\"III\"],[\"juvenile\",\"III\"],[\"juvenile\",\"III\"],[\"juvenile\",\"III\"],[\"juvenile\",\"III\"],[\"juvenile\",\"III\"],[\"juvenile\",\"III\"],[\"juvenile\",\"III\"],[\"juvenile\",\"III\"],[\"juvenile\",\"III\"],[\"juvenile\",\"III\"],[\"juvenile\",\"III\"],[\"juvenile\",\"III\"],[\"juvenile\",\"III\"],[\"juvenile\",\"III\"],[\"juvenile\",\"III\"],[\"juvenile\",\"IV\"],[\"juvenile\",\"IV\"],[\"juvenile\",\"IV\"],[\"juvenile\",\"IV\"],[\"juvenile\",\"IV\"],[\"juvenile\",\"IV\"],[\"juvenile\",\"IV\"],[\"juvenile\",\"IV\"],[\"juvenile\",\"IV\"],[\"juvenile\",\"IV\"],[\"juvenile\",\"IV\"],[\"juvenile\",\"IV\"],[\"juvenile\",\"IV\"],[\"juvenile\",\"IV\"],[\"juvenile\",\"IV\"],[\"juvenile\",\"IV\"],[\"juvenile\",\"IV\"],[\"juvenile\",\"IV\"],[\"juvenile\",\"IV\"],[\"juvenile\",\"IV\"]],\"impact force (mN)\":[1205,2527,1745,1556,493,2276,556,1928,2641,1897,1891,1545,1307,1692,1543,1282,775,2032,1240,473,1612,605,327,946,541,1539,529,628,1453,297,703,269,751,245,1182,515,435,383,457,730,614,414,324,776,611,544,538,579,806,459,458,626,621,544,535,385,401,614,665,488,172,142,37,453,355,22,502,273,720,582,198,198,597,516,815,402,605,711,614,468],\"trial number\":[\"3\",\"4\",\"1\",\"2\",\"3\",\"4\",\"1\",\"2\",\"3\",\"4\",\"1\",\"2\",\"3\",\"4\",\"5\",\"1\",\"2\",\"3\",\"4\",\"5\",\"1\",\"2\",\"3\",\"4\",\"1\",\"2\",\"3\",\"4\",\"1\",\"2\",\"3\",\"4\",\"1\",\"2\",\"1\",\"2\",\"1\",\"2\",\"3\",\"1\",\"1\",\"2\",\"3\",\"1\",\"2\",\"3\",\"1\",\"2\",\"1\",\"2\",\"3\",\"4\",\"1\",\"2\",\"3\",\"4\",\"1\",\"2\",\"3\",\"4\",\"2\",\"3\",\"4\",\"1\",\"2\",\"3\",\"1\",\"1\",\"2\",\"3\",\"4\",\"1\",\"1\",\"2\",\"3\",\"4\",\"1\",\"2\",\"3\",\"4\"]},\"selected\":{\"id\":\"74e1ba8f-a5e2-46f2-8e5c-b43583fafd40\",\"type\":\"Selection\"},\"selection_policy\":{\"id\":\"2a366055-0345-44f8-8453-44d123a214f8\",\"type\":\"UnionRenderers\"}},\"id\":\"364d5958-1f07-4a5c-8870-43fd54df3c96\",\"type\":\"ColumnDataSource\"},{\"attributes\":{\"formatter\":{\"id\":\"9e8cb29c-81e6-4cf9-a5ef-516e8f6c8c24\",\"type\":\"CategoricalTickFormatter\"},\"plot\":{\"id\":\"1641b715-9f81-496c-bc9b-d89f4ac1f2af\",\"subtype\":\"Figure\",\"type\":\"Plot\"},\"ticker\":{\"id\":\"98a413db-1bec-442d-b154-19f1723c7b00\",\"type\":\"CategoricalTicker\"}},\"id\":\"0ebe5617-4638-4f1c-804f-15fe36531e6e\",\"type\":\"CategoricalAxis\"}],\"root_ids\":[\"1641b715-9f81-496c-bc9b-d89f4ac1f2af\"]},\"title\":\"Bokeh Application\",\"version\":\"0.13.0\"}};\n",
       "  var render_items = [{\"docid\":\"233b5404-d839-42e7-829b-54a4f6fb088b\",\"roots\":{\"1641b715-9f81-496c-bc9b-d89f4ac1f2af\":\"dfd6b735-8c77-43e9-8828-a751179777c5\"}}];\n",
       "  root.Bokeh.embed.embed_items_notebook(docs_json, render_items);\n",
       "\n",
       "  }\n",
       "  if (root.Bokeh !== undefined) {\n",
       "    embed_document(root);\n",
       "  } else {\n",
       "    var attempts = 0;\n",
       "    var timer = setInterval(function(root) {\n",
       "      if (root.Bokeh !== undefined) {\n",
       "        embed_document(root);\n",
       "        clearInterval(timer);\n",
       "      }\n",
       "      attempts++;\n",
       "      if (attempts > 100) {\n",
       "        console.log(\"Bokeh: ERROR: Unable to run BokehJS code because BokehJS library is missing\")\n",
       "        clearInterval(timer);\n",
       "      }\n",
       "    }, 10, root)\n",
       "  }\n",
       "})(window);"
      ],
      "application/vnd.bokehjs_exec.v0+json": ""
     },
     "metadata": {
      "application/vnd.bokehjs_exec.v0+json": {
       "id": "1641b715-9f81-496c-bc9b-d89f4ac1f2af"
      }
     },
     "output_type": "display_data"
    }
   ],
   "source": [
    "p = bebi103.viz.jitter( data=df, \n",
    "                        cats=['age', 'ID'], \n",
    "                        val='impact force (mN)', \n",
    "                        p=None, \n",
    "                        horizontal=True, \n",
    "                        y_axis_label=None, \n",
    "                        x_axis_label='impact force (mN)', \n",
    "                        title=None, \n",
    "                        plot_height=300, \n",
    "                        plot_width=400, \n",
    "                        palette=['#4e79a7', '#f28e2b', '#e15759', '#76b7b2', '#59a14f',\n",
    "                                 '#edc948', '#b07aa1', '#ff9da7', '#9c755f', '#bab0ac'],\n",
    "                        width=0.4, \n",
    "                        order=None, \n",
    "                        val_axis_type='linear', \n",
    "                        show_legend=False,\n",
    "                        color_column='trial number', \n",
    "                        tooltips=None)\n",
    "bokeh.io.show(p) "
   ]
  },
  {
   "cell_type": "markdown",
   "metadata": {},
   "source": [
    "## ECDFs"
   ]
  },
  {
   "cell_type": "code",
   "execution_count": 11,
   "metadata": {},
   "outputs": [
    {
     "data": {
      "text/html": [
       "\n",
       "\n",
       "\n",
       "\n",
       "\n",
       "\n",
       "  <div class=\"bk-root\" id=\"b2322d10-829c-48a1-aad8-60e1b7f9287f\"></div>\n"
      ]
     },
     "metadata": {},
     "output_type": "display_data"
    },
    {
     "data": {
      "application/javascript": [
       "(function(root) {\n",
       "  function embed_document(root) {\n",
       "    \n",
       "  var docs_json = {\"52fa8077-172b-4a7c-a85b-4ef08c27cade\":{\"roots\":{\"references\":[{\"attributes\":{\"fill_alpha\":{\"value\":0.1},\"fill_color\":{\"value\":\"#1f77b4\"},\"line_alpha\":{\"value\":0.1},\"line_color\":{\"value\":\"#1f77b4\"},\"x\":{\"field\":\"impact force (mN)\"},\"y\":{\"field\":\"__ECDF\"}},\"id\":\"76e30069-68e1-462e-a13a-dfc960cea48c\",\"type\":\"Circle\"},{\"attributes\":{},\"id\":\"b1fe320b-0898-46f2-bb96-67d8f846ab67\",\"type\":\"BasicTickFormatter\"},{\"attributes\":{},\"id\":\"8c240cc0-d936-4561-8c46-53e44ce6267d\",\"type\":\"UnionRenderers\"},{\"attributes\":{},\"id\":\"960431dd-03e4-4284-9c69-ed36f71a4c58\",\"type\":\"SaveTool\"},{\"attributes\":{\"source\":{\"id\":\"d9c47a3e-2a07-4117-8cd7-5418965eb631\",\"type\":\"ColumnDataSource\"}},\"id\":\"cc299fc0-f700-4668-b9b8-b65e222c9706\",\"type\":\"CDSView\"},{\"attributes\":{},\"id\":\"0d9cf408-3d80-4d05-a1e2-465871bef0e0\",\"type\":\"ResetTool\"},{\"attributes\":{},\"id\":\"e3d7824e-b4a0-47b4-b77a-30855a107ff0\",\"type\":\"PanTool\"},{\"attributes\":{\"data_source\":{\"id\":\"d9c47a3e-2a07-4117-8cd7-5418965eb631\",\"type\":\"ColumnDataSource\"},\"glyph\":{\"id\":\"47e1c6bd-d324-41b7-a68c-79919d555e7f\",\"type\":\"Circle\"},\"hover_glyph\":null,\"muted_glyph\":null,\"nonselection_glyph\":{\"id\":\"76e30069-68e1-462e-a13a-dfc960cea48c\",\"type\":\"Circle\"},\"selection_glyph\":null,\"view\":{\"id\":\"cc299fc0-f700-4668-b9b8-b65e222c9706\",\"type\":\"CDSView\"}},\"id\":\"91372703-a030-4a8a-b044-c289d6b72dfd\",\"type\":\"GlyphRenderer\"},{\"attributes\":{\"overlay\":{\"id\":\"3c29838f-1011-4e57-8ad1-7757acb9fd3c\",\"type\":\"BoxAnnotation\"}},\"id\":\"9f4d8111-d711-4c10-8363-b2107886ad7c\",\"type\":\"BoxZoomTool\"},{\"attributes\":{\"callback\":null,\"renderers\":\"auto\",\"tooltips\":[[\"impact force (mN)\",\"@{impact force (mN)}\"],[\"trial number\",\"@{trial number}\"],[\"adhesive force (mN)\",\"@{adhesive force (mN)}\"]]},\"id\":\"e34762c8-0984-4383-a83a-2461a28209c2\",\"type\":\"HoverTool\"},{\"attributes\":{\"plot\":{\"id\":\"2a1d4b43-9ba5-4c03-997e-e83df6456550\",\"subtype\":\"Figure\",\"type\":\"Plot\"},\"ticker\":{\"id\":\"2488ea44-5a99-4b31-bee9-28469862d0b8\",\"type\":\"BasicTicker\"}},\"id\":\"bc3157cc-fce7-4024-8d78-2681d13b1744\",\"type\":\"Grid\"},{\"attributes\":{\"callback\":null,\"data\":{\"ID\":[\"I\",\"I\",\"I\",\"I\",\"I\",\"I\",\"I\",\"I\",\"I\",\"I\",\"I\",\"I\",\"I\",\"I\",\"I\",\"I\",\"I\",\"I\",\"I\",\"I\",\"II\",\"II\",\"II\",\"II\",\"II\",\"II\",\"II\",\"II\",\"II\",\"II\",\"II\",\"II\",\"II\",\"II\",\"II\",\"II\",\"II\",\"II\",\"II\",\"II\",\"III\",\"III\",\"III\",\"III\",\"III\",\"III\",\"III\",\"III\",\"III\",\"III\",\"III\",\"III\",\"III\",\"III\",\"III\",\"III\",\"III\",\"III\",\"III\",\"III\",\"IV\",\"IV\",\"IV\",\"IV\",\"IV\",\"IV\",\"IV\",\"IV\",\"IV\",\"IV\",\"IV\",\"IV\",\"IV\",\"IV\",\"IV\",\"IV\",\"IV\",\"IV\",\"IV\",\"IV\"],\"__ECDF\":[0.25,0.95,0.65,0.55,0.1,0.9,0.15,0.8,1.0,0.75,0.7,0.5,0.4,0.6,0.45,0.35,0.2,0.85,0.3,0.05,1.0,0.55,0.2,0.8,0.5,0.95,0.45,0.6,0.9,0.15,0.65,0.1,0.75,0.05,0.85,0.4,0.3,0.25,0.35,0.7,0.7,0.2,0.05,0.95,0.65,0.5,0.45,0.6,1.0,0.3,0.25,0.85,0.8,0.55,0.4,0.1,0.15,0.75,0.9,0.35,0.2,0.15,0.1,0.5,0.4,0.05,0.6,0.35,0.95,0.7,0.25,0.3,0.75,0.65,1.0,0.45,0.8,0.9,0.85,0.55],\"__label\":[\"I\",\"I\",\"I\",\"I\",\"I\",\"I\",\"I\",\"I\",\"I\",\"I\",\"I\",\"I\",\"I\",\"I\",\"I\",\"I\",\"I\",\"I\",\"I\",\"I\",\"II\",\"II\",\"II\",\"II\",\"II\",\"II\",\"II\",\"II\",\"II\",\"II\",\"II\",\"II\",\"II\",\"II\",\"II\",\"II\",\"II\",\"II\",\"II\",\"II\",\"III\",\"III\",\"III\",\"III\",\"III\",\"III\",\"III\",\"III\",\"III\",\"III\",\"III\",\"III\",\"III\",\"III\",\"III\",\"III\",\"III\",\"III\",\"III\",\"III\",\"IV\",\"IV\",\"IV\",\"IV\",\"IV\",\"IV\",\"IV\",\"IV\",\"IV\",\"IV\",\"IV\",\"IV\",\"IV\",\"IV\",\"IV\",\"IV\",\"IV\",\"IV\",\"IV\",\"IV\"],\"adhesive force (mN)\":[-785,-983,-850,-455,-974,-592,-512,-804,-690,-462,-766,-715,-613,-677,-528,-452,-430,-652,-692,-536,-655,-292,-246,-245,-553,-664,-261,-691,-92,-566,-223,-512,-227,-573,-522,-599,-364,-469,-844,-648,-94,-163,-172,-225,-301,-93,-131,-289,-104,-229,-259,-231,-267,-178,-123,-151,-127,-372,-236,-390,-456,-193,-236,-225,-217,-161,-139,-264,-342,-231,-209,-292,-339,-371,-331,-302,-216,-163,-367,-218],\"cat\":[\"I\",\"I\",\"I\",\"I\",\"I\",\"I\",\"I\",\"I\",\"I\",\"I\",\"I\",\"I\",\"I\",\"I\",\"I\",\"I\",\"I\",\"I\",\"I\",\"I\",\"II\",\"II\",\"II\",\"II\",\"II\",\"II\",\"II\",\"II\",\"II\",\"II\",\"II\",\"II\",\"II\",\"II\",\"II\",\"II\",\"II\",\"II\",\"II\",\"II\",\"III\",\"III\",\"III\",\"III\",\"III\",\"III\",\"III\",\"III\",\"III\",\"III\",\"III\",\"III\",\"III\",\"III\",\"III\",\"III\",\"III\",\"III\",\"III\",\"III\",\"IV\",\"IV\",\"IV\",\"IV\",\"IV\",\"IV\",\"IV\",\"IV\",\"IV\",\"IV\",\"IV\",\"IV\",\"IV\",\"IV\",\"IV\",\"IV\",\"IV\",\"IV\",\"IV\",\"IV\"],\"impact force (mN)\":[1205,2527,1745,1556,493,2276,556,1928,2641,1897,1891,1545,1307,1692,1543,1282,775,2032,1240,473,1612,605,327,946,541,1539,529,628,1453,297,703,269,751,245,1182,515,435,383,457,730,614,414,324,776,611,544,538,579,806,459,458,626,621,544,535,385,401,614,665,488,172,142,37,453,355,22,502,273,720,582,198,198,597,516,815,402,605,711,614,468],\"trial number\":[3,4,1,2,3,4,1,2,3,4,1,2,3,4,5,1,2,3,4,5,1,2,3,4,1,2,3,4,1,2,3,4,1,2,1,2,1,2,3,1,1,2,3,1,2,3,1,2,1,2,3,4,1,2,3,4,1,2,3,4,2,3,4,1,2,3,1,1,2,3,4,1,1,2,3,4,1,2,3,4]},\"selected\":{\"id\":\"0050ac23-7c2e-4e3f-9085-be6f8dd31a90\",\"type\":\"Selection\"},\"selection_policy\":{\"id\":\"8c240cc0-d936-4561-8c46-53e44ce6267d\",\"type\":\"UnionRenderers\"}},\"id\":\"d9c47a3e-2a07-4117-8cd7-5418965eb631\",\"type\":\"ColumnDataSource\"},{\"attributes\":{},\"id\":\"a15fc7c1-115b-485c-89d5-f8b90560aba0\",\"type\":\"LinearScale\"},{\"attributes\":{},\"id\":\"00ca0de8-cfef-454f-88e4-b1ec0bdc7159\",\"type\":\"LinearScale\"},{\"attributes\":{},\"id\":\"d6a67965-14b9-4df5-ba9a-55cd35b1d6a5\",\"type\":\"HelpTool\"},{\"attributes\":{},\"id\":\"4e6e58d0-63f8-469d-8d21-3484104ef20a\",\"type\":\"WheelZoomTool\"},{\"attributes\":{\"bottom_units\":\"screen\",\"fill_alpha\":{\"value\":0.5},\"fill_color\":{\"value\":\"lightgrey\"},\"left_units\":\"screen\",\"level\":\"overlay\",\"line_alpha\":{\"value\":1.0},\"line_color\":{\"value\":\"black\"},\"line_dash\":[4,4],\"line_width\":{\"value\":2},\"plot\":null,\"render_mode\":\"css\",\"right_units\":\"screen\",\"top_units\":\"screen\"},\"id\":\"3c29838f-1011-4e57-8ad1-7757acb9fd3c\",\"type\":\"BoxAnnotation\"},{\"attributes\":{\"callback\":null},\"id\":\"fca16c8f-56d8-4965-a72a-4cd79560606b\",\"type\":\"DataRange1d\"},{\"attributes\":{\"callback\":null},\"id\":\"20a3ff6a-ac08-4236-850d-2a6a73969c02\",\"type\":\"DataRange1d\"},{\"attributes\":{\"axis_label\":\"ECDF\",\"formatter\":{\"id\":\"b1fe320b-0898-46f2-bb96-67d8f846ab67\",\"type\":\"BasicTickFormatter\"},\"plot\":{\"id\":\"2a1d4b43-9ba5-4c03-997e-e83df6456550\",\"subtype\":\"Figure\",\"type\":\"Plot\"},\"ticker\":{\"id\":\"5ad29723-d7dc-4e53-bcba-22a251b2eccb\",\"type\":\"BasicTicker\"}},\"id\":\"ee3380dc-cdef-465b-a248-624fae9c390a\",\"type\":\"LinearAxis\"},{\"attributes\":{},\"id\":\"50f6a687-bd99-4496-85be-6268bd23b00c\",\"type\":\"BasicTickFormatter\"},{\"attributes\":{\"items\":[{\"id\":\"0322acd4-9e18-4c8c-928a-e73585b10667\",\"type\":\"LegendItem\"}],\"location\":\"bottom_right\",\"plot\":{\"id\":\"2a1d4b43-9ba5-4c03-997e-e83df6456550\",\"subtype\":\"Figure\",\"type\":\"Plot\"}},\"id\":\"8f05655f-4b5d-481c-b3d1-47329f872db4\",\"type\":\"Legend\"},{\"attributes\":{\"fill_color\":{\"field\":\"cat\",\"transform\":{\"id\":\"4b402a5d-0901-4f8d-9104-745f823a15e8\",\"type\":\"CategoricalColorMapper\"}},\"line_color\":{\"field\":\"cat\",\"transform\":{\"id\":\"4b402a5d-0901-4f8d-9104-745f823a15e8\",\"type\":\"CategoricalColorMapper\"}},\"x\":{\"field\":\"impact force (mN)\"},\"y\":{\"field\":\"__ECDF\"}},\"id\":\"47e1c6bd-d324-41b7-a68c-79919d555e7f\",\"type\":\"Circle\"},{\"attributes\":{},\"id\":\"0050ac23-7c2e-4e3f-9085-be6f8dd31a90\",\"type\":\"Selection\"},{\"attributes\":{\"active_drag\":\"auto\",\"active_inspect\":\"auto\",\"active_multi\":null,\"active_scroll\":\"auto\",\"active_tap\":\"auto\",\"tools\":[{\"id\":\"e3d7824e-b4a0-47b4-b77a-30855a107ff0\",\"type\":\"PanTool\"},{\"id\":\"4e6e58d0-63f8-469d-8d21-3484104ef20a\",\"type\":\"WheelZoomTool\"},{\"id\":\"9f4d8111-d711-4c10-8363-b2107886ad7c\",\"type\":\"BoxZoomTool\"},{\"id\":\"960431dd-03e4-4284-9c69-ed36f71a4c58\",\"type\":\"SaveTool\"},{\"id\":\"0d9cf408-3d80-4d05-a1e2-465871bef0e0\",\"type\":\"ResetTool\"},{\"id\":\"d6a67965-14b9-4df5-ba9a-55cd35b1d6a5\",\"type\":\"HelpTool\"},{\"id\":\"e34762c8-0984-4383-a83a-2461a28209c2\",\"type\":\"HoverTool\"}]},\"id\":\"e305ecad-a054-4c4a-9814-730d51960fcd\",\"type\":\"Toolbar\"},{\"attributes\":{},\"id\":\"5ad29723-d7dc-4e53-bcba-22a251b2eccb\",\"type\":\"BasicTicker\"},{\"attributes\":{\"factors\":[\"I\",\"III\",\"IV\",\"II\"],\"palette\":[\"#4e79a7\",\"#f28e2b\",\"#e15759\",\"#76b7b2\",\"#59a14f\",\"#edc948\",\"#b07aa1\",\"#ff9da7\",\"#9c755f\",\"#bab0ac\"]},\"id\":\"4b402a5d-0901-4f8d-9104-745f823a15e8\",\"type\":\"CategoricalColorMapper\"},{\"attributes\":{\"below\":[{\"id\":\"0b67fb14-aedc-4a80-a872-16116b5a0cd4\",\"type\":\"LinearAxis\"}],\"left\":[{\"id\":\"ee3380dc-cdef-465b-a248-624fae9c390a\",\"type\":\"LinearAxis\"}],\"plot_height\":300,\"plot_width\":400,\"renderers\":[{\"id\":\"0b67fb14-aedc-4a80-a872-16116b5a0cd4\",\"type\":\"LinearAxis\"},{\"id\":\"bc3157cc-fce7-4024-8d78-2681d13b1744\",\"type\":\"Grid\"},{\"id\":\"ee3380dc-cdef-465b-a248-624fae9c390a\",\"type\":\"LinearAxis\"},{\"id\":\"e82fb534-7856-47b9-ae86-8b61f73bc804\",\"type\":\"Grid\"},{\"id\":\"3c29838f-1011-4e57-8ad1-7757acb9fd3c\",\"type\":\"BoxAnnotation\"},{\"id\":\"8f05655f-4b5d-481c-b3d1-47329f872db4\",\"type\":\"Legend\"},{\"id\":\"91372703-a030-4a8a-b044-c289d6b72dfd\",\"type\":\"GlyphRenderer\"}],\"title\":null,\"toolbar\":{\"id\":\"e305ecad-a054-4c4a-9814-730d51960fcd\",\"type\":\"Toolbar\"},\"x_range\":{\"id\":\"20a3ff6a-ac08-4236-850d-2a6a73969c02\",\"type\":\"DataRange1d\"},\"x_scale\":{\"id\":\"00ca0de8-cfef-454f-88e4-b1ec0bdc7159\",\"type\":\"LinearScale\"},\"y_range\":{\"id\":\"fca16c8f-56d8-4965-a72a-4cd79560606b\",\"type\":\"DataRange1d\"},\"y_scale\":{\"id\":\"a15fc7c1-115b-485c-89d5-f8b90560aba0\",\"type\":\"LinearScale\"}},\"id\":\"2a1d4b43-9ba5-4c03-997e-e83df6456550\",\"subtype\":\"Figure\",\"type\":\"Plot\"},{\"attributes\":{\"label\":{\"field\":\"__label\"},\"renderers\":[{\"id\":\"91372703-a030-4a8a-b044-c289d6b72dfd\",\"type\":\"GlyphRenderer\"}]},\"id\":\"0322acd4-9e18-4c8c-928a-e73585b10667\",\"type\":\"LegendItem\"},{\"attributes\":{\"dimension\":1,\"plot\":{\"id\":\"2a1d4b43-9ba5-4c03-997e-e83df6456550\",\"subtype\":\"Figure\",\"type\":\"Plot\"},\"ticker\":{\"id\":\"5ad29723-d7dc-4e53-bcba-22a251b2eccb\",\"type\":\"BasicTicker\"}},\"id\":\"e82fb534-7856-47b9-ae86-8b61f73bc804\",\"type\":\"Grid\"},{\"attributes\":{\"axis_label\":\"impact force (mN)\",\"formatter\":{\"id\":\"50f6a687-bd99-4496-85be-6268bd23b00c\",\"type\":\"BasicTickFormatter\"},\"plot\":{\"id\":\"2a1d4b43-9ba5-4c03-997e-e83df6456550\",\"subtype\":\"Figure\",\"type\":\"Plot\"},\"ticker\":{\"id\":\"2488ea44-5a99-4b31-bee9-28469862d0b8\",\"type\":\"BasicTicker\"}},\"id\":\"0b67fb14-aedc-4a80-a872-16116b5a0cd4\",\"type\":\"LinearAxis\"},{\"attributes\":{},\"id\":\"2488ea44-5a99-4b31-bee9-28469862d0b8\",\"type\":\"BasicTicker\"}],\"root_ids\":[\"2a1d4b43-9ba5-4c03-997e-e83df6456550\"]},\"title\":\"Bokeh Application\",\"version\":\"0.13.0\"}};\n",
       "  var render_items = [{\"docid\":\"52fa8077-172b-4a7c-a85b-4ef08c27cade\",\"roots\":{\"2a1d4b43-9ba5-4c03-997e-e83df6456550\":\"b2322d10-829c-48a1-aad8-60e1b7f9287f\"}}];\n",
       "  root.Bokeh.embed.embed_items_notebook(docs_json, render_items);\n",
       "\n",
       "  }\n",
       "  if (root.Bokeh !== undefined) {\n",
       "    embed_document(root);\n",
       "  } else {\n",
       "    var attempts = 0;\n",
       "    var timer = setInterval(function(root) {\n",
       "      if (root.Bokeh !== undefined) {\n",
       "        embed_document(root);\n",
       "        clearInterval(timer);\n",
       "      }\n",
       "      attempts++;\n",
       "      if (attempts > 100) {\n",
       "        console.log(\"Bokeh: ERROR: Unable to run BokehJS code because BokehJS library is missing\")\n",
       "        clearInterval(timer);\n",
       "      }\n",
       "    }, 10, root)\n",
       "  }\n",
       "})(window);"
      ],
      "application/vnd.bokehjs_exec.v0+json": ""
     },
     "metadata": {
      "application/vnd.bokehjs_exec.v0+json": {
       "id": "2a1d4b43-9ba5-4c03-997e-e83df6456550"
      }
     },
     "output_type": "display_data"
    }
   ],
   "source": [
    "p = bebi103.viz.ecdf_collection(data=df, \n",
    "                                cats='ID', \n",
    "                                val='impact force (mN)', \n",
    "                                p=None, \n",
    "                                x_axis_label='impact force (mN)', \n",
    "                                y_axis_label=None,\n",
    "                                title=None, \n",
    "                                plot_height=300, \n",
    "                                plot_width=400, \n",
    "                                palette=['#4e79a7', '#f28e2b', '#e15759', '#76b7b2', '#59a14f',\n",
    "                                         '#edc948', '#b07aa1', '#ff9da7', '#9c755f', '#bab0ac'],\n",
    "                                order=['I', 'III', 'IV', 'II'], \n",
    "                                val_axis_type='linear', \n",
    "                                show_legend=True,\n",
    "                                tooltips=[('impact force (mN)', '@{impact force (mN)}'), \n",
    "                                          ('trial number', '@{trial number}'),\n",
    "                                          ('adhesive force (mN)', '@{adhesive force (mN)}')])\n",
    "bokeh.io.show(p) "
   ]
  },
  {
   "cell_type": "code",
   "execution_count": 12,
   "metadata": {},
   "outputs": [
    {
     "data": {
      "text/html": [
       "\n",
       "\n",
       "\n",
       "\n",
       "\n",
       "\n",
       "  <div class=\"bk-root\" id=\"c63db0b2-ff24-4f4b-9ea1-938cf94112c7\"></div>\n"
      ]
     },
     "metadata": {},
     "output_type": "display_data"
    },
    {
     "data": {
      "application/javascript": [
       "(function(root) {\n",
       "  function embed_document(root) {\n",
       "    \n",
       "  var docs_json = {\"5a7d9cf2-2a2b-4f7d-92b1-4aa68b77459b\":{\"roots\":{\"references\":[{\"attributes\":{\"callback\":null,\"data\":{},\"selected\":{\"id\":\"a315015c-cd95-4470-8a5c-f8f5d7bad9ce\",\"type\":\"Selection\"},\"selection_policy\":{\"id\":\"7f542e02-597f-44c9-900a-800caedb22e4\",\"type\":\"UnionRenderers\"}},\"id\":\"9c1f77ba-3dd1-467c-abbc-e4bb170b5c12\",\"type\":\"ColumnDataSource\"},{\"attributes\":{\"line_color\":\"#f28e2b\",\"x\":{\"field\":\"x\"},\"y\":{\"field\":\"y\"}},\"id\":\"e7fa35f7-daa3-40f4-9217-e076462b7a23\",\"type\":\"Line\"},{\"attributes\":{\"source\":{\"id\":\"a91e1684-0a4f-4579-84f6-953423d6374f\",\"type\":\"ColumnDataSource\"}},\"id\":\"c184b675-bcd0-4496-9786-5df4ec2e9dfd\",\"type\":\"CDSView\"},{\"attributes\":{\"line_alpha\":0.1,\"line_color\":\"#1f77b4\",\"x\":{\"field\":\"x\"},\"y\":{\"field\":\"y\"}},\"id\":\"e25d4c08-561a-49fc-aaed-33775935a010\",\"type\":\"Line\"},{\"attributes\":{\"data_source\":{\"id\":\"cc26dc3a-0ced-46ac-95f3-b2fcd41dbe86\",\"type\":\"ColumnDataSource\"},\"glyph\":{\"id\":\"e7fa35f7-daa3-40f4-9217-e076462b7a23\",\"type\":\"Line\"},\"hover_glyph\":null,\"muted_glyph\":null,\"nonselection_glyph\":{\"id\":\"e25d4c08-561a-49fc-aaed-33775935a010\",\"type\":\"Line\"},\"selection_glyph\":null,\"view\":{\"id\":\"1de83b20-c7cb-49c5-881f-d835ce99a40b\",\"type\":\"CDSView\"}},\"id\":\"79224e6b-bae8-4640-9610-12bdc7cf39fb\",\"type\":\"GlyphRenderer\"},{\"attributes\":{\"source\":{\"id\":\"cc26dc3a-0ced-46ac-95f3-b2fcd41dbe86\",\"type\":\"ColumnDataSource\"}},\"id\":\"1de83b20-c7cb-49c5-881f-d835ce99a40b\",\"type\":\"CDSView\"},{\"attributes\":{},\"id\":\"929906a6-e77b-482c-96d7-5a708eae0fba\",\"type\":\"Selection\"},{\"attributes\":{},\"id\":\"f03d1123-a1f6-42fa-8342-273f19c16c4a\",\"type\":\"UnionRenderers\"},{\"attributes\":{},\"id\":\"4001517d-edab-4c91-a659-69c8c3ff640f\",\"type\":\"Selection\"},{\"attributes\":{\"label\":{\"value\":\"III\"},\"renderers\":[{\"id\":\"79224e6b-bae8-4640-9610-12bdc7cf39fb\",\"type\":\"GlyphRenderer\"},{\"id\":\"a0cba0df-d4bb-4d4f-a7b8-494a010131e6\",\"type\":\"GlyphRenderer\"},{\"id\":\"8625c731-e2b4-4559-8387-df15d8f5f99b\",\"type\":\"GlyphRenderer\"}]},\"id\":\"83c51858-6c94-4918-a12b-e74630bc1e0c\",\"type\":\"LegendItem\"},{\"attributes\":{\"callback\":null,\"data\":{},\"selected\":{\"id\":\"929906a6-e77b-482c-96d7-5a708eae0fba\",\"type\":\"Selection\"},\"selection_policy\":{\"id\":\"f03d1123-a1f6-42fa-8342-273f19c16c4a\",\"type\":\"UnionRenderers\"}},\"id\":\"a91e1684-0a4f-4579-84f6-953423d6374f\",\"type\":\"ColumnDataSource\"},{\"attributes\":{\"angle\":{\"units\":\"rad\",\"value\":0},\"line_color\":{\"value\":\"#f28e2b\"},\"x\":{\"value\":806.0},\"y\":{\"value\":1}},\"id\":\"de6edc5a-b0bd-4ca7-b60d-cf566a528331\",\"type\":\"Ray\"},{\"attributes\":{\"angle\":{\"units\":\"rad\",\"value\":3.141592653589793},\"line_color\":{\"value\":\"#f28e2b\"},\"x\":{\"value\":324.0},\"y\":{\"value\":0}},\"id\":\"85ba03f4-9397-4854-9d5e-ea47abbec594\",\"type\":\"Ray\"},{\"attributes\":{\"active_drag\":\"auto\",\"active_inspect\":\"auto\",\"active_multi\":null,\"active_scroll\":\"auto\",\"active_tap\":\"auto\",\"tools\":[{\"id\":\"e3382b00-b04a-48c8-b2fa-1b1e12347c23\",\"type\":\"PanTool\"},{\"id\":\"d8a2d0e0-5c49-4395-9b1a-d92c0362b33d\",\"type\":\"WheelZoomTool\"},{\"id\":\"7babbf03-ecfc-486d-907b-44a368fefb9a\",\"type\":\"BoxZoomTool\"},{\"id\":\"73ecec88-255c-45c2-8765-4bb048fed4a7\",\"type\":\"SaveTool\"},{\"id\":\"20a69217-84f9-4183-8874-e4830567c841\",\"type\":\"ResetTool\"},{\"id\":\"74fc8050-1ae6-47b9-bd21-d2d30e5e88f2\",\"type\":\"HelpTool\"}]},\"id\":\"54497928-21ae-415a-8d65-429b22ec7621\",\"type\":\"Toolbar\"},{\"attributes\":{\"angle\":{\"units\":\"rad\",\"value\":3.141592653589793},\"line_alpha\":{\"value\":0.1},\"line_color\":{\"value\":\"#1f77b4\"},\"x\":{\"value\":324.0},\"y\":{\"value\":0}},\"id\":\"9784aebe-8e9b-4e37-9995-664f539c117e\",\"type\":\"Ray\"},{\"attributes\":{},\"id\":\"7d0c7ae3-346f-4b1f-a2d9-40bc12f89634\",\"type\":\"UnionRenderers\"},{\"attributes\":{\"data_source\":{\"id\":\"9c1f77ba-3dd1-467c-abbc-e4bb170b5c12\",\"type\":\"ColumnDataSource\"},\"glyph\":{\"id\":\"85ba03f4-9397-4854-9d5e-ea47abbec594\",\"type\":\"Ray\"},\"hover_glyph\":null,\"muted_glyph\":null,\"nonselection_glyph\":{\"id\":\"9784aebe-8e9b-4e37-9995-664f539c117e\",\"type\":\"Ray\"},\"selection_glyph\":null,\"view\":{\"id\":\"d403cb2e-1b12-479e-8b04-9a91ac36b207\",\"type\":\"CDSView\"}},\"id\":\"a0cba0df-d4bb-4d4f-a7b8-494a010131e6\",\"type\":\"GlyphRenderer\"},{\"attributes\":{\"callback\":null,\"data\":{\"x\":{\"__ndarray__\":\"AAAAAABAdEAAAAAAAEB0QAAAAAAAEHhAAAAAAAAQeEAAAAAAABB5QAAAAAAAEHlAAAAAAADgeUAAAAAAAOB5QAAAAAAAoHxAAAAAAACgfEAAAAAAALB8QAAAAAAAsHxAAAAAAACAfkAAAAAAAIB+QAAAAAAAuIBAAAAAAAC4gEAAAAAAANCAQAAAAAAA0IBAAAAAAAAAgUAAAAAAAACBQAAAAAAAAIFAAAAAAAAAgUAAAAAAABiCQAAAAAAAGIJAAAAAAAAYg0AAAAAAABiDQAAAAAAAMINAAAAAAAAwg0AAAAAAADCDQAAAAAAAMINAAAAAAABog0AAAAAAAGiDQAAAAAAAkINAAAAAAACQg0AAAAAAAMiEQAAAAAAAyIRAAAAAAABAiEAAAAAAAECIQAAAAAAAMIlAAAAAAAAwiUA=\",\"dtype\":\"float64\",\"shape\":[40]},\"y\":{\"__ndarray__\":\"AAAAAAAAAACamZmZmZmpP5qZmZmZmak/mpmZmZmZuT+amZmZmZm5PzMzMzMzM8M/MzMzMzMzwz+amZmZmZnJP5qZmZmZmck/AAAAAAAA0D8AAAAAAADQPzMzMzMzM9M/MzMzMzMz0z9mZmZmZmbWP2ZmZmZmZtY/mpmZmZmZ2T+amZmZmZnZP83MzMzMzNw/zczMzMzM3D8AAAAAAADgPwAAAAAAAOA/mpmZmZmZ4T+amZmZmZnhPzMzMzMzM+M/MzMzMzMz4z/NzMzMzMzkP83MzMzMzOQ/ZmZmZmZm5j9mZmZmZmbmPwAAAAAAAOg/AAAAAAAA6D+amZmZmZnpP5qZmZmZmek/MzMzMzMz6z8zMzMzMzPrP83MzMzMzOw/zczMzMzM7D9mZmZmZmbuP2ZmZmZmZu4/AAAAAAAA8D8=\",\"dtype\":\"float64\",\"shape\":[40]}},\"selected\":{\"id\":\"6d763a1e-73e1-403a-8b36-a53e2c0d0d61\",\"type\":\"Selection\"},\"selection_policy\":{\"id\":\"4257e11e-aade-4f97-bc25-68d2a9fba7c2\",\"type\":\"UnionRenderers\"}},\"id\":\"cc26dc3a-0ced-46ac-95f3-b2fcd41dbe86\",\"type\":\"ColumnDataSource\"},{\"attributes\":{\"source\":{\"id\":\"9c1f77ba-3dd1-467c-abbc-e4bb170b5c12\",\"type\":\"ColumnDataSource\"}},\"id\":\"d403cb2e-1b12-479e-8b04-9a91ac36b207\",\"type\":\"CDSView\"},{\"attributes\":{\"items\":[{\"id\":\"1d11a7ee-7600-4549-af1f-11c5d7d98785\",\"type\":\"LegendItem\"},{\"id\":\"83c51858-6c94-4918-a12b-e74630bc1e0c\",\"type\":\"LegendItem\"},{\"id\":\"38909222-6ff8-49f1-9a8f-a5e131574992\",\"type\":\"LegendItem\"},{\"id\":\"685636b2-aae4-4bc4-bad4-a7108d2b1212\",\"type\":\"LegendItem\"}],\"location\":\"bottom_right\",\"plot\":{\"id\":\"441f995b-472b-48ab-a13e-cd48fe480bdb\",\"subtype\":\"Figure\",\"type\":\"Plot\"}},\"id\":\"51e5a0de-4d97-4945-a48c-e2e6e45817b2\",\"type\":\"Legend\"},{\"attributes\":{},\"id\":\"6d763a1e-73e1-403a-8b36-a53e2c0d0d61\",\"type\":\"Selection\"},{\"attributes\":{\"source\":{\"id\":\"be629fcd-d694-4743-926b-5809574e707d\",\"type\":\"ColumnDataSource\"}},\"id\":\"569571eb-b93f-407e-9d2e-55864438718f\",\"type\":\"CDSView\"},{\"attributes\":{},\"id\":\"4257e11e-aade-4f97-bc25-68d2a9fba7c2\",\"type\":\"UnionRenderers\"},{\"attributes\":{\"callback\":null,\"data\":{},\"selected\":{\"id\":\"a7df7ffb-f485-49e4-a6e9-ea0eefe0ff20\",\"type\":\"Selection\"},\"selection_policy\":{\"id\":\"2a093462-3a37-4e48-be6b-5d1b47ab5c76\",\"type\":\"UnionRenderers\"}},\"id\":\"65e52cc1-d5d5-4ab1-a203-86426651f907\",\"type\":\"ColumnDataSource\"},{\"attributes\":{\"callback\":null,\"data\":{},\"selected\":{\"id\":\"bdc2514c-9b26-4088-b307-02b37261e5d1\",\"type\":\"Selection\"},\"selection_policy\":{\"id\":\"93c50943-89e6-42ef-a62f-120ec5ecd590\",\"type\":\"UnionRenderers\"}},\"id\":\"0887e0d6-64c0-434c-aebd-aec64edd8b77\",\"type\":\"ColumnDataSource\"},{\"attributes\":{\"angle\":{\"units\":\"rad\",\"value\":0},\"line_alpha\":{\"value\":0.1},\"line_color\":{\"value\":\"#1f77b4\"},\"x\":{\"value\":806.0},\"y\":{\"value\":1}},\"id\":\"6b8ce6e9-2a23-40b7-a2a9-ab53a94b9714\",\"type\":\"Ray\"},{\"attributes\":{\"data_source\":{\"id\":\"65e52cc1-d5d5-4ab1-a203-86426651f907\",\"type\":\"ColumnDataSource\"},\"glyph\":{\"id\":\"de6edc5a-b0bd-4ca7-b60d-cf566a528331\",\"type\":\"Ray\"},\"hover_glyph\":null,\"muted_glyph\":null,\"nonselection_glyph\":{\"id\":\"6b8ce6e9-2a23-40b7-a2a9-ab53a94b9714\",\"type\":\"Ray\"},\"selection_glyph\":null,\"view\":{\"id\":\"3d386a82-8597-4b3e-bcf7-ea818b0ab44d\",\"type\":\"CDSView\"}},\"id\":\"8625c731-e2b4-4559-8387-df15d8f5f99b\",\"type\":\"GlyphRenderer\"},{\"attributes\":{\"source\":{\"id\":\"65e52cc1-d5d5-4ab1-a203-86426651f907\",\"type\":\"ColumnDataSource\"}},\"id\":\"3d386a82-8597-4b3e-bcf7-ea818b0ab44d\",\"type\":\"CDSView\"},{\"attributes\":{},\"id\":\"a315015c-cd95-4470-8a5c-f8f5d7bad9ce\",\"type\":\"Selection\"},{\"attributes\":{},\"id\":\"7f542e02-597f-44c9-900a-800caedb22e4\",\"type\":\"UnionRenderers\"},{\"attributes\":{\"callback\":null,\"data\":{\"x\":{\"__ndarray__\":\"AAAAAAAANkAAAAAAAAA2QAAAAAAAgEJAAAAAAACAQkAAAAAAAMBhQAAAAAAAwGFAAAAAAACAZUAAAAAAAIBlQAAAAAAAwGhAAAAAAADAaEAAAAAAAMBoQAAAAAAAwGhAAAAAAAAQcUAAAAAAABBxQAAAAAAAMHZAAAAAAAAwdkAAAAAAACB5QAAAAAAAIHlAAAAAAABQfEAAAAAAAFB8QAAAAAAAQH1AAAAAAABAfUAAAAAAAGB/QAAAAAAAYH9AAAAAAAAggEAAAAAAACCAQAAAAAAAMIJAAAAAAAAwgkAAAAAAAKiCQAAAAAAAqIJAAAAAAADogkAAAAAAAOiCQAAAAAAAMINAAAAAAAAwg0AAAAAAADiGQAAAAAAAOIZAAAAAAACAhkAAAAAAAICGQAAAAAAAeIlAAAAAAAB4iUA=\",\"dtype\":\"float64\",\"shape\":[40]},\"y\":{\"__ndarray__\":\"AAAAAAAAAACamZmZmZmpP5qZmZmZmak/mpmZmZmZuT+amZmZmZm5PzMzMzMzM8M/MzMzMzMzwz+amZmZmZnJP5qZmZmZmck/AAAAAAAA0D8AAAAAAADQPzMzMzMzM9M/MzMzMzMz0z9mZmZmZmbWP2ZmZmZmZtY/mpmZmZmZ2T+amZmZmZnZP83MzMzMzNw/zczMzMzM3D8AAAAAAADgPwAAAAAAAOA/mpmZmZmZ4T+amZmZmZnhPzMzMzMzM+M/MzMzMzMz4z/NzMzMzMzkP83MzMzMzOQ/ZmZmZmZm5j9mZmZmZmbmPwAAAAAAAOg/AAAAAAAA6D+amZmZmZnpP5qZmZmZmek/MzMzMzMz6z8zMzMzMzPrP83MzMzMzOw/zczMzMzM7D9mZmZmZmbuP2ZmZmZmZu4/AAAAAAAA8D8=\",\"dtype\":\"float64\",\"shape\":[40]}},\"selected\":{\"id\":\"f8e07a79-8777-4035-b1e3-cc7281281529\",\"type\":\"Selection\"},\"selection_policy\":{\"id\":\"d6cac0ae-c4df-4a3f-961c-85984d1290ce\",\"type\":\"UnionRenderers\"}},\"id\":\"be0dc0c8-7c6f-4194-a56d-331e09521975\",\"type\":\"ColumnDataSource\"},{\"attributes\":{\"below\":[{\"id\":\"f8c6dfaa-3bce-4d9a-8086-fcd2a9ac6dea\",\"type\":\"LinearAxis\"}],\"left\":[{\"id\":\"4726b4ef-d734-4d00-94cc-4d13a36048fd\",\"type\":\"LinearAxis\"}],\"plot_height\":300,\"plot_width\":400,\"renderers\":[{\"id\":\"f8c6dfaa-3bce-4d9a-8086-fcd2a9ac6dea\",\"type\":\"LinearAxis\"},{\"id\":\"f3479f8c-3b41-4ebf-bfe6-f2bd741fe88d\",\"type\":\"Grid\"},{\"id\":\"4726b4ef-d734-4d00-94cc-4d13a36048fd\",\"type\":\"LinearAxis\"},{\"id\":\"964e55d0-8cd9-4347-8723-3848785a99a6\",\"type\":\"Grid\"},{\"id\":\"dde9ed20-a2cb-45a2-a4aa-f79a68286258\",\"type\":\"BoxAnnotation\"},{\"id\":\"51e5a0de-4d97-4945-a48c-e2e6e45817b2\",\"type\":\"Legend\"},{\"id\":\"e955c017-f543-4d4c-8d1a-f020cf104afa\",\"type\":\"GlyphRenderer\"},{\"id\":\"4298e765-0df8-4594-9369-8bcfbeaed964\",\"type\":\"GlyphRenderer\"},{\"id\":\"afab471b-6abe-4da7-8632-0d41ac7ab6ff\",\"type\":\"GlyphRenderer\"},{\"id\":\"79224e6b-bae8-4640-9610-12bdc7cf39fb\",\"type\":\"GlyphRenderer\"},{\"id\":\"a0cba0df-d4bb-4d4f-a7b8-494a010131e6\",\"type\":\"GlyphRenderer\"},{\"id\":\"8625c731-e2b4-4559-8387-df15d8f5f99b\",\"type\":\"GlyphRenderer\"},{\"id\":\"504bc078-8330-4a94-b9a1-3b10532cfb43\",\"type\":\"GlyphRenderer\"},{\"id\":\"595d8a41-031b-404f-b13e-e9b6ea044ff8\",\"type\":\"GlyphRenderer\"},{\"id\":\"4104335d-7b63-42c6-bb7f-17b30fd4a1bf\",\"type\":\"GlyphRenderer\"},{\"id\":\"196effd0-3341-4110-9191-6eda5357b6ba\",\"type\":\"GlyphRenderer\"},{\"id\":\"b941c49e-9d9b-4648-8bcc-56b4e4ea58bb\",\"type\":\"GlyphRenderer\"},{\"id\":\"998cd364-a4cd-421f-8bac-c96139697232\",\"type\":\"GlyphRenderer\"}],\"title\":null,\"toolbar\":{\"id\":\"54497928-21ae-415a-8d65-429b22ec7621\",\"type\":\"Toolbar\"},\"x_range\":{\"id\":\"1eeccea5-c75c-40e0-9ea9-eb05126cdc1a\",\"type\":\"DataRange1d\"},\"x_scale\":{\"id\":\"0d227c8d-40aa-4fb9-b5b9-eb24e6d3d00f\",\"type\":\"LinearScale\"},\"y_range\":{\"id\":\"b1fbcf48-aafa-4cf2-ae2a-5210c295f88c\",\"type\":\"DataRange1d\"},\"y_scale\":{\"id\":\"950bf91a-9a7c-47d8-bfd5-f8ad6cb6a77e\",\"type\":\"LinearScale\"}},\"id\":\"441f995b-472b-48ab-a13e-cd48fe480bdb\",\"subtype\":\"Figure\",\"type\":\"Plot\"},{\"attributes\":{\"line_color\":\"#e15759\",\"x\":{\"field\":\"x\"},\"y\":{\"field\":\"y\"}},\"id\":\"17f27def-bb33-45fc-bd4b-51f331419058\",\"type\":\"Line\"},{\"attributes\":{\"line_alpha\":0.1,\"line_color\":\"#1f77b4\",\"x\":{\"field\":\"x\"},\"y\":{\"field\":\"y\"}},\"id\":\"7b79239c-bc15-4114-ba1e-96f2b9e79c9d\",\"type\":\"Line\"},{\"attributes\":{\"data_source\":{\"id\":\"be0dc0c8-7c6f-4194-a56d-331e09521975\",\"type\":\"ColumnDataSource\"},\"glyph\":{\"id\":\"17f27def-bb33-45fc-bd4b-51f331419058\",\"type\":\"Line\"},\"hover_glyph\":null,\"muted_glyph\":null,\"nonselection_glyph\":{\"id\":\"7b79239c-bc15-4114-ba1e-96f2b9e79c9d\",\"type\":\"Line\"},\"selection_glyph\":null,\"view\":{\"id\":\"66a864ca-c94b-4f74-a2e3-6850c27cf420\",\"type\":\"CDSView\"}},\"id\":\"504bc078-8330-4a94-b9a1-3b10532cfb43\",\"type\":\"GlyphRenderer\"},{\"attributes\":{\"callback\":null},\"id\":\"1eeccea5-c75c-40e0-9ea9-eb05126cdc1a\",\"type\":\"DataRange1d\"},{\"attributes\":{\"source\":{\"id\":\"be0dc0c8-7c6f-4194-a56d-331e09521975\",\"type\":\"ColumnDataSource\"}},\"id\":\"66a864ca-c94b-4f74-a2e3-6850c27cf420\",\"type\":\"CDSView\"},{\"attributes\":{\"line_color\":\"#4e79a7\",\"x\":{\"field\":\"x\"},\"y\":{\"field\":\"y\"}},\"id\":\"e7fc400f-fa2c-48e6-9591-f2ba38a5ed71\",\"type\":\"Line\"},{\"attributes\":{},\"id\":\"a7df7ffb-f485-49e4-a6e9-ea0eefe0ff20\",\"type\":\"Selection\"},{\"attributes\":{\"callback\":null,\"data\":{\"x\":{\"__ndarray__\":\"AAAAAACQfUAAAAAAAJB9QAAAAAAA0H5AAAAAAADQfkAAAAAAAGCBQAAAAAAAYIFAAAAAAAA4iEAAAAAAADiIQAAAAAAA1JJAAAAAAADUkkAAAAAAAGCTQAAAAAAAYJNAAAAAAAAIlEAAAAAAAAiUQAAAAAAAbJRAAAAAAABslEAAAAAAAByYQAAAAAAAHJhAAAAAAAAkmEAAAAAAACSYQAAAAAAAUJhAAAAAAABQmEAAAAAAAHCaQAAAAAAAcJpAAAAAAABEm0AAAAAAAESbQAAAAAAAjJ1AAAAAAACMnUAAAAAAAKSdQAAAAAAApJ1AAAAAAAAgnkAAAAAAACCeQAAAAAAAwJ9AAAAAAADAn0AAAAAAAMihQAAAAAAAyKFAAAAAAAC+o0AAAAAAAL6jQAAAAAAAoqRAAAAAAACipEA=\",\"dtype\":\"float64\",\"shape\":[40]},\"y\":{\"__ndarray__\":\"AAAAAAAAAACamZmZmZmpP5qZmZmZmak/mpmZmZmZuT+amZmZmZm5PzMzMzMzM8M/MzMzMzMzwz+amZmZmZnJP5qZmZmZmck/AAAAAAAA0D8AAAAAAADQPzMzMzMzM9M/MzMzMzMz0z9mZmZmZmbWP2ZmZmZmZtY/mpmZmZmZ2T+amZmZmZnZP83MzMzMzNw/zczMzMzM3D8AAAAAAADgPwAAAAAAAOA/mpmZmZmZ4T+amZmZmZnhPzMzMzMzM+M/MzMzMzMz4z/NzMzMzMzkP83MzMzMzOQ/ZmZmZmZm5j9mZmZmZmbmPwAAAAAAAOg/AAAAAAAA6D+amZmZmZnpP5qZmZmZmek/MzMzMzMz6z8zMzMzMzPrP83MzMzMzOw/zczMzMzM7D9mZmZmZmbuP2ZmZmZmZu4/AAAAAAAA8D8=\",\"dtype\":\"float64\",\"shape\":[40]}},\"selected\":{\"id\":\"2e82a7b2-c2c6-434d-8a2d-e5a08a8e8ebd\",\"type\":\"Selection\"},\"selection_policy\":{\"id\":\"7d0c7ae3-346f-4b1f-a2d9-40bc12f89634\",\"type\":\"UnionRenderers\"}},\"id\":\"be629fcd-d694-4743-926b-5809574e707d\",\"type\":\"ColumnDataSource\"},{\"attributes\":{},\"id\":\"2a093462-3a37-4e48-be6b-5d1b47ab5c76\",\"type\":\"UnionRenderers\"},{\"attributes\":{},\"id\":\"950bf91a-9a7c-47d8-bfd5-f8ad6cb6a77e\",\"type\":\"LinearScale\"},{\"attributes\":{\"label\":{\"value\":\"IV\"},\"renderers\":[{\"id\":\"504bc078-8330-4a94-b9a1-3b10532cfb43\",\"type\":\"GlyphRenderer\"},{\"id\":\"595d8a41-031b-404f-b13e-e9b6ea044ff8\",\"type\":\"GlyphRenderer\"},{\"id\":\"4104335d-7b63-42c6-bb7f-17b30fd4a1bf\",\"type\":\"GlyphRenderer\"}]},\"id\":\"38909222-6ff8-49f1-9a8f-a5e131574992\",\"type\":\"LegendItem\"},{\"attributes\":{\"callback\":null},\"id\":\"b1fbcf48-aafa-4cf2-ae2a-5210c295f88c\",\"type\":\"DataRange1d\"},{\"attributes\":{\"angle\":{\"units\":\"rad\",\"value\":0},\"line_color\":{\"value\":\"#e15759\"},\"x\":{\"value\":815.0},\"y\":{\"value\":1}},\"id\":\"ddfd2965-8685-4d03-a024-9c8ac75df4d1\",\"type\":\"Ray\"},{\"attributes\":{\"axis_label\":\"impact force (mN)\",\"formatter\":{\"id\":\"bc378004-d893-4a32-afbb-169039eacdff\",\"type\":\"BasicTickFormatter\"},\"plot\":{\"id\":\"441f995b-472b-48ab-a13e-cd48fe480bdb\",\"subtype\":\"Figure\",\"type\":\"Plot\"},\"ticker\":{\"id\":\"43c2c3c6-426b-4058-8989-c83a86c9298f\",\"type\":\"BasicTicker\"}},\"id\":\"f8c6dfaa-3bce-4d9a-8086-fcd2a9ac6dea\",\"type\":\"LinearAxis\"},{\"attributes\":{\"angle\":{\"units\":\"rad\",\"value\":3.141592653589793},\"line_color\":{\"value\":\"#e15759\"},\"x\":{\"value\":22.0},\"y\":{\"value\":0}},\"id\":\"0bdbe36f-0b0e-4e2d-b2c6-564a38509031\",\"type\":\"Ray\"},{\"attributes\":{\"angle\":{\"units\":\"rad\",\"value\":3.141592653589793},\"line_alpha\":{\"value\":0.1},\"line_color\":{\"value\":\"#1f77b4\"},\"x\":{\"value\":22.0},\"y\":{\"value\":0}},\"id\":\"34e401f8-e2dc-49f5-8836-191fc8ef0a24\",\"type\":\"Ray\"},{\"attributes\":{},\"id\":\"0d227c8d-40aa-4fb9-b5b9-eb24e6d3d00f\",\"type\":\"LinearScale\"},{\"attributes\":{\"data_source\":{\"id\":\"0887e0d6-64c0-434c-aebd-aec64edd8b77\",\"type\":\"ColumnDataSource\"},\"glyph\":{\"id\":\"0bdbe36f-0b0e-4e2d-b2c6-564a38509031\",\"type\":\"Ray\"},\"hover_glyph\":null,\"muted_glyph\":null,\"nonselection_glyph\":{\"id\":\"34e401f8-e2dc-49f5-8836-191fc8ef0a24\",\"type\":\"Ray\"},\"selection_glyph\":null,\"view\":{\"id\":\"e977e55d-61eb-41dd-b341-5077adf397c6\",\"type\":\"CDSView\"}},\"id\":\"595d8a41-031b-404f-b13e-e9b6ea044ff8\",\"type\":\"GlyphRenderer\"},{\"attributes\":{\"data_source\":{\"id\":\"a91e1684-0a4f-4579-84f6-953423d6374f\",\"type\":\"ColumnDataSource\"},\"glyph\":{\"id\":\"171a6dee-f4bf-4891-a8ce-bd10fb701e42\",\"type\":\"Ray\"},\"hover_glyph\":null,\"muted_glyph\":null,\"nonselection_glyph\":{\"id\":\"2651e3e0-67b4-426f-bdd2-8f180bf5dac0\",\"type\":\"Ray\"},\"selection_glyph\":null,\"view\":{\"id\":\"c184b675-bcd0-4496-9786-5df4ec2e9dfd\",\"type\":\"CDSView\"}},\"id\":\"afab471b-6abe-4da7-8632-0d41ac7ab6ff\",\"type\":\"GlyphRenderer\"},{\"attributes\":{\"source\":{\"id\":\"0887e0d6-64c0-434c-aebd-aec64edd8b77\",\"type\":\"ColumnDataSource\"}},\"id\":\"e977e55d-61eb-41dd-b341-5077adf397c6\",\"type\":\"CDSView\"},{\"attributes\":{\"angle\":{\"units\":\"rad\",\"value\":0},\"line_alpha\":{\"value\":0.1},\"line_color\":{\"value\":\"#1f77b4\"},\"x\":{\"value\":2641.0},\"y\":{\"value\":1}},\"id\":\"2651e3e0-67b4-426f-bdd2-8f180bf5dac0\",\"type\":\"Ray\"},{\"attributes\":{},\"id\":\"f8e07a79-8777-4035-b1e3-cc7281281529\",\"type\":\"Selection\"},{\"attributes\":{},\"id\":\"43c2c3c6-426b-4058-8989-c83a86c9298f\",\"type\":\"BasicTicker\"},{\"attributes\":{},\"id\":\"d6cac0ae-c4df-4a3f-961c-85984d1290ce\",\"type\":\"UnionRenderers\"},{\"attributes\":{\"overlay\":{\"id\":\"dde9ed20-a2cb-45a2-a4aa-f79a68286258\",\"type\":\"BoxAnnotation\"}},\"id\":\"7babbf03-ecfc-486d-907b-44a368fefb9a\",\"type\":\"BoxZoomTool\"},{\"attributes\":{\"callback\":null,\"data\":{},\"selected\":{\"id\":\"ad2a6043-4d0b-4f5a-b7ef-fb54e4722e78\",\"type\":\"Selection\"},\"selection_policy\":{\"id\":\"d1e74f82-0ec1-42d3-ac6c-0725eb7c842e\",\"type\":\"UnionRenderers\"}},\"id\":\"9fea0bae-987c-4699-8ef0-2559ab786245\",\"type\":\"ColumnDataSource\"},{\"attributes\":{},\"id\":\"d8a2d0e0-5c49-4395-9b1a-d92c0362b33d\",\"type\":\"WheelZoomTool\"},{\"attributes\":{\"callback\":null,\"data\":{},\"selected\":{\"id\":\"961cd3dc-d778-44d3-83d7-c7decb7328d3\",\"type\":\"Selection\"},\"selection_policy\":{\"id\":\"455d8375-0c8f-4ce8-a7b3-08e8c26747ec\",\"type\":\"UnionRenderers\"}},\"id\":\"3d56f70e-6123-40f0-893f-ac6ad3bf267d\",\"type\":\"ColumnDataSource\"},{\"attributes\":{},\"id\":\"12c08394-de14-4bf8-96a0-233d412570e1\",\"type\":\"BasicTicker\"},{\"attributes\":{\"angle\":{\"units\":\"rad\",\"value\":0},\"line_alpha\":{\"value\":0.1},\"line_color\":{\"value\":\"#1f77b4\"},\"x\":{\"value\":815.0},\"y\":{\"value\":1}},\"id\":\"f66bb120-51db-4067-a3cb-bbc75dd4534e\",\"type\":\"Ray\"},{\"attributes\":{\"plot\":{\"id\":\"441f995b-472b-48ab-a13e-cd48fe480bdb\",\"subtype\":\"Figure\",\"type\":\"Plot\"},\"ticker\":{\"id\":\"43c2c3c6-426b-4058-8989-c83a86c9298f\",\"type\":\"BasicTicker\"}},\"id\":\"f3479f8c-3b41-4ebf-bfe6-f2bd741fe88d\",\"type\":\"Grid\"},{\"attributes\":{\"data_source\":{\"id\":\"9fea0bae-987c-4699-8ef0-2559ab786245\",\"type\":\"ColumnDataSource\"},\"glyph\":{\"id\":\"ddfd2965-8685-4d03-a024-9c8ac75df4d1\",\"type\":\"Ray\"},\"hover_glyph\":null,\"muted_glyph\":null,\"nonselection_glyph\":{\"id\":\"f66bb120-51db-4067-a3cb-bbc75dd4534e\",\"type\":\"Ray\"},\"selection_glyph\":null,\"view\":{\"id\":\"ede43e70-8b6c-4c8b-9847-3a6118829d1a\",\"type\":\"CDSView\"}},\"id\":\"4104335d-7b63-42c6-bb7f-17b30fd4a1bf\",\"type\":\"GlyphRenderer\"},{\"attributes\":{\"axis_label\":\"ECDF\",\"formatter\":{\"id\":\"2f98151d-113f-4457-920e-669730a26801\",\"type\":\"BasicTickFormatter\"},\"plot\":{\"id\":\"441f995b-472b-48ab-a13e-cd48fe480bdb\",\"subtype\":\"Figure\",\"type\":\"Plot\"},\"ticker\":{\"id\":\"12c08394-de14-4bf8-96a0-233d412570e1\",\"type\":\"BasicTicker\"}},\"id\":\"4726b4ef-d734-4d00-94cc-4d13a36048fd\",\"type\":\"LinearAxis\"},{\"attributes\":{\"source\":{\"id\":\"9fea0bae-987c-4699-8ef0-2559ab786245\",\"type\":\"ColumnDataSource\"}},\"id\":\"ede43e70-8b6c-4c8b-9847-3a6118829d1a\",\"type\":\"CDSView\"},{\"attributes\":{},\"id\":\"bdc2514c-9b26-4088-b307-02b37261e5d1\",\"type\":\"Selection\"},{\"attributes\":{\"dimension\":1,\"plot\":{\"id\":\"441f995b-472b-48ab-a13e-cd48fe480bdb\",\"subtype\":\"Figure\",\"type\":\"Plot\"},\"ticker\":{\"id\":\"12c08394-de14-4bf8-96a0-233d412570e1\",\"type\":\"BasicTicker\"}},\"id\":\"964e55d0-8cd9-4347-8723-3848785a99a6\",\"type\":\"Grid\"},{\"attributes\":{},\"id\":\"93c50943-89e6-42ef-a62f-120ec5ecd590\",\"type\":\"UnionRenderers\"},{\"attributes\":{},\"id\":\"7e8d8256-088b-468b-8648-3e69f8df2648\",\"type\":\"UnionRenderers\"},{\"attributes\":{\"callback\":null,\"data\":{\"x\":{\"__ndarray__\":\"AAAAAACgbkAAAAAAAKBuQAAAAAAA0HBAAAAAAADQcEAAAAAAAJByQAAAAAAAkHJAAAAAAABwdEAAAAAAAHB0QAAAAAAA8HdAAAAAAADwd0AAAAAAADB7QAAAAAAAMHtAAAAAAACQfEAAAAAAAJB8QAAAAAAAGIBAAAAAAAAYgEAAAAAAAIiAQAAAAAAAiIBAAAAAAADogEAAAAAAAOiAQAAAAAAA6IJAAAAAAADogkAAAAAAAKCDQAAAAAAAoINAAAAAAAD4hUAAAAAAAPiFQAAAAAAA0IZAAAAAAADQhkAAAAAAAHiHQAAAAAAAeIdAAAAAAACQjUAAAAAAAJCNQAAAAAAAeJJAAAAAAAB4kkAAAAAAALSWQAAAAAAAtJZAAAAAAAAMmEAAAAAAAAyYQAAAAAAAMJlAAAAAAAAwmUA=\",\"dtype\":\"float64\",\"shape\":[40]},\"y\":{\"__ndarray__\":\"AAAAAAAAAACamZmZmZmpP5qZmZmZmak/mpmZmZmZuT+amZmZmZm5PzMzMzMzM8M/MzMzMzMzwz+amZmZmZnJP5qZmZmZmck/AAAAAAAA0D8AAAAAAADQPzMzMzMzM9M/MzMzMzMz0z9mZmZmZmbWP2ZmZmZmZtY/mpmZmZmZ2T+amZmZmZnZP83MzMzMzNw/zczMzMzM3D8AAAAAAADgPwAAAAAAAOA/mpmZmZmZ4T+amZmZmZnhPzMzMzMzM+M/MzMzMzMz4z/NzMzMzMzkP83MzMzMzOQ/ZmZmZmZm5j9mZmZmZmbmPwAAAAAAAOg/AAAAAAAA6D+amZmZmZnpP5qZmZmZmek/MzMzMzMz6z8zMzMzMzPrP83MzMzMzOw/zczMzMzM7D9mZmZmZmbuP2ZmZmZmZu4/AAAAAAAA8D8=\",\"dtype\":\"float64\",\"shape\":[40]}},\"selected\":{\"id\":\"3206fde7-5173-450b-84ef-71c6dc7656a6\",\"type\":\"Selection\"},\"selection_policy\":{\"id\":\"79e3f76b-9494-47ec-ab39-9d546eec1dbe\",\"type\":\"UnionRenderers\"}},\"id\":\"9e4a7642-8f5b-4fd1-9a49-b1bc093d265b\",\"type\":\"ColumnDataSource\"},{\"attributes\":{},\"id\":\"f4baa16d-fc52-4280-9ecd-cb3494fb8754\",\"type\":\"UnionRenderers\"},{\"attributes\":{},\"id\":\"486919aa-a2ab-4e41-9254-cbfca2393a0b\",\"type\":\"Selection\"},{\"attributes\":{\"line_color\":\"#76b7b2\",\"x\":{\"field\":\"x\"},\"y\":{\"field\":\"y\"}},\"id\":\"a68d6144-7afa-4de4-b70a-d0a1d0a16d44\",\"type\":\"Line\"},{\"attributes\":{},\"id\":\"74fc8050-1ae6-47b9-bd21-d2d30e5e88f2\",\"type\":\"HelpTool\"},{\"attributes\":{\"line_alpha\":0.1,\"line_color\":\"#1f77b4\",\"x\":{\"field\":\"x\"},\"y\":{\"field\":\"y\"}},\"id\":\"c05f6421-b5f1-4a9f-bf33-c4c101cd41f7\",\"type\":\"Line\"},{\"attributes\":{},\"id\":\"e3382b00-b04a-48c8-b2fa-1b1e12347c23\",\"type\":\"PanTool\"},{\"attributes\":{\"data_source\":{\"id\":\"9e4a7642-8f5b-4fd1-9a49-b1bc093d265b\",\"type\":\"ColumnDataSource\"},\"glyph\":{\"id\":\"a68d6144-7afa-4de4-b70a-d0a1d0a16d44\",\"type\":\"Line\"},\"hover_glyph\":null,\"muted_glyph\":null,\"nonselection_glyph\":{\"id\":\"c05f6421-b5f1-4a9f-bf33-c4c101cd41f7\",\"type\":\"Line\"},\"selection_glyph\":null,\"view\":{\"id\":\"eea0b7a5-8b42-404e-b711-43b805bedee3\",\"type\":\"CDSView\"}},\"id\":\"196effd0-3341-4110-9191-6eda5357b6ba\",\"type\":\"GlyphRenderer\"},{\"attributes\":{\"source\":{\"id\":\"9e4a7642-8f5b-4fd1-9a49-b1bc093d265b\",\"type\":\"ColumnDataSource\"}},\"id\":\"eea0b7a5-8b42-404e-b711-43b805bedee3\",\"type\":\"CDSView\"},{\"attributes\":{\"bottom_units\":\"screen\",\"fill_alpha\":{\"value\":0.5},\"fill_color\":{\"value\":\"lightgrey\"},\"left_units\":\"screen\",\"level\":\"overlay\",\"line_alpha\":{\"value\":1.0},\"line_color\":{\"value\":\"black\"},\"line_dash\":[4,4],\"line_width\":{\"value\":2},\"plot\":null,\"render_mode\":\"css\",\"right_units\":\"screen\",\"top_units\":\"screen\"},\"id\":\"dde9ed20-a2cb-45a2-a4aa-f79a68286258\",\"type\":\"BoxAnnotation\"},{\"attributes\":{},\"id\":\"ad2a6043-4d0b-4f5a-b7ef-fb54e4722e78\",\"type\":\"Selection\"},{\"attributes\":{},\"id\":\"73ecec88-255c-45c2-8765-4bb048fed4a7\",\"type\":\"SaveTool\"},{\"attributes\":{},\"id\":\"d1e74f82-0ec1-42d3-ac6c-0725eb7c842e\",\"type\":\"UnionRenderers\"},{\"attributes\":{},\"id\":\"20a69217-84f9-4183-8874-e4830567c841\",\"type\":\"ResetTool\"},{\"attributes\":{\"label\":{\"value\":\"II\"},\"renderers\":[{\"id\":\"196effd0-3341-4110-9191-6eda5357b6ba\",\"type\":\"GlyphRenderer\"},{\"id\":\"b941c49e-9d9b-4648-8bcc-56b4e4ea58bb\",\"type\":\"GlyphRenderer\"},{\"id\":\"998cd364-a4cd-421f-8bac-c96139697232\",\"type\":\"GlyphRenderer\"}]},\"id\":\"685636b2-aae4-4bc4-bad4-a7108d2b1212\",\"type\":\"LegendItem\"},{\"attributes\":{\"angle\":{\"units\":\"rad\",\"value\":0},\"line_color\":{\"value\":\"#76b7b2\"},\"x\":{\"value\":1612.0},\"y\":{\"value\":1}},\"id\":\"14a18309-8ac9-473b-83f3-9fc27ee62bca\",\"type\":\"Ray\"},{\"attributes\":{\"angle\":{\"units\":\"rad\",\"value\":3.141592653589793},\"line_color\":{\"value\":\"#76b7b2\"},\"x\":{\"value\":245.0},\"y\":{\"value\":0}},\"id\":\"008646f3-a553-4dca-82e3-3ca3e0abf7f3\",\"type\":\"Ray\"},{\"attributes\":{\"angle\":{\"units\":\"rad\",\"value\":3.141592653589793},\"line_alpha\":{\"value\":0.1},\"line_color\":{\"value\":\"#1f77b4\"},\"x\":{\"value\":245.0},\"y\":{\"value\":0}},\"id\":\"7346430c-1629-4a54-a990-d44ccd21b681\",\"type\":\"Ray\"},{\"attributes\":{},\"id\":\"bc378004-d893-4a32-afbb-169039eacdff\",\"type\":\"BasicTickFormatter\"},{\"attributes\":{\"data_source\":{\"id\":\"3d56f70e-6123-40f0-893f-ac6ad3bf267d\",\"type\":\"ColumnDataSource\"},\"glyph\":{\"id\":\"008646f3-a553-4dca-82e3-3ca3e0abf7f3\",\"type\":\"Ray\"},\"hover_glyph\":null,\"muted_glyph\":null,\"nonselection_glyph\":{\"id\":\"7346430c-1629-4a54-a990-d44ccd21b681\",\"type\":\"Ray\"},\"selection_glyph\":null,\"view\":{\"id\":\"50968333-79e3-4683-9a0b-041e922d7908\",\"type\":\"CDSView\"}},\"id\":\"b941c49e-9d9b-4648-8bcc-56b4e4ea58bb\",\"type\":\"GlyphRenderer\"},{\"attributes\":{\"source\":{\"id\":\"3d56f70e-6123-40f0-893f-ac6ad3bf267d\",\"type\":\"ColumnDataSource\"}},\"id\":\"50968333-79e3-4683-9a0b-041e922d7908\",\"type\":\"CDSView\"},{\"attributes\":{},\"id\":\"2f98151d-113f-4457-920e-669730a26801\",\"type\":\"BasicTickFormatter\"},{\"attributes\":{},\"id\":\"3206fde7-5173-450b-84ef-71c6dc7656a6\",\"type\":\"Selection\"},{\"attributes\":{},\"id\":\"79e3f76b-9494-47ec-ab39-9d546eec1dbe\",\"type\":\"UnionRenderers\"},{\"attributes\":{\"data_source\":{\"id\":\"be629fcd-d694-4743-926b-5809574e707d\",\"type\":\"ColumnDataSource\"},\"glyph\":{\"id\":\"e7fc400f-fa2c-48e6-9591-f2ba38a5ed71\",\"type\":\"Line\"},\"hover_glyph\":null,\"muted_glyph\":null,\"nonselection_glyph\":{\"id\":\"45b87bfc-5345-436e-ba34-5987223cd451\",\"type\":\"Line\"},\"selection_glyph\":null,\"view\":{\"id\":\"569571eb-b93f-407e-9d2e-55864438718f\",\"type\":\"CDSView\"}},\"id\":\"e955c017-f543-4d4c-8d1a-f020cf104afa\",\"type\":\"GlyphRenderer\"},{\"attributes\":{\"callback\":null,\"data\":{},\"selected\":{\"id\":\"486919aa-a2ab-4e41-9254-cbfca2393a0b\",\"type\":\"Selection\"},\"selection_policy\":{\"id\":\"7e8d8256-088b-468b-8648-3e69f8df2648\",\"type\":\"UnionRenderers\"}},\"id\":\"549fb6a8-31bf-4646-bf29-2ea87525877e\",\"type\":\"ColumnDataSource\"},{\"attributes\":{\"line_alpha\":0.1,\"line_color\":\"#1f77b4\",\"x\":{\"field\":\"x\"},\"y\":{\"field\":\"y\"}},\"id\":\"45b87bfc-5345-436e-ba34-5987223cd451\",\"type\":\"Line\"},{\"attributes\":{\"angle\":{\"units\":\"rad\",\"value\":0},\"line_alpha\":{\"value\":0.1},\"line_color\":{\"value\":\"#1f77b4\"},\"x\":{\"value\":1612.0},\"y\":{\"value\":1}},\"id\":\"bd19f161-824f-4963-9a8a-d3045a0e1b96\",\"type\":\"Ray\"},{\"attributes\":{\"data_source\":{\"id\":\"549fb6a8-31bf-4646-bf29-2ea87525877e\",\"type\":\"ColumnDataSource\"},\"glyph\":{\"id\":\"14a18309-8ac9-473b-83f3-9fc27ee62bca\",\"type\":\"Ray\"},\"hover_glyph\":null,\"muted_glyph\":null,\"nonselection_glyph\":{\"id\":\"bd19f161-824f-4963-9a8a-d3045a0e1b96\",\"type\":\"Ray\"},\"selection_glyph\":null,\"view\":{\"id\":\"db5e5c26-7bf7-42f8-b2ba-8b33130f15ee\",\"type\":\"CDSView\"}},\"id\":\"998cd364-a4cd-421f-8bac-c96139697232\",\"type\":\"GlyphRenderer\"},{\"attributes\":{\"angle\":{\"units\":\"rad\",\"value\":0},\"line_color\":{\"value\":\"#4e79a7\"},\"x\":{\"value\":2641.0},\"y\":{\"value\":1}},\"id\":\"171a6dee-f4bf-4891-a8ce-bd10fb701e42\",\"type\":\"Ray\"},{\"attributes\":{\"source\":{\"id\":\"549fb6a8-31bf-4646-bf29-2ea87525877e\",\"type\":\"ColumnDataSource\"}},\"id\":\"db5e5c26-7bf7-42f8-b2ba-8b33130f15ee\",\"type\":\"CDSView\"},{\"attributes\":{\"source\":{\"id\":\"405b7fe8-04b7-45bd-bab2-b5bf315a9556\",\"type\":\"ColumnDataSource\"}},\"id\":\"007e5ba0-aefe-4caa-98d2-caeaf5bf6e03\",\"type\":\"CDSView\"},{\"attributes\":{},\"id\":\"961cd3dc-d778-44d3-83d7-c7decb7328d3\",\"type\":\"Selection\"},{\"attributes\":{\"label\":{\"value\":\"I\"},\"renderers\":[{\"id\":\"e955c017-f543-4d4c-8d1a-f020cf104afa\",\"type\":\"GlyphRenderer\"},{\"id\":\"4298e765-0df8-4594-9369-8bcfbeaed964\",\"type\":\"GlyphRenderer\"},{\"id\":\"afab471b-6abe-4da7-8632-0d41ac7ab6ff\",\"type\":\"GlyphRenderer\"}]},\"id\":\"1d11a7ee-7600-4549-af1f-11c5d7d98785\",\"type\":\"LegendItem\"},{\"attributes\":{},\"id\":\"455d8375-0c8f-4ce8-a7b3-08e8c26747ec\",\"type\":\"UnionRenderers\"},{\"attributes\":{\"data_source\":{\"id\":\"405b7fe8-04b7-45bd-bab2-b5bf315a9556\",\"type\":\"ColumnDataSource\"},\"glyph\":{\"id\":\"98618f76-ef3b-42dd-863c-1845de0cb8a9\",\"type\":\"Ray\"},\"hover_glyph\":null,\"muted_glyph\":null,\"nonselection_glyph\":{\"id\":\"29a5b646-17df-45ae-b88b-e1c5877926be\",\"type\":\"Ray\"},\"selection_glyph\":null,\"view\":{\"id\":\"007e5ba0-aefe-4caa-98d2-caeaf5bf6e03\",\"type\":\"CDSView\"}},\"id\":\"4298e765-0df8-4594-9369-8bcfbeaed964\",\"type\":\"GlyphRenderer\"},{\"attributes\":{},\"id\":\"2e82a7b2-c2c6-434d-8a2d-e5a08a8e8ebd\",\"type\":\"Selection\"},{\"attributes\":{\"callback\":null,\"data\":{},\"selected\":{\"id\":\"4001517d-edab-4c91-a659-69c8c3ff640f\",\"type\":\"Selection\"},\"selection_policy\":{\"id\":\"f4baa16d-fc52-4280-9ecd-cb3494fb8754\",\"type\":\"UnionRenderers\"}},\"id\":\"405b7fe8-04b7-45bd-bab2-b5bf315a9556\",\"type\":\"ColumnDataSource\"},{\"attributes\":{\"angle\":{\"units\":\"rad\",\"value\":3.141592653589793},\"line_color\":{\"value\":\"#4e79a7\"},\"x\":{\"value\":473.0},\"y\":{\"value\":0}},\"id\":\"98618f76-ef3b-42dd-863c-1845de0cb8a9\",\"type\":\"Ray\"},{\"attributes\":{\"angle\":{\"units\":\"rad\",\"value\":3.141592653589793},\"line_alpha\":{\"value\":0.1},\"line_color\":{\"value\":\"#1f77b4\"},\"x\":{\"value\":473.0},\"y\":{\"value\":0}},\"id\":\"29a5b646-17df-45ae-b88b-e1c5877926be\",\"type\":\"Ray\"}],\"root_ids\":[\"441f995b-472b-48ab-a13e-cd48fe480bdb\"]},\"title\":\"Bokeh Application\",\"version\":\"0.13.0\"}};\n",
       "  var render_items = [{\"docid\":\"5a7d9cf2-2a2b-4f7d-92b1-4aa68b77459b\",\"roots\":{\"441f995b-472b-48ab-a13e-cd48fe480bdb\":\"c63db0b2-ff24-4f4b-9ea1-938cf94112c7\"}}];\n",
       "  root.Bokeh.embed.embed_items_notebook(docs_json, render_items);\n",
       "\n",
       "  }\n",
       "  if (root.Bokeh !== undefined) {\n",
       "    embed_document(root);\n",
       "  } else {\n",
       "    var attempts = 0;\n",
       "    var timer = setInterval(function(root) {\n",
       "      if (root.Bokeh !== undefined) {\n",
       "        embed_document(root);\n",
       "        clearInterval(timer);\n",
       "      }\n",
       "      attempts++;\n",
       "      if (attempts > 100) {\n",
       "        console.log(\"Bokeh: ERROR: Unable to run BokehJS code because BokehJS library is missing\")\n",
       "        clearInterval(timer);\n",
       "      }\n",
       "    }, 10, root)\n",
       "  }\n",
       "})(window);"
      ],
      "application/vnd.bokehjs_exec.v0+json": ""
     },
     "metadata": {
      "application/vnd.bokehjs_exec.v0+json": {
       "id": "441f995b-472b-48ab-a13e-cd48fe480bdb"
      }
     },
     "output_type": "display_data"
    }
   ],
   "source": [
    "p = bebi103.viz.ecdf_collection(data=df, \n",
    "                                cats='ID', \n",
    "                                val='impact force (mN)', \n",
    "                                p=None, \n",
    "                                formal=True,\n",
    "                                x_axis_label='impact force (mN)', \n",
    "                                y_axis_label=None,\n",
    "                                title=None, \n",
    "                                plot_height=300, \n",
    "                                plot_width=400, \n",
    "                                palette=['#4e79a7', '#f28e2b', '#e15759', '#76b7b2', '#59a14f',\n",
    "                                         '#edc948', '#b07aa1', '#ff9da7', '#9c755f', '#bab0ac'],\n",
    "                                order=['I', 'III', 'IV', 'II'], \n",
    "                                val_axis_type='linear', \n",
    "                                show_legend=True,\n",
    "                                tooltips=[('impact force (mN)', '@{impact force (mN)}'), \n",
    "                                          ('trial number', '@{trial number}'),\n",
    "                                          ('adhesive force (mN)', '@{adhesive force (mN)}')])\n",
    "bokeh.io.show(p) "
   ]
  },
  {
   "cell_type": "code",
   "execution_count": 14,
   "metadata": {},
   "outputs": [
    {
     "data": {
      "text/html": [
       "\n",
       "\n",
       "\n",
       "\n",
       "\n",
       "\n",
       "  <div class=\"bk-root\" id=\"e5f6aa1f-20cd-4ebc-b1b5-d059a989f4fc\"></div>\n"
      ]
     },
     "metadata": {},
     "output_type": "display_data"
    },
    {
     "data": {
      "application/javascript": [
       "(function(root) {\n",
       "  function embed_document(root) {\n",
       "    \n",
       "  var docs_json = {\"d7be6e10-341b-4005-ba75-9788d8642814\":{\"roots\":{\"references\":[{\"attributes\":{\"factors\":[\"I\",\"III\",\"IV\",\"II\"],\"palette\":[\"#4e79a7\",\"#f28e2b\",\"#e15759\",\"#76b7b2\",\"#59a14f\",\"#edc948\",\"#b07aa1\",\"#ff9da7\",\"#9c755f\",\"#bab0ac\"]},\"id\":\"59d876c0-3279-4c43-b696-4dc9331018a4\",\"type\":\"CategoricalColorMapper\"},{\"attributes\":{\"callback\":null},\"id\":\"a569d8ab-261b-47fe-905f-04fb90da8fea\",\"type\":\"DataRange1d\"},{\"attributes\":{\"fill_alpha\":{\"value\":0.1},\"fill_color\":{\"value\":\"#1f77b4\"},\"line_alpha\":{\"value\":0.1},\"line_color\":{\"value\":\"#1f77b4\"},\"x\":{\"field\":\"impact force (mN)\"},\"y\":{\"field\":\"__ECDF\"}},\"id\":\"443ac997-9fd7-44e9-9aae-2bee2f175709\",\"type\":\"Circle\"},{\"attributes\":{\"plot\":{\"id\":\"0cfa1ab9-a79f-4be9-ad4d-36b8738fdc68\",\"subtype\":\"Figure\",\"type\":\"Plot\"},\"ticker\":{\"id\":\"a3fe7042-bf89-48bb-8360-ce4489274b34\",\"type\":\"BasicTicker\"}},\"id\":\"1d2a57e5-050d-4854-8083-e7bdea916fd6\",\"type\":\"Grid\"},{\"attributes\":{\"callback\":null},\"id\":\"fc09978b-ad9e-4b98-8405-4b6e3bd24079\",\"type\":\"DataRange1d\"},{\"attributes\":{},\"id\":\"fa1b8106-1f88-45ca-b7b4-4400d5cdfe25\",\"type\":\"LinearScale\"},{\"attributes\":{\"active_drag\":\"auto\",\"active_inspect\":\"auto\",\"active_multi\":null,\"active_scroll\":\"auto\",\"active_tap\":\"auto\",\"tools\":[{\"id\":\"4a99c6f1-c2bc-4721-88a4-138fa15c2d3e\",\"type\":\"PanTool\"},{\"id\":\"fae8ba7b-b711-42bf-94f1-ce1aa1d2c804\",\"type\":\"WheelZoomTool\"},{\"id\":\"716875d9-b9fc-406e-949f-c209963773a2\",\"type\":\"BoxZoomTool\"},{\"id\":\"9c3609bc-c6b2-4694-b67e-0a43c47ac0ef\",\"type\":\"SaveTool\"},{\"id\":\"64558c4f-c19b-40bf-a083-ea09325aa45a\",\"type\":\"ResetTool\"},{\"id\":\"c0309cf6-121b-4ce2-93a2-9803ebf10bff\",\"type\":\"HelpTool\"},{\"id\":\"9add8f80-2e6f-4bca-9974-f75365dca14c\",\"type\":\"HoverTool\"}]},\"id\":\"b4878698-27ee-492b-8771-846e70a3eb42\",\"type\":\"Toolbar\"},{\"attributes\":{},\"id\":\"afa94560-0a64-497a-a3ac-e50547dbf2a6\",\"type\":\"LinearScale\"},{\"attributes\":{\"axis_label\":\"impact force (mN)\",\"formatter\":{\"id\":\"acb945e7-9b69-48e3-bdf4-c2c74d64051c\",\"type\":\"BasicTickFormatter\"},\"plot\":{\"id\":\"0cfa1ab9-a79f-4be9-ad4d-36b8738fdc68\",\"subtype\":\"Figure\",\"type\":\"Plot\"},\"ticker\":{\"id\":\"a3fe7042-bf89-48bb-8360-ce4489274b34\",\"type\":\"BasicTicker\"}},\"id\":\"7654b4e9-e2ec-44ae-b3a3-84293812e3ae\",\"type\":\"LinearAxis\"},{\"attributes\":{},\"id\":\"a3fe7042-bf89-48bb-8360-ce4489274b34\",\"type\":\"BasicTicker\"},{\"attributes\":{\"axis_label\":\"ECDF\",\"formatter\":{\"id\":\"7635a6ee-34c2-4d93-8338-ff7e305660b3\",\"type\":\"BasicTickFormatter\"},\"plot\":{\"id\":\"0cfa1ab9-a79f-4be9-ad4d-36b8738fdc68\",\"subtype\":\"Figure\",\"type\":\"Plot\"},\"ticker\":{\"id\":\"059281d3-489c-4a44-904f-1625d50d68f7\",\"type\":\"BasicTicker\"}},\"id\":\"cbe890c9-fd3a-44b8-9796-65028d94d82d\",\"type\":\"LinearAxis\"},{\"attributes\":{},\"id\":\"059281d3-489c-4a44-904f-1625d50d68f7\",\"type\":\"BasicTicker\"},{\"attributes\":{\"dimension\":1,\"plot\":{\"id\":\"0cfa1ab9-a79f-4be9-ad4d-36b8738fdc68\",\"subtype\":\"Figure\",\"type\":\"Plot\"},\"ticker\":{\"id\":\"059281d3-489c-4a44-904f-1625d50d68f7\",\"type\":\"BasicTicker\"}},\"id\":\"fc307785-ed60-49bc-93ad-d539b1de5297\",\"type\":\"Grid\"},{\"attributes\":{\"fill_color\":{\"field\":\"cat\",\"transform\":{\"id\":\"59d876c0-3279-4c43-b696-4dc9331018a4\",\"type\":\"CategoricalColorMapper\"}},\"line_color\":{\"field\":\"cat\",\"transform\":{\"id\":\"59d876c0-3279-4c43-b696-4dc9331018a4\",\"type\":\"CategoricalColorMapper\"}},\"x\":{\"field\":\"impact force (mN)\"},\"y\":{\"field\":\"__ECDF\"}},\"id\":\"ba96f9af-88a4-4bdd-af65-d2684febbf52\",\"type\":\"Circle\"},{\"attributes\":{\"items\":[{\"id\":\"1f4ae3db-2f20-40e2-bd4a-ddc7ca2ecfb9\",\"type\":\"LegendItem\"}],\"location\":\"bottom_right\",\"plot\":{\"id\":\"0cfa1ab9-a79f-4be9-ad4d-36b8738fdc68\",\"subtype\":\"Figure\",\"type\":\"Plot\"}},\"id\":\"5cd354b0-7e98-44a4-966a-345446b72cca\",\"type\":\"Legend\"},{\"attributes\":{\"bottom_units\":\"screen\",\"fill_alpha\":{\"value\":0.5},\"fill_color\":{\"value\":\"lightgrey\"},\"left_units\":\"screen\",\"level\":\"overlay\",\"line_alpha\":{\"value\":1.0},\"line_color\":{\"value\":\"black\"},\"line_dash\":[4,4],\"line_width\":{\"value\":2},\"plot\":null,\"render_mode\":\"css\",\"right_units\":\"screen\",\"top_units\":\"screen\"},\"id\":\"c4acb6e9-814f-49f5-a8b0-b4878fa486fc\",\"type\":\"BoxAnnotation\"},{\"attributes\":{},\"id\":\"4a99c6f1-c2bc-4721-88a4-138fa15c2d3e\",\"type\":\"PanTool\"},{\"attributes\":{\"source\":{\"id\":\"53f8910b-4e66-4728-a926-880cbcff5242\",\"type\":\"ColumnDataSource\"}},\"id\":\"c07b1394-234e-40f5-90f6-ac9626df7dd3\",\"type\":\"CDSView\"},{\"attributes\":{},\"id\":\"fae8ba7b-b711-42bf-94f1-ce1aa1d2c804\",\"type\":\"WheelZoomTool\"},{\"attributes\":{\"overlay\":{\"id\":\"c4acb6e9-814f-49f5-a8b0-b4878fa486fc\",\"type\":\"BoxAnnotation\"}},\"id\":\"716875d9-b9fc-406e-949f-c209963773a2\",\"type\":\"BoxZoomTool\"},{\"attributes\":{},\"id\":\"9c3609bc-c6b2-4694-b67e-0a43c47ac0ef\",\"type\":\"SaveTool\"},{\"attributes\":{},\"id\":\"64558c4f-c19b-40bf-a083-ea09325aa45a\",\"type\":\"ResetTool\"},{\"attributes\":{},\"id\":\"c0309cf6-121b-4ce2-93a2-9803ebf10bff\",\"type\":\"HelpTool\"},{\"attributes\":{\"callback\":null,\"renderers\":\"auto\",\"tooltips\":[[\"impact force (mN)\",\"@{impact force (mN)}\"],[\"trial number\",\"@{trial number}\"],[\"adhesive force (mN)\",\"@{adhesive force (mN)}\"]]},\"id\":\"9add8f80-2e6f-4bca-9974-f75365dca14c\",\"type\":\"HoverTool\"},{\"attributes\":{},\"id\":\"7635a6ee-34c2-4d93-8338-ff7e305660b3\",\"type\":\"BasicTickFormatter\"},{\"attributes\":{},\"id\":\"acb945e7-9b69-48e3-bdf4-c2c74d64051c\",\"type\":\"BasicTickFormatter\"},{\"attributes\":{\"label\":{\"field\":\"__label\"},\"renderers\":[{\"id\":\"118a6005-9a92-47ab-a74b-f24213931a55\",\"type\":\"GlyphRenderer\"}]},\"id\":\"1f4ae3db-2f20-40e2-bd4a-ddc7ca2ecfb9\",\"type\":\"LegendItem\"},{\"attributes\":{},\"id\":\"2a77822f-9a9d-42a7-b3ab-9136898bdfc4\",\"type\":\"UnionRenderers\"},{\"attributes\":{},\"id\":\"dcfe8292-e921-4d78-b3ff-b8339de9be0c\",\"type\":\"Selection\"},{\"attributes\":{\"callback\":null,\"data\":{\"ID\":[\"I\",\"I\",\"I\",\"I\",\"I\",\"I\",\"I\",\"I\",\"I\",\"I\",\"I\",\"I\",\"I\",\"I\",\"I\",\"I\",\"I\",\"I\",\"I\",\"I\",\"II\",\"II\",\"II\",\"II\",\"II\",\"II\",\"II\",\"II\",\"II\",\"II\",\"II\",\"II\",\"II\",\"II\",\"II\",\"II\",\"II\",\"II\",\"II\",\"II\",\"III\",\"III\",\"III\",\"III\",\"III\",\"III\",\"III\",\"III\",\"III\",\"III\",\"III\",\"III\",\"III\",\"III\",\"III\",\"III\",\"III\",\"III\",\"III\",\"III\",\"IV\",\"IV\",\"IV\",\"IV\",\"IV\",\"IV\",\"IV\",\"IV\",\"IV\",\"IV\",\"IV\",\"IV\",\"IV\",\"IV\",\"IV\",\"IV\",\"IV\",\"IV\",\"IV\",\"IV\"],\"__ECDF\":[0.775,0.9875,0.9125,0.875,0.3375,0.975,0.4625,0.95,1.0,0.9375,0.925,0.8625,0.8125,0.9,0.85,0.8,0.7,0.9625,0.7875,0.3125,0.8875,0.5125,0.15,0.75,0.425,0.8375,0.3875,0.6125,0.825,0.125,0.6375,0.1,0.6875,0.0875,0.7625,0.3625,0.2375,0.175,0.2625,0.675,0.55,0.225,0.1375,0.7125,0.5375,0.4375,0.4125,0.475,0.725,0.2875,0.275,0.6,0.5875,0.45,0.4,0.1875,0.2,0.5625,0.625,0.325,0.05,0.0375,0.025,0.25,0.1625,0.0125,0.35,0.1125,0.6625,0.4875,0.0625,0.075,0.5,0.375,0.7375,0.2125,0.525,0.65,0.575,0.3],\"__label\":[\"I\",\"I\",\"I\",\"I\",\"I\",\"I\",\"I\",\"I\",\"I\",\"I\",\"I\",\"I\",\"I\",\"I\",\"I\",\"I\",\"I\",\"I\",\"I\",\"I\",\"II\",\"II\",\"II\",\"II\",\"II\",\"II\",\"II\",\"II\",\"II\",\"II\",\"II\",\"II\",\"II\",\"II\",\"II\",\"II\",\"II\",\"II\",\"II\",\"II\",\"III\",\"III\",\"III\",\"III\",\"III\",\"III\",\"III\",\"III\",\"III\",\"III\",\"III\",\"III\",\"III\",\"III\",\"III\",\"III\",\"III\",\"III\",\"III\",\"III\",\"IV\",\"IV\",\"IV\",\"IV\",\"IV\",\"IV\",\"IV\",\"IV\",\"IV\",\"IV\",\"IV\",\"IV\",\"IV\",\"IV\",\"IV\",\"IV\",\"IV\",\"IV\",\"IV\",\"IV\"],\"adhesive force (mN)\":[-785,-983,-850,-455,-974,-592,-512,-804,-690,-462,-766,-715,-613,-677,-528,-452,-430,-652,-692,-536,-655,-292,-246,-245,-553,-664,-261,-691,-92,-566,-223,-512,-227,-573,-522,-599,-364,-469,-844,-648,-94,-163,-172,-225,-301,-93,-131,-289,-104,-229,-259,-231,-267,-178,-123,-151,-127,-372,-236,-390,-456,-193,-236,-225,-217,-161,-139,-264,-342,-231,-209,-292,-339,-371,-331,-302,-216,-163,-367,-218],\"cat\":[\"I\",\"I\",\"I\",\"I\",\"I\",\"I\",\"I\",\"I\",\"I\",\"I\",\"I\",\"I\",\"I\",\"I\",\"I\",\"I\",\"I\",\"I\",\"I\",\"I\",\"II\",\"II\",\"II\",\"II\",\"II\",\"II\",\"II\",\"II\",\"II\",\"II\",\"II\",\"II\",\"II\",\"II\",\"II\",\"II\",\"II\",\"II\",\"II\",\"II\",\"III\",\"III\",\"III\",\"III\",\"III\",\"III\",\"III\",\"III\",\"III\",\"III\",\"III\",\"III\",\"III\",\"III\",\"III\",\"III\",\"III\",\"III\",\"III\",\"III\",\"IV\",\"IV\",\"IV\",\"IV\",\"IV\",\"IV\",\"IV\",\"IV\",\"IV\",\"IV\",\"IV\",\"IV\",\"IV\",\"IV\",\"IV\",\"IV\",\"IV\",\"IV\",\"IV\",\"IV\"],\"impact force (mN)\":[1205,2527,1745,1556,493,2276,556,1928,2641,1897,1891,1545,1307,1692,1543,1282,775,2032,1240,473,1612,605,327,946,541,1539,529,628,1453,297,703,269,751,245,1182,515,435,383,457,730,614,414,324,776,611,544,538,579,806,459,458,626,621,544,535,385,401,614,665,488,172,142,37,453,355,22,502,273,720,582,198,198,597,516,815,402,605,711,614,468],\"trial number\":[3,4,1,2,3,4,1,2,3,4,1,2,3,4,5,1,2,3,4,5,1,2,3,4,1,2,3,4,1,2,3,4,1,2,1,2,1,2,3,1,1,2,3,1,2,3,1,2,1,2,3,4,1,2,3,4,1,2,3,4,2,3,4,1,2,3,1,1,2,3,4,1,1,2,3,4,1,2,3,4]},\"selected\":{\"id\":\"dcfe8292-e921-4d78-b3ff-b8339de9be0c\",\"type\":\"Selection\"},\"selection_policy\":{\"id\":\"2a77822f-9a9d-42a7-b3ab-9136898bdfc4\",\"type\":\"UnionRenderers\"}},\"id\":\"53f8910b-4e66-4728-a926-880cbcff5242\",\"type\":\"ColumnDataSource\"},{\"attributes\":{\"below\":[{\"id\":\"7654b4e9-e2ec-44ae-b3a3-84293812e3ae\",\"type\":\"LinearAxis\"}],\"left\":[{\"id\":\"cbe890c9-fd3a-44b8-9796-65028d94d82d\",\"type\":\"LinearAxis\"}],\"plot_height\":300,\"plot_width\":400,\"renderers\":[{\"id\":\"7654b4e9-e2ec-44ae-b3a3-84293812e3ae\",\"type\":\"LinearAxis\"},{\"id\":\"1d2a57e5-050d-4854-8083-e7bdea916fd6\",\"type\":\"Grid\"},{\"id\":\"cbe890c9-fd3a-44b8-9796-65028d94d82d\",\"type\":\"LinearAxis\"},{\"id\":\"fc307785-ed60-49bc-93ad-d539b1de5297\",\"type\":\"Grid\"},{\"id\":\"c4acb6e9-814f-49f5-a8b0-b4878fa486fc\",\"type\":\"BoxAnnotation\"},{\"id\":\"5cd354b0-7e98-44a4-966a-345446b72cca\",\"type\":\"Legend\"},{\"id\":\"118a6005-9a92-47ab-a74b-f24213931a55\",\"type\":\"GlyphRenderer\"}],\"title\":null,\"toolbar\":{\"id\":\"b4878698-27ee-492b-8771-846e70a3eb42\",\"type\":\"Toolbar\"},\"x_range\":{\"id\":\"fc09978b-ad9e-4b98-8405-4b6e3bd24079\",\"type\":\"DataRange1d\"},\"x_scale\":{\"id\":\"fa1b8106-1f88-45ca-b7b4-4400d5cdfe25\",\"type\":\"LinearScale\"},\"y_range\":{\"id\":\"a569d8ab-261b-47fe-905f-04fb90da8fea\",\"type\":\"DataRange1d\"},\"y_scale\":{\"id\":\"afa94560-0a64-497a-a3ac-e50547dbf2a6\",\"type\":\"LinearScale\"}},\"id\":\"0cfa1ab9-a79f-4be9-ad4d-36b8738fdc68\",\"subtype\":\"Figure\",\"type\":\"Plot\"},{\"attributes\":{\"data_source\":{\"id\":\"53f8910b-4e66-4728-a926-880cbcff5242\",\"type\":\"ColumnDataSource\"},\"glyph\":{\"id\":\"ba96f9af-88a4-4bdd-af65-d2684febbf52\",\"type\":\"Circle\"},\"hover_glyph\":null,\"muted_glyph\":null,\"nonselection_glyph\":{\"id\":\"443ac997-9fd7-44e9-9aae-2bee2f175709\",\"type\":\"Circle\"},\"selection_glyph\":null,\"view\":{\"id\":\"c07b1394-234e-40f5-90f6-ac9626df7dd3\",\"type\":\"CDSView\"}},\"id\":\"118a6005-9a92-47ab-a74b-f24213931a55\",\"type\":\"GlyphRenderer\"}],\"root_ids\":[\"0cfa1ab9-a79f-4be9-ad4d-36b8738fdc68\"]},\"title\":\"Bokeh Application\",\"version\":\"0.13.0\"}};\n",
       "  var render_items = [{\"docid\":\"d7be6e10-341b-4005-ba75-9788d8642814\",\"roots\":{\"0cfa1ab9-a79f-4be9-ad4d-36b8738fdc68\":\"e5f6aa1f-20cd-4ebc-b1b5-d059a989f4fc\"}}];\n",
       "  root.Bokeh.embed.embed_items_notebook(docs_json, render_items);\n",
       "\n",
       "  }\n",
       "  if (root.Bokeh !== undefined) {\n",
       "    embed_document(root);\n",
       "  } else {\n",
       "    var attempts = 0;\n",
       "    var timer = setInterval(function(root) {\n",
       "      if (root.Bokeh !== undefined) {\n",
       "        embed_document(root);\n",
       "        clearInterval(timer);\n",
       "      }\n",
       "      attempts++;\n",
       "      if (attempts > 100) {\n",
       "        console.log(\"Bokeh: ERROR: Unable to run BokehJS code because BokehJS library is missing\")\n",
       "        clearInterval(timer);\n",
       "      }\n",
       "    }, 10, root)\n",
       "  }\n",
       "})(window);"
      ],
      "application/vnd.bokehjs_exec.v0+json": ""
     },
     "metadata": {
      "application/vnd.bokehjs_exec.v0+json": {
       "id": "0cfa1ab9-a79f-4be9-ad4d-36b8738fdc68"
      }
     },
     "output_type": "display_data"
    }
   ],
   "source": [
    "p = bebi103.viz.colored_ecdf(data=df, \n",
    "                                cats='ID', \n",
    "                                val='impact force (mN)', \n",
    "                                p=None,\n",
    "                                x_axis_label='impact force (mN)', \n",
    "                                y_axis_label=None,\n",
    "                                title=None, \n",
    "                                plot_height=300, \n",
    "                                plot_width=400, \n",
    "                                palette=['#4e79a7', '#f28e2b', '#e15759', '#76b7b2', '#59a14f',\n",
    "                                         '#edc948', '#b07aa1', '#ff9da7', '#9c755f', '#bab0ac'],\n",
    "                                order=['I', 'III', 'IV', 'II'], \n",
    "                                val_axis_type='linear', \n",
    "                                show_legend=True,\n",
    "                                tooltips=[('impact force (mN)', '@{impact force (mN)}'), \n",
    "                                          ('trial number', '@{trial number}'),\n",
    "                                          ('adhesive force (mN)', '@{adhesive force (mN)}')])\n",
    "bokeh.io.show(p) "
   ]
  },
  {
   "cell_type": "markdown",
   "metadata": {},
   "source": [
    "## Box plots"
   ]
  },
  {
   "cell_type": "code",
   "execution_count": 60,
   "metadata": {},
   "outputs": [
    {
     "data": {
      "text/html": [
       "\n",
       "\n",
       "\n",
       "\n",
       "\n",
       "\n",
       "  <div class=\"bk-root\" id=\"680e7cad-7ac1-488c-90eb-b9ef9cb365ef\"></div>\n"
      ]
     },
     "metadata": {},
     "output_type": "display_data"
    },
    {
     "data": {
      "application/javascript": [
       "(function(root) {\n",
       "  function embed_document(root) {\n",
       "    \n",
       "  var docs_json = {\"8b834904-4b50-4af0-8dd6-afde1aa8bb47\":{\"roots\":{\"references\":[{\"attributes\":{\"data_source\":{\"id\":\"917e5499-d5b2-48e5-961d-21be1621610e\",\"type\":\"ColumnDataSource\"},\"glyph\":{\"id\":\"d2984adf-0ae1-4013-8f15-18cf891cc0a4\",\"type\":\"Segment\"},\"hover_glyph\":null,\"muted_glyph\":null,\"nonselection_glyph\":{\"id\":\"1dd316c9-faa5-4a53-8adc-9da959fd5b87\",\"type\":\"Segment\"},\"selection_glyph\":null,\"view\":{\"id\":\"68378278-b714-4a8b-9c0b-2d5f175ae11c\",\"type\":\"CDSView\"}},\"id\":\"33f11fd7-e3a8-42ff-8ad5-6d6af0da0246\",\"type\":\"GlyphRenderer\"},{\"attributes\":{\"fill_color\":{\"field\":\"cat\",\"transform\":{\"id\":\"22ba4246-f99a-420c-958e-a80c26fba89f\",\"type\":\"CategoricalColorMapper\"}},\"line_color\":{\"field\":\"cat\",\"transform\":{\"id\":\"186269e7-df14-4ee8-99a5-89a517ae9090\",\"type\":\"CategoricalColorMapper\"}},\"x\":{\"field\":\"impact force (mN)\"},\"y\":{\"field\":\"cat\"}},\"id\":\"70692550-1a14-4863-832d-1efb4fff52be\",\"type\":\"Circle\"},{\"attributes\":{\"bottom_units\":\"screen\",\"fill_alpha\":{\"value\":0.5},\"fill_color\":{\"value\":\"lightgrey\"},\"left_units\":\"screen\",\"level\":\"overlay\",\"line_alpha\":{\"value\":1.0},\"line_color\":{\"value\":\"black\"},\"line_dash\":[4,4],\"line_width\":{\"value\":2},\"plot\":null,\"render_mode\":\"css\",\"right_units\":\"screen\",\"top_units\":\"screen\"},\"id\":\"5b9d96f0-bc2a-409d-8d01-86044df2b557\",\"type\":\"BoxAnnotation\"},{\"attributes\":{\"overlay\":{\"id\":\"5b9d96f0-bc2a-409d-8d01-86044df2b557\",\"type\":\"BoxAnnotation\"}},\"id\":\"44ce0820-45b2-4007-a4f1-58f10cd99f3a\",\"type\":\"BoxZoomTool\"},{\"attributes\":{\"fill_color\":{\"value\":\"#1f77b4\"},\"height\":{\"value\":0.1},\"left\":{\"field\":\"top_whisker\"},\"right\":{\"field\":\"top_whisker\"},\"y\":{\"field\":\"cat\"}},\"id\":\"d94071ad-de0f-4e5c-9736-5bfede5b6154\",\"type\":\"HBar\"},{\"attributes\":{\"fill_alpha\":{\"value\":0.1},\"fill_color\":{\"value\":\"#1f77b4\"},\"line_alpha\":{\"value\":0.1},\"line_color\":{\"value\":\"#1f77b4\"},\"x\":{\"field\":\"impact force (mN)\"},\"y\":{\"field\":\"cat\"}},\"id\":\"9786f025-ea5d-4ad2-b994-3d223f1101f9\",\"type\":\"Circle\"},{\"attributes\":{\"line_alpha\":{\"value\":0.1},\"line_color\":{\"value\":\"#1f77b4\"},\"x0\":{\"field\":\"bottom\"},\"x1\":{\"field\":\"bottom_whisker\"},\"y0\":{\"field\":\"cat\"},\"y1\":{\"field\":\"cat\"}},\"id\":\"1dd316c9-faa5-4a53-8adc-9da959fd5b87\",\"type\":\"Segment\"},{\"attributes\":{\"axis_label\":\"impact force (mN)\",\"formatter\":{\"id\":\"674d26be-cfa3-4c32-b8fe-b37a7c4d443f\",\"type\":\"LogTickFormatter\"},\"plot\":{\"id\":\"bee217a4-fc8c-4ecf-b50c-743877400d89\",\"subtype\":\"Figure\",\"type\":\"Plot\"},\"ticker\":{\"id\":\"3d1671f3-5b21-427d-8ce5-0c0b800389e1\",\"type\":\"LogTicker\"}},\"id\":\"50260980-f0b6-494d-bbcf-a4ad4c91cc05\",\"type\":\"LogAxis\"},{\"attributes\":{\"data_source\":{\"id\":\"47744ca7-577a-4ae7-8699-a86868b6c1f2\",\"type\":\"ColumnDataSource\"},\"glyph\":{\"id\":\"70692550-1a14-4863-832d-1efb4fff52be\",\"type\":\"Circle\"},\"hover_glyph\":null,\"muted_glyph\":null,\"nonselection_glyph\":{\"id\":\"9786f025-ea5d-4ad2-b994-3d223f1101f9\",\"type\":\"Circle\"},\"selection_glyph\":null,\"view\":{\"id\":\"415ff00a-4b66-4363-a539-e4f193fde6e9\",\"type\":\"CDSView\"}},\"id\":\"e7d11225-c584-41b4-9f95-47118f1149f0\",\"type\":\"GlyphRenderer\"},{\"attributes\":{},\"id\":\"8bd0d09c-75f9-4516-a900-296edd3f315b\",\"type\":\"WheelZoomTool\"},{\"attributes\":{},\"id\":\"f824aedd-5614-4e6b-ba69-ce8b367235b9\",\"type\":\"SaveTool\"},{\"attributes\":{\"axis_label\":\"ID\",\"formatter\":{\"id\":\"b53c243c-155f-4c32-a38b-4e492daa4482\",\"type\":\"CategoricalTickFormatter\"},\"plot\":{\"id\":\"bee217a4-fc8c-4ecf-b50c-743877400d89\",\"subtype\":\"Figure\",\"type\":\"Plot\"},\"ticker\":{\"id\":\"4585231e-7887-4e21-a0c1-a3142d75d032\",\"type\":\"CategoricalTicker\"}},\"id\":\"62986194-552b-408e-bd61-68f039d9de5b\",\"type\":\"CategoricalAxis\"},{\"attributes\":{\"source\":{\"id\":\"47744ca7-577a-4ae7-8699-a86868b6c1f2\",\"type\":\"ColumnDataSource\"}},\"id\":\"415ff00a-4b66-4363-a539-e4f193fde6e9\",\"type\":\"CDSView\"},{\"attributes\":{\"source\":{\"id\":\"917e5499-d5b2-48e5-961d-21be1621610e\",\"type\":\"ColumnDataSource\"}},\"id\":\"3d144ff1-b881-4bb4-b219-a61cf5ef21eb\",\"type\":\"CDSView\"},{\"attributes\":{\"factors\":[\"I\",\"II\",\"III\",\"IV\"],\"palette\":[\"#4e79a7\",\"#f28e2b\",\"#e15759\",\"#76b7b2\",\"#59a14f\",\"#edc948\",\"#b07aa1\",\"#ff9da7\",\"#9c755f\",\"#bab0ac\"]},\"id\":\"186269e7-df14-4ee8-99a5-89a517ae9090\",\"type\":\"CategoricalColorMapper\"},{\"attributes\":{\"data_source\":{\"id\":\"917e5499-d5b2-48e5-961d-21be1621610e\",\"type\":\"ColumnDataSource\"},\"glyph\":{\"id\":\"476982d2-86ee-49a4-b4d1-a73a24382cb5\",\"type\":\"HBar\"},\"hover_glyph\":null,\"muted_glyph\":null,\"nonselection_glyph\":{\"id\":\"463991f2-a22d-405b-9cff-080470b11106\",\"type\":\"HBar\"},\"selection_glyph\":null,\"view\":{\"id\":\"085569f3-c070-42cd-bc9d-92d745950cd4\",\"type\":\"CDSView\"}},\"id\":\"1fd45a59-f7aa-4084-8684-70ea61a019ad\",\"type\":\"GlyphRenderer\"},{\"attributes\":{\"callback\":null,\"data\":{\"__label\":[\"I\",\"II\",\"III\",\"IV\"],\"bottom\":[1231.25,422.0,458.75,198.0],\"bottom_whisker\":[473.0,245.0,324.0,22.0],\"cat\":[\"I\",\"II\",\"III\",\"IV\"],\"middle\":[1550.5,573.0,544.0,460.5],\"top\":[1904.75,799.75,615.75,599.0],\"top_whisker\":[2641.0,1366.375,806.0,815.0]},\"selected\":{\"id\":\"6a4fef1a-51d1-4140-9d75-c4a00a892157\",\"type\":\"Selection\"},\"selection_policy\":{\"id\":\"e9962470-a45f-454a-ab69-ec765ad74361\",\"type\":\"UnionRenderers\"}},\"id\":\"917e5499-d5b2-48e5-961d-21be1621610e\",\"type\":\"ColumnDataSource\"},{\"attributes\":{\"data_source\":{\"id\":\"917e5499-d5b2-48e5-961d-21be1621610e\",\"type\":\"ColumnDataSource\"},\"glyph\":{\"id\":\"02ebaf7e-e309-4349-85bd-46e8109f7db2\",\"type\":\"Segment\"},\"hover_glyph\":null,\"muted_glyph\":null,\"nonselection_glyph\":{\"id\":\"69043308-dfef-489c-8d4d-8780133b9e56\",\"type\":\"Segment\"},\"selection_glyph\":null,\"view\":{\"id\":\"51988f18-177d-4369-a882-542d4e5f0df9\",\"type\":\"CDSView\"}},\"id\":\"924e83ad-8f65-44c8-9941-78c694ba5b91\",\"type\":\"GlyphRenderer\"},{\"attributes\":{\"fill_alpha\":{\"value\":0.1},\"fill_color\":{\"value\":\"#1f77b4\"},\"height\":{\"value\":0.1},\"left\":{\"field\":\"bottom_whisker\"},\"line_alpha\":{\"value\":0.1},\"line_color\":{\"value\":\"#1f77b4\"},\"right\":{\"field\":\"bottom_whisker\"},\"y\":{\"field\":\"cat\"}},\"id\":\"ba7d27ee-e535-4abc-b90b-43c0aae0909d\",\"type\":\"HBar\"},{\"attributes\":{\"data_source\":{\"id\":\"917e5499-d5b2-48e5-961d-21be1621610e\",\"type\":\"ColumnDataSource\"},\"glyph\":{\"id\":\"8a83a387-c522-4abd-bce0-0c384c9da5ec\",\"type\":\"HBar\"},\"hover_glyph\":null,\"muted_glyph\":null,\"nonselection_glyph\":{\"id\":\"dc764259-50f3-494b-a3d1-4210ae8c89d0\",\"type\":\"HBar\"},\"selection_glyph\":null,\"view\":{\"id\":\"3d144ff1-b881-4bb4-b219-a61cf5ef21eb\",\"type\":\"CDSView\"}},\"id\":\"308a8887-585f-488a-9ccd-06096b4aaf8f\",\"type\":\"GlyphRenderer\"},{\"attributes\":{},\"id\":\"4585231e-7887-4e21-a0c1-a3142d75d032\",\"type\":\"CategoricalTicker\"},{\"attributes\":{\"x0\":{\"field\":\"top\"},\"x1\":{\"field\":\"top_whisker\"},\"y0\":{\"field\":\"cat\"},\"y1\":{\"field\":\"cat\"}},\"id\":\"02ebaf7e-e309-4349-85bd-46e8109f7db2\",\"type\":\"Segment\"},{\"attributes\":{\"num_minor_ticks\":10},\"id\":\"3d1671f3-5b21-427d-8ce5-0c0b800389e1\",\"type\":\"LogTicker\"},{\"attributes\":{\"source\":{\"id\":\"917e5499-d5b2-48e5-961d-21be1621610e\",\"type\":\"ColumnDataSource\"}},\"id\":\"68378278-b714-4a8b-9c0b-2d5f175ae11c\",\"type\":\"CDSView\"},{\"attributes\":{\"plot\":{\"id\":\"bee217a4-fc8c-4ecf-b50c-743877400d89\",\"subtype\":\"Figure\",\"type\":\"Plot\"},\"ticker\":{\"id\":\"3d1671f3-5b21-427d-8ce5-0c0b800389e1\",\"type\":\"LogTicker\"}},\"id\":\"a95aff98-b455-49c9-a095-3bede9f5abe2\",\"type\":\"Grid\"},{\"attributes\":{},\"id\":\"894cd5dd-c504-48b7-abe9-e9235887a4ec\",\"type\":\"Selection\"},{\"attributes\":{\"factors\":[\"I\",\"II\",\"III\",\"IV\"],\"palette\":[\"#4e79a7\",\"#f28e2b\",\"#e15759\",\"#76b7b2\",\"#59a14f\",\"#edc948\",\"#b07aa1\",\"#ff9da7\",\"#9c755f\",\"#bab0ac\"]},\"id\":\"22ba4246-f99a-420c-958e-a80c26fba89f\",\"type\":\"CategoricalColorMapper\"},{\"attributes\":{\"data_source\":{\"id\":\"917e5499-d5b2-48e5-961d-21be1621610e\",\"type\":\"ColumnDataSource\"},\"glyph\":{\"id\":\"d94071ad-de0f-4e5c-9736-5bfede5b6154\",\"type\":\"HBar\"},\"hover_glyph\":null,\"muted_glyph\":null,\"nonselection_glyph\":{\"id\":\"94679370-c435-4c07-a5e3-153e6c0fa48d\",\"type\":\"HBar\"},\"selection_glyph\":null,\"view\":{\"id\":\"c4ccfb43-c04b-4a82-a6ab-7f88c2d3e130\",\"type\":\"CDSView\"}},\"id\":\"b8d4e729-d088-4372-8aa2-0efcc11e2bf9\",\"type\":\"GlyphRenderer\"},{\"attributes\":{\"callback\":null,\"data\":{\"ID\":[\"II\",\"II\",\"II\"],\"__label\":[\"II\",\"II\",\"II\"],\"cat\":[\"II\",\"II\",\"II\"],\"impact force (mN)\":[1612,1539,1453]},\"selected\":{\"id\":\"894cd5dd-c504-48b7-abe9-e9235887a4ec\",\"type\":\"Selection\"},\"selection_policy\":{\"id\":\"834bf7c1-c793-45d0-823b-a1166ea99c4c\",\"type\":\"UnionRenderers\"}},\"id\":\"47744ca7-577a-4ae7-8699-a86868b6c1f2\",\"type\":\"ColumnDataSource\"},{\"attributes\":{\"callback\":null},\"id\":\"9f6b2827-b6b6-48de-9371-5d80da244426\",\"type\":\"DataRange1d\"},{\"attributes\":{\"source\":{\"id\":\"917e5499-d5b2-48e5-961d-21be1621610e\",\"type\":\"ColumnDataSource\"}},\"id\":\"c4ccfb43-c04b-4a82-a6ab-7f88c2d3e130\",\"type\":\"CDSView\"},{\"attributes\":{},\"id\":\"5b045c91-e461-43ec-b603-5722424db9c6\",\"type\":\"LogScale\"},{\"attributes\":{\"fill_alpha\":{\"value\":0.1},\"fill_color\":{\"value\":\"#1f77b4\"},\"height\":{\"value\":0.4},\"left\":{\"field\":\"middle\"},\"line_alpha\":{\"value\":0.1},\"line_color\":{\"value\":\"#1f77b4\"},\"right\":{\"field\":\"middle\"},\"y\":{\"field\":\"cat\"}},\"id\":\"463991f2-a22d-405b-9cff-080470b11106\",\"type\":\"HBar\"},{\"attributes\":{\"fill_alpha\":{\"value\":0.1},\"fill_color\":{\"value\":\"#1f77b4\"},\"height\":{\"value\":0.1},\"left\":{\"field\":\"top_whisker\"},\"line_alpha\":{\"value\":0.1},\"line_color\":{\"value\":\"#1f77b4\"},\"right\":{\"field\":\"top_whisker\"},\"y\":{\"field\":\"cat\"}},\"id\":\"94679370-c435-4c07-a5e3-153e6c0fa48d\",\"type\":\"HBar\"},{\"attributes\":{},\"id\":\"e1c062ee-ff05-473a-a4e8-cae90548fd52\",\"type\":\"ResetTool\"},{\"attributes\":{\"dimension\":1,\"grid_line_color\":{\"value\":null},\"plot\":{\"id\":\"bee217a4-fc8c-4ecf-b50c-743877400d89\",\"subtype\":\"Figure\",\"type\":\"Plot\"},\"ticker\":{\"id\":\"4585231e-7887-4e21-a0c1-a3142d75d032\",\"type\":\"CategoricalTicker\"}},\"id\":\"ed17cbbe-4b0f-4708-b7d1-3b1b428fdc79\",\"type\":\"Grid\"},{\"attributes\":{},\"id\":\"4780bf79-9cd2-4b11-ac95-db90cda0ccf3\",\"type\":\"PanTool\"},{\"attributes\":{\"source\":{\"id\":\"917e5499-d5b2-48e5-961d-21be1621610e\",\"type\":\"ColumnDataSource\"}},\"id\":\"77b73b91-e8fa-41f9-ba03-ef69d1fe1426\",\"type\":\"CDSView\"},{\"attributes\":{},\"id\":\"4903824d-0e67-4444-82be-4d12129c9078\",\"type\":\"HelpTool\"},{\"attributes\":{\"x0\":{\"field\":\"bottom\"},\"x1\":{\"field\":\"bottom_whisker\"},\"y0\":{\"field\":\"cat\"},\"y1\":{\"field\":\"cat\"}},\"id\":\"d2984adf-0ae1-4013-8f15-18cf891cc0a4\",\"type\":\"Segment\"},{\"attributes\":{\"below\":[{\"id\":\"50260980-f0b6-494d-bbcf-a4ad4c91cc05\",\"type\":\"LogAxis\"}],\"left\":[{\"id\":\"62986194-552b-408e-bd61-68f039d9de5b\",\"type\":\"CategoricalAxis\"}],\"plot_height\":300,\"plot_width\":400,\"renderers\":[{\"id\":\"50260980-f0b6-494d-bbcf-a4ad4c91cc05\",\"type\":\"LogAxis\"},{\"id\":\"a95aff98-b455-49c9-a095-3bede9f5abe2\",\"type\":\"Grid\"},{\"id\":\"62986194-552b-408e-bd61-68f039d9de5b\",\"type\":\"CategoricalAxis\"},{\"id\":\"ed17cbbe-4b0f-4708-b7d1-3b1b428fdc79\",\"type\":\"Grid\"},{\"id\":\"5b9d96f0-bc2a-409d-8d01-86044df2b557\",\"type\":\"BoxAnnotation\"},{\"id\":\"924e83ad-8f65-44c8-9941-78c694ba5b91\",\"type\":\"GlyphRenderer\"},{\"id\":\"33f11fd7-e3a8-42ff-8ad5-6d6af0da0246\",\"type\":\"GlyphRenderer\"},{\"id\":\"b8d4e729-d088-4372-8aa2-0efcc11e2bf9\",\"type\":\"GlyphRenderer\"},{\"id\":\"a9a894bc-3bd7-4a83-9daf-976d3f4ac060\",\"type\":\"GlyphRenderer\"},{\"id\":\"308a8887-585f-488a-9ccd-06096b4aaf8f\",\"type\":\"GlyphRenderer\"},{\"id\":\"1fd45a59-f7aa-4084-8684-70ea61a019ad\",\"type\":\"GlyphRenderer\"},{\"id\":\"e7d11225-c584-41b4-9f95-47118f1149f0\",\"type\":\"GlyphRenderer\"}],\"title\":null,\"toolbar\":{\"id\":\"83d013c2-596c-4992-96cb-63f588083179\",\"type\":\"Toolbar\"},\"x_range\":{\"id\":\"9f6b2827-b6b6-48de-9371-5d80da244426\",\"type\":\"DataRange1d\"},\"x_scale\":{\"id\":\"5b045c91-e461-43ec-b603-5722424db9c6\",\"type\":\"LogScale\"},\"y_range\":{\"id\":\"2494ef22-b931-4109-bbe6-1d3afb7748ce\",\"type\":\"FactorRange\"},\"y_scale\":{\"id\":\"dca9061c-c4da-4635-a203-6bb56619f179\",\"type\":\"CategoricalScale\"}},\"id\":\"bee217a4-fc8c-4ecf-b50c-743877400d89\",\"subtype\":\"Figure\",\"type\":\"Plot\"},{\"attributes\":{\"fill_color\":{\"field\":\"cat\",\"transform\":{\"id\":\"dd064ab2-e8fa-4f16-b6d9-161aad570770\",\"type\":\"CategoricalColorMapper\"}},\"height\":{\"value\":0.4},\"left\":{\"field\":\"middle\"},\"right\":{\"field\":\"middle\"},\"y\":{\"field\":\"cat\"}},\"id\":\"476982d2-86ee-49a4-b4d1-a73a24382cb5\",\"type\":\"HBar\"},{\"attributes\":{\"active_drag\":\"auto\",\"active_inspect\":\"auto\",\"active_multi\":null,\"active_scroll\":\"auto\",\"active_tap\":\"auto\",\"tools\":[{\"id\":\"4780bf79-9cd2-4b11-ac95-db90cda0ccf3\",\"type\":\"PanTool\"},{\"id\":\"8bd0d09c-75f9-4516-a900-296edd3f315b\",\"type\":\"WheelZoomTool\"},{\"id\":\"44ce0820-45b2-4007-a4f1-58f10cd99f3a\",\"type\":\"BoxZoomTool\"},{\"id\":\"f824aedd-5614-4e6b-ba69-ce8b367235b9\",\"type\":\"SaveTool\"},{\"id\":\"e1c062ee-ff05-473a-a4e8-cae90548fd52\",\"type\":\"ResetTool\"},{\"id\":\"4903824d-0e67-4444-82be-4d12129c9078\",\"type\":\"HelpTool\"}]},\"id\":\"83d013c2-596c-4992-96cb-63f588083179\",\"type\":\"Toolbar\"},{\"attributes\":{\"source\":{\"id\":\"917e5499-d5b2-48e5-961d-21be1621610e\",\"type\":\"ColumnDataSource\"}},\"id\":\"51988f18-177d-4369-a882-542d4e5f0df9\",\"type\":\"CDSView\"},{\"attributes\":{\"line_alpha\":{\"value\":0.1},\"line_color\":{\"value\":\"#1f77b4\"},\"x0\":{\"field\":\"top\"},\"x1\":{\"field\":\"top_whisker\"},\"y0\":{\"field\":\"cat\"},\"y1\":{\"field\":\"cat\"}},\"id\":\"69043308-dfef-489c-8d4d-8780133b9e56\",\"type\":\"Segment\"},{\"attributes\":{\"data_source\":{\"id\":\"917e5499-d5b2-48e5-961d-21be1621610e\",\"type\":\"ColumnDataSource\"},\"glyph\":{\"id\":\"70be1359-bcb9-4f9f-bf18-3caa496f65e0\",\"type\":\"HBar\"},\"hover_glyph\":null,\"muted_glyph\":null,\"nonselection_glyph\":{\"id\":\"ba7d27ee-e535-4abc-b90b-43c0aae0909d\",\"type\":\"HBar\"},\"selection_glyph\":null,\"view\":{\"id\":\"77b73b91-e8fa-41f9-ba03-ef69d1fe1426\",\"type\":\"CDSView\"}},\"id\":\"a9a894bc-3bd7-4a83-9daf-976d3f4ac060\",\"type\":\"GlyphRenderer\"},{\"attributes\":{\"ticker\":null},\"id\":\"674d26be-cfa3-4c32-b8fe-b37a7c4d443f\",\"type\":\"LogTickFormatter\"},{\"attributes\":{\"fill_color\":{\"field\":\"cat\",\"transform\":{\"id\":\"dd064ab2-e8fa-4f16-b6d9-161aad570770\",\"type\":\"CategoricalColorMapper\"}},\"height\":{\"value\":0.4},\"left\":{\"field\":\"bottom\"},\"right\":{\"field\":\"top\"},\"y\":{\"field\":\"cat\"}},\"id\":\"8a83a387-c522-4abd-bce0-0c384c9da5ec\",\"type\":\"HBar\"},{\"attributes\":{},\"id\":\"dca9061c-c4da-4635-a203-6bb56619f179\",\"type\":\"CategoricalScale\"},{\"attributes\":{\"fill_color\":{\"value\":\"#1f77b4\"},\"height\":{\"value\":0.1},\"left\":{\"field\":\"bottom_whisker\"},\"right\":{\"field\":\"bottom_whisker\"},\"y\":{\"field\":\"cat\"}},\"id\":\"70be1359-bcb9-4f9f-bf18-3caa496f65e0\",\"type\":\"HBar\"},{\"attributes\":{},\"id\":\"6a4fef1a-51d1-4140-9d75-c4a00a892157\",\"type\":\"Selection\"},{\"attributes\":{},\"id\":\"834bf7c1-c793-45d0-823b-a1166ea99c4c\",\"type\":\"UnionRenderers\"},{\"attributes\":{},\"id\":\"b53c243c-155f-4c32-a38b-4e492daa4482\",\"type\":\"CategoricalTickFormatter\"},{\"attributes\":{\"fill_alpha\":{\"value\":0.1},\"fill_color\":{\"value\":\"#1f77b4\"},\"height\":{\"value\":0.4},\"left\":{\"field\":\"bottom\"},\"line_alpha\":{\"value\":0.1},\"line_color\":{\"value\":\"#1f77b4\"},\"right\":{\"field\":\"top\"},\"y\":{\"field\":\"cat\"}},\"id\":\"dc764259-50f3-494b-a3d1-4210ae8c89d0\",\"type\":\"HBar\"},{\"attributes\":{\"source\":{\"id\":\"917e5499-d5b2-48e5-961d-21be1621610e\",\"type\":\"ColumnDataSource\"}},\"id\":\"085569f3-c070-42cd-bc9d-92d745950cd4\",\"type\":\"CDSView\"},{\"attributes\":{\"callback\":null,\"factors\":[\"IV\",\"III\",\"II\",\"I\"]},\"id\":\"2494ef22-b931-4109-bbe6-1d3afb7748ce\",\"type\":\"FactorRange\"},{\"attributes\":{},\"id\":\"e9962470-a45f-454a-ab69-ec765ad74361\",\"type\":\"UnionRenderers\"},{\"attributes\":{\"factors\":[\"I\",\"II\",\"III\",\"IV\"],\"palette\":[\"#4e79a7\",\"#f28e2b\",\"#e15759\",\"#76b7b2\",\"#59a14f\",\"#edc948\",\"#b07aa1\",\"#ff9da7\",\"#9c755f\",\"#bab0ac\"]},\"id\":\"dd064ab2-e8fa-4f16-b6d9-161aad570770\",\"type\":\"CategoricalColorMapper\"}],\"root_ids\":[\"bee217a4-fc8c-4ecf-b50c-743877400d89\"]},\"title\":\"Bokeh Application\",\"version\":\"0.13.0\"}};\n",
       "  var render_items = [{\"docid\":\"8b834904-4b50-4af0-8dd6-afde1aa8bb47\",\"roots\":{\"bee217a4-fc8c-4ecf-b50c-743877400d89\":\"680e7cad-7ac1-488c-90eb-b9ef9cb365ef\"}}];\n",
       "  root.Bokeh.embed.embed_items_notebook(docs_json, render_items);\n",
       "\n",
       "  }\n",
       "  if (root.Bokeh !== undefined) {\n",
       "    embed_document(root);\n",
       "  } else {\n",
       "    var attempts = 0;\n",
       "    var timer = setInterval(function(root) {\n",
       "      if (root.Bokeh !== undefined) {\n",
       "        embed_document(root);\n",
       "        clearInterval(timer);\n",
       "      }\n",
       "      attempts++;\n",
       "      if (attempts > 100) {\n",
       "        console.log(\"Bokeh: ERROR: Unable to run BokehJS code because BokehJS library is missing\")\n",
       "        clearInterval(timer);\n",
       "      }\n",
       "    }, 10, root)\n",
       "  }\n",
       "})(window);"
      ],
      "application/vnd.bokehjs_exec.v0+json": ""
     },
     "metadata": {
      "application/vnd.bokehjs_exec.v0+json": {
       "id": "bee217a4-fc8c-4ecf-b50c-743877400d89"
      }
     },
     "output_type": "display_data"
    }
   ],
   "source": [
    "p = bebi103.viz.box(data=df, \n",
    "                    cats='ID', \n",
    "                    val='impact force (mN)', \n",
    "                    p=None, \n",
    "                    horizontal=True, \n",
    "                    y_axis_label='ID', \n",
    "                    x_axis_label='impact force (mN)', \n",
    "                    title=None, \n",
    "                    plot_height=300, \n",
    "                    plot_width=400, \n",
    "                    palette=['#4e79a7', '#f28e2b', '#e15759', '#76b7b2', '#59a14f',\n",
    "                             '#edc948', '#b07aa1', '#ff9da7', '#9c755f', '#bab0ac'],\n",
    "                    width=0.4, \n",
    "                    order=None, \n",
    "                    val_axis_type='log')\n",
    "bokeh.io.show(p) "
   ]
  },
  {
   "cell_type": "code",
   "execution_count": 63,
   "metadata": {},
   "outputs": [
    {
     "data": {
      "text/html": [
       "\n",
       "\n",
       "\n",
       "\n",
       "\n",
       "\n",
       "  <div class=\"bk-root\" id=\"34da97fc-3189-4805-9c21-8855b492a06d\"></div>\n"
      ]
     },
     "metadata": {},
     "output_type": "display_data"
    },
    {
     "data": {
      "application/javascript": [
       "(function(root) {\n",
       "  function embed_document(root) {\n",
       "    \n",
       "  var docs_json = {\"b1a9c025-f1cf-4499-82dc-a855ece5b6f2\":{\"roots\":{\"references\":[{\"attributes\":{\"source\":{\"id\":\"3fd28135-62c7-459e-a0ae-7d715eb81559\",\"type\":\"ColumnDataSource\"}},\"id\":\"ba953ad6-774e-4663-a8d0-f92bed8b43a2\",\"type\":\"CDSView\"},{\"attributes\":{\"below\":[{\"id\":\"bab2ba78-64a3-4d9e-b03d-0be02fa278d1\",\"type\":\"LinearAxis\"}],\"left\":[{\"id\":\"33b821b5-2d25-455b-b287-fc3922ae2097\",\"type\":\"CategoricalAxis\"}],\"plot_height\":300,\"plot_width\":400,\"renderers\":[{\"id\":\"bab2ba78-64a3-4d9e-b03d-0be02fa278d1\",\"type\":\"LinearAxis\"},{\"id\":\"e53cab08-bdbe-43e2-9917-c4940fa8fe74\",\"type\":\"Grid\"},{\"id\":\"33b821b5-2d25-455b-b287-fc3922ae2097\",\"type\":\"CategoricalAxis\"},{\"id\":\"c2e0d1e1-f15a-46b3-8286-36e5ba28cb9c\",\"type\":\"Grid\"},{\"id\":\"fc15465f-b17d-48da-a86a-1fb104ab4aec\",\"type\":\"BoxAnnotation\"},{\"id\":\"18c3a90f-c572-4a8b-87b0-603381171f6a\",\"type\":\"GlyphRenderer\"},{\"id\":\"33c51bb6-b367-4add-9901-234f80df5a0b\",\"type\":\"GlyphRenderer\"},{\"id\":\"41fe49ed-61be-483a-bf0c-0a696b0cf979\",\"type\":\"GlyphRenderer\"},{\"id\":\"c15e9716-a56b-4491-b078-b7eb73afcffa\",\"type\":\"GlyphRenderer\"},{\"id\":\"7b504505-6be1-4fe4-8cb8-cd82df20e060\",\"type\":\"GlyphRenderer\"},{\"id\":\"7fb917b0-7054-47e9-928f-279999f1b598\",\"type\":\"GlyphRenderer\"},{\"id\":\"10b60150-f8e4-413d-ae01-c92273924fb6\",\"type\":\"GlyphRenderer\"}],\"title\":null,\"toolbar\":{\"id\":\"86405050-2a32-4d98-9cbc-e4d056167c39\",\"type\":\"Toolbar\"},\"x_range\":{\"id\":\"f3982179-71e2-481d-b92e-f8b2ec8274fe\",\"type\":\"DataRange1d\"},\"x_scale\":{\"id\":\"217198bc-df7c-4ee6-bfad-f35799b24aef\",\"type\":\"LinearScale\"},\"y_range\":{\"id\":\"c2bd1eb5-1b3f-495b-823a-c71378423976\",\"type\":\"FactorRange\"},\"y_scale\":{\"id\":\"b49ccd86-baaf-4b25-a821-0edf46b0cab0\",\"type\":\"CategoricalScale\"}},\"id\":\"b8d3b582-8026-4423-9442-d268c28f652f\",\"subtype\":\"Figure\",\"type\":\"Plot\"},{\"attributes\":{\"factors\":[[\"adult\",\"I\"],[\"adult\",\"II\"],[\"juvenile\",\"III\"],[\"juvenile\",\"IV\"]],\"palette\":[\"#4e79a7\",\"#f28e2b\",\"#e15759\",\"#76b7b2\",\"#59a14f\",\"#edc948\",\"#b07aa1\",\"#ff9da7\",\"#9c755f\",\"#bab0ac\"]},\"id\":\"d631a404-df0b-4e7b-8b61-61f65985b74d\",\"type\":\"CategoricalColorMapper\"},{\"attributes\":{\"data_source\":{\"id\":\"3fd28135-62c7-459e-a0ae-7d715eb81559\",\"type\":\"ColumnDataSource\"},\"glyph\":{\"id\":\"b4243ac5-e106-433f-b058-a7098560d4d4\",\"type\":\"Segment\"},\"hover_glyph\":null,\"muted_glyph\":null,\"nonselection_glyph\":{\"id\":\"098bd513-31f8-4c66-bc19-c74d43f44a48\",\"type\":\"Segment\"},\"selection_glyph\":null,\"view\":{\"id\":\"25b0070a-a355-4504-b700-da29d33b0eba\",\"type\":\"CDSView\"}},\"id\":\"18c3a90f-c572-4a8b-87b0-603381171f6a\",\"type\":\"GlyphRenderer\"},{\"attributes\":{},\"id\":\"01a49874-1b44-4f8a-b2bd-03faaea02618\",\"type\":\"BasicTickFormatter\"},{\"attributes\":{\"source\":{\"id\":\"3fd28135-62c7-459e-a0ae-7d715eb81559\",\"type\":\"ColumnDataSource\"}},\"id\":\"901f6a11-3ee9-4936-95ca-d51b8e58969a\",\"type\":\"CDSView\"},{\"attributes\":{\"line_alpha\":{\"value\":0.1},\"line_color\":{\"value\":\"#1f77b4\"},\"x0\":{\"field\":\"top\"},\"x1\":{\"field\":\"top_whisker\"},\"y0\":{\"field\":\"cat\"},\"y1\":{\"field\":\"cat\"}},\"id\":\"098bd513-31f8-4c66-bc19-c74d43f44a48\",\"type\":\"Segment\"},{\"attributes\":{\"data_source\":{\"id\":\"3fd28135-62c7-459e-a0ae-7d715eb81559\",\"type\":\"ColumnDataSource\"},\"glyph\":{\"id\":\"cfce3445-1168-4d5b-abc5-b278b9f2c2a2\",\"type\":\"HBar\"},\"hover_glyph\":null,\"muted_glyph\":null,\"nonselection_glyph\":{\"id\":\"9ad22129-1137-440c-bfec-d803baa29232\",\"type\":\"HBar\"},\"selection_glyph\":null,\"view\":{\"id\":\"901f6a11-3ee9-4936-95ca-d51b8e58969a\",\"type\":\"CDSView\"}},\"id\":\"c15e9716-a56b-4491-b078-b7eb73afcffa\",\"type\":\"GlyphRenderer\"},{\"attributes\":{},\"id\":\"a02ae5f2-ec29-4997-9570-137fc8721dfa\",\"type\":\"Selection\"},{\"attributes\":{\"axis_label\":\"impact force (mN)\",\"formatter\":{\"id\":\"01a49874-1b44-4f8a-b2bd-03faaea02618\",\"type\":\"BasicTickFormatter\"},\"plot\":{\"id\":\"b8d3b582-8026-4423-9442-d268c28f652f\",\"subtype\":\"Figure\",\"type\":\"Plot\"},\"ticker\":{\"id\":\"9a4b6fb6-1dd8-4ae7-be3e-4df4ce89fc11\",\"type\":\"BasicTicker\"}},\"id\":\"bab2ba78-64a3-4d9e-b03d-0be02fa278d1\",\"type\":\"LinearAxis\"},{\"attributes\":{\"plot\":{\"id\":\"b8d3b582-8026-4423-9442-d268c28f652f\",\"subtype\":\"Figure\",\"type\":\"Plot\"},\"ticker\":{\"id\":\"9a4b6fb6-1dd8-4ae7-be3e-4df4ce89fc11\",\"type\":\"BasicTicker\"}},\"id\":\"e53cab08-bdbe-43e2-9917-c4940fa8fe74\",\"type\":\"Grid\"},{\"attributes\":{\"fill_color\":{\"field\":\"cat\",\"transform\":{\"id\":\"c0d0341e-9f7a-48c5-8919-7a303f009241\",\"type\":\"CategoricalColorMapper\"}},\"height\":{\"value\":0.4},\"left\":{\"field\":\"middle\"},\"right\":{\"field\":\"middle\"},\"y\":{\"field\":\"cat\"}},\"id\":\"d0a7e36d-da29-4a4d-897b-74320dfa80c9\",\"type\":\"HBar\"},{\"attributes\":{\"line_alpha\":{\"value\":0.1},\"line_color\":{\"value\":\"#1f77b4\"},\"x0\":{\"field\":\"bottom\"},\"x1\":{\"field\":\"bottom_whisker\"},\"y0\":{\"field\":\"cat\"},\"y1\":{\"field\":\"cat\"}},\"id\":\"d1a01c86-a288-4a46-86dd-63602a37bd83\",\"type\":\"Segment\"},{\"attributes\":{},\"id\":\"03cab303-4965-4fc2-ac71-e67dff7b073e\",\"type\":\"UnionRenderers\"},{\"attributes\":{\"callback\":null,\"data\":{\"__label\":[\"adult, I\",\"adult, II\",\"juvenile, III\",\"juvenile, IV\"],\"bottom\":[1231.25,422.0,458.75,198.0],\"bottom_whisker\":[473.0,245.0,324.0,22.0],\"cat\":[[\"adult\",\"I\"],[\"adult\",\"II\"],[\"juvenile\",\"III\"],[\"juvenile\",\"IV\"]],\"middle\":[1550.5,573.0,544.0,460.5],\"top\":[1904.75,799.75,615.75,599.0],\"top_whisker\":[2641.0,1366.375,806.0,815.0]},\"selected\":{\"id\":\"a02ae5f2-ec29-4997-9570-137fc8721dfa\",\"type\":\"Selection\"},\"selection_policy\":{\"id\":\"264a74c2-95b1-4107-9ca0-da91f41260e2\",\"type\":\"UnionRenderers\"}},\"id\":\"3fd28135-62c7-459e-a0ae-7d715eb81559\",\"type\":\"ColumnDataSource\"},{\"attributes\":{\"fill_alpha\":{\"value\":0.1},\"fill_color\":{\"value\":\"#1f77b4\"},\"height\":{\"value\":0.4},\"left\":{\"field\":\"middle\"},\"line_alpha\":{\"value\":0.1},\"line_color\":{\"value\":\"#1f77b4\"},\"right\":{\"field\":\"middle\"},\"y\":{\"field\":\"cat\"}},\"id\":\"cc349772-52a3-4fee-832a-c70b4d51c52f\",\"type\":\"HBar\"},{\"attributes\":{\"active_drag\":\"auto\",\"active_inspect\":\"auto\",\"active_multi\":null,\"active_scroll\":\"auto\",\"active_tap\":\"auto\",\"tools\":[{\"id\":\"334c44bd-bcd4-4f5f-b98c-c015d63f7859\",\"type\":\"PanTool\"},{\"id\":\"c1ad67dd-1fdf-4f14-a3d0-48747d61ab77\",\"type\":\"WheelZoomTool\"},{\"id\":\"431fc731-05c2-45f3-a388-375e9e5cc465\",\"type\":\"BoxZoomTool\"},{\"id\":\"8f16a339-9d28-4236-80ed-fc9a9b8eb237\",\"type\":\"SaveTool\"},{\"id\":\"a8c42b02-640d-4d9f-be2e-adc05eca4f21\",\"type\":\"ResetTool\"},{\"id\":\"1c05093e-8a9d-49e9-8b93-7629fc79de8c\",\"type\":\"HelpTool\"}]},\"id\":\"86405050-2a32-4d98-9cbc-e4d056167c39\",\"type\":\"Toolbar\"},{\"attributes\":{\"data_source\":{\"id\":\"3fd28135-62c7-459e-a0ae-7d715eb81559\",\"type\":\"ColumnDataSource\"},\"glyph\":{\"id\":\"d0a7e36d-da29-4a4d-897b-74320dfa80c9\",\"type\":\"HBar\"},\"hover_glyph\":null,\"muted_glyph\":null,\"nonselection_glyph\":{\"id\":\"cc349772-52a3-4fee-832a-c70b4d51c52f\",\"type\":\"HBar\"},\"selection_glyph\":null,\"view\":{\"id\":\"7bea84b3-25f4-4148-a1de-464a26c037ed\",\"type\":\"CDSView\"}},\"id\":\"7fb917b0-7054-47e9-928f-279999f1b598\",\"type\":\"GlyphRenderer\"},{\"attributes\":{\"fill_color\":{\"value\":\"#1f77b4\"},\"height\":{\"value\":0.1},\"left\":{\"field\":\"bottom_whisker\"},\"right\":{\"field\":\"bottom_whisker\"},\"y\":{\"field\":\"cat\"}},\"id\":\"cfce3445-1168-4d5b-abc5-b278b9f2c2a2\",\"type\":\"HBar\"},{\"attributes\":{\"callback\":null},\"id\":\"f3982179-71e2-481d-b92e-f8b2ec8274fe\",\"type\":\"DataRange1d\"},{\"attributes\":{},\"id\":\"4f3593b7-aada-45a4-afef-219f6d968fcc\",\"type\":\"CategoricalTickFormatter\"},{\"attributes\":{\"source\":{\"id\":\"3fd28135-62c7-459e-a0ae-7d715eb81559\",\"type\":\"ColumnDataSource\"}},\"id\":\"a12b38c2-e5eb-43eb-85c6-f97e806a0027\",\"type\":\"CDSView\"},{\"attributes\":{\"source\":{\"id\":\"3fd28135-62c7-459e-a0ae-7d715eb81559\",\"type\":\"ColumnDataSource\"}},\"id\":\"7bea84b3-25f4-4148-a1de-464a26c037ed\",\"type\":\"CDSView\"},{\"attributes\":{},\"id\":\"b49ccd86-baaf-4b25-a821-0edf46b0cab0\",\"type\":\"CategoricalScale\"},{\"attributes\":{\"callback\":null,\"factors\":[[\"juvenile\",\"IV\"],[\"juvenile\",\"III\"],[\"adult\",\"II\"],[\"adult\",\"I\"]]},\"id\":\"c2bd1eb5-1b3f-495b-823a-c71378423976\",\"type\":\"FactorRange\"},{\"attributes\":{\"fill_color\":{\"field\":\"cat\",\"transform\":{\"id\":\"5f018774-5315-4b9a-ad5d-d34106ae9e25\",\"type\":\"CategoricalColorMapper\"}},\"line_color\":{\"field\":\"cat\",\"transform\":{\"id\":\"d631a404-df0b-4e7b-8b61-61f65985b74d\",\"type\":\"CategoricalColorMapper\"}},\"x\":{\"field\":\"impact force (mN)\"},\"y\":{\"field\":\"cat\"}},\"id\":\"50a94c36-3022-4ffd-9bf2-03eeeced1fdc\",\"type\":\"Circle\"},{\"attributes\":{},\"id\":\"217198bc-df7c-4ee6-bfad-f35799b24aef\",\"type\":\"LinearScale\"},{\"attributes\":{\"fill_alpha\":{\"value\":0.1},\"fill_color\":{\"value\":\"#1f77b4\"},\"line_alpha\":{\"value\":0.1},\"line_color\":{\"value\":\"#1f77b4\"},\"x\":{\"field\":\"impact force (mN)\"},\"y\":{\"field\":\"cat\"}},\"id\":\"c10d6a70-5a08-4f06-9ce1-7c0b2e06e6de\",\"type\":\"Circle\"},{\"attributes\":{\"axis_label\":\"ID\",\"formatter\":{\"id\":\"4f3593b7-aada-45a4-afef-219f6d968fcc\",\"type\":\"CategoricalTickFormatter\"},\"plot\":{\"id\":\"b8d3b582-8026-4423-9442-d268c28f652f\",\"subtype\":\"Figure\",\"type\":\"Plot\"},\"ticker\":{\"id\":\"086e4602-7cbf-4551-b3fb-119825f661d9\",\"type\":\"CategoricalTicker\"}},\"id\":\"33b821b5-2d25-455b-b287-fc3922ae2097\",\"type\":\"CategoricalAxis\"},{\"attributes\":{\"data_source\":{\"id\":\"cc4b22fc-f1fc-4176-ba9c-bbd86c117d71\",\"type\":\"ColumnDataSource\"},\"glyph\":{\"id\":\"50a94c36-3022-4ffd-9bf2-03eeeced1fdc\",\"type\":\"Circle\"},\"hover_glyph\":null,\"muted_glyph\":null,\"nonselection_glyph\":{\"id\":\"c10d6a70-5a08-4f06-9ce1-7c0b2e06e6de\",\"type\":\"Circle\"},\"selection_glyph\":null,\"view\":{\"id\":\"664253e5-6c93-44f0-9818-19598714a570\",\"type\":\"CDSView\"}},\"id\":\"10b60150-f8e4-413d-ae01-c92273924fb6\",\"type\":\"GlyphRenderer\"},{\"attributes\":{},\"id\":\"264a74c2-95b1-4107-9ca0-da91f41260e2\",\"type\":\"UnionRenderers\"},{\"attributes\":{},\"id\":\"9a4b6fb6-1dd8-4ae7-be3e-4df4ce89fc11\",\"type\":\"BasicTicker\"},{\"attributes\":{\"source\":{\"id\":\"cc4b22fc-f1fc-4176-ba9c-bbd86c117d71\",\"type\":\"ColumnDataSource\"}},\"id\":\"664253e5-6c93-44f0-9818-19598714a570\",\"type\":\"CDSView\"},{\"attributes\":{},\"id\":\"6db48917-4b63-4152-846e-5d7c84b035f2\",\"type\":\"Selection\"},{\"attributes\":{},\"id\":\"086e4602-7cbf-4551-b3fb-119825f661d9\",\"type\":\"CategoricalTicker\"},{\"attributes\":{\"dimension\":1,\"grid_line_color\":{\"value\":null},\"plot\":{\"id\":\"b8d3b582-8026-4423-9442-d268c28f652f\",\"subtype\":\"Figure\",\"type\":\"Plot\"},\"ticker\":{\"id\":\"086e4602-7cbf-4551-b3fb-119825f661d9\",\"type\":\"CategoricalTicker\"}},\"id\":\"c2e0d1e1-f15a-46b3-8286-36e5ba28cb9c\",\"type\":\"Grid\"},{\"attributes\":{\"x0\":{\"field\":\"bottom\"},\"x1\":{\"field\":\"bottom_whisker\"},\"y0\":{\"field\":\"cat\"},\"y1\":{\"field\":\"cat\"}},\"id\":\"8d909de8-c6db-4f01-8863-0f20c92c3c11\",\"type\":\"Segment\"},{\"attributes\":{\"fill_color\":{\"field\":\"cat\",\"transform\":{\"id\":\"c0d0341e-9f7a-48c5-8919-7a303f009241\",\"type\":\"CategoricalColorMapper\"}},\"height\":{\"value\":0.4},\"left\":{\"field\":\"bottom\"},\"right\":{\"field\":\"top\"},\"y\":{\"field\":\"cat\"}},\"id\":\"645ffca3-e5e8-4e7d-b695-7c2e48f33c5b\",\"type\":\"HBar\"},{\"attributes\":{\"source\":{\"id\":\"3fd28135-62c7-459e-a0ae-7d715eb81559\",\"type\":\"ColumnDataSource\"}},\"id\":\"25337d67-b575-4861-832a-1ed25df18766\",\"type\":\"CDSView\"},{\"attributes\":{},\"id\":\"c1ad67dd-1fdf-4f14-a3d0-48747d61ab77\",\"type\":\"WheelZoomTool\"},{\"attributes\":{\"fill_alpha\":{\"value\":0.1},\"fill_color\":{\"value\":\"#1f77b4\"},\"height\":{\"value\":0.1},\"left\":{\"field\":\"top_whisker\"},\"line_alpha\":{\"value\":0.1},\"line_color\":{\"value\":\"#1f77b4\"},\"right\":{\"field\":\"top_whisker\"},\"y\":{\"field\":\"cat\"}},\"id\":\"b1fe4505-06be-4039-9ed8-46556943da68\",\"type\":\"HBar\"},{\"attributes\":{\"factors\":[[\"adult\",\"I\"],[\"adult\",\"II\"],[\"juvenile\",\"III\"],[\"juvenile\",\"IV\"]],\"palette\":[\"#4e79a7\",\"#f28e2b\",\"#e15759\",\"#76b7b2\",\"#59a14f\",\"#edc948\",\"#b07aa1\",\"#ff9da7\",\"#9c755f\",\"#bab0ac\"]},\"id\":\"c0d0341e-9f7a-48c5-8919-7a303f009241\",\"type\":\"CategoricalColorMapper\"},{\"attributes\":{},\"id\":\"334c44bd-bcd4-4f5f-b98c-c015d63f7859\",\"type\":\"PanTool\"},{\"attributes\":{\"overlay\":{\"id\":\"fc15465f-b17d-48da-a86a-1fb104ab4aec\",\"type\":\"BoxAnnotation\"}},\"id\":\"431fc731-05c2-45f3-a388-375e9e5cc465\",\"type\":\"BoxZoomTool\"},{\"attributes\":{},\"id\":\"8f16a339-9d28-4236-80ed-fc9a9b8eb237\",\"type\":\"SaveTool\"},{\"attributes\":{},\"id\":\"a8c42b02-640d-4d9f-be2e-adc05eca4f21\",\"type\":\"ResetTool\"},{\"attributes\":{},\"id\":\"1c05093e-8a9d-49e9-8b93-7629fc79de8c\",\"type\":\"HelpTool\"},{\"attributes\":{\"factors\":[[\"adult\",\"I\"],[\"adult\",\"II\"],[\"juvenile\",\"III\"],[\"juvenile\",\"IV\"]],\"palette\":[\"#4e79a7\",\"#f28e2b\",\"#e15759\",\"#76b7b2\",\"#59a14f\",\"#edc948\",\"#b07aa1\",\"#ff9da7\",\"#9c755f\",\"#bab0ac\"]},\"id\":\"5f018774-5315-4b9a-ad5d-d34106ae9e25\",\"type\":\"CategoricalColorMapper\"},{\"attributes\":{\"bottom_units\":\"screen\",\"fill_alpha\":{\"value\":0.5},\"fill_color\":{\"value\":\"lightgrey\"},\"left_units\":\"screen\",\"level\":\"overlay\",\"line_alpha\":{\"value\":1.0},\"line_color\":{\"value\":\"black\"},\"line_dash\":[4,4],\"line_width\":{\"value\":2},\"plot\":null,\"render_mode\":\"css\",\"right_units\":\"screen\",\"top_units\":\"screen\"},\"id\":\"fc15465f-b17d-48da-a86a-1fb104ab4aec\",\"type\":\"BoxAnnotation\"},{\"attributes\":{\"fill_alpha\":{\"value\":0.1},\"fill_color\":{\"value\":\"#1f77b4\"},\"height\":{\"value\":0.1},\"left\":{\"field\":\"bottom_whisker\"},\"line_alpha\":{\"value\":0.1},\"line_color\":{\"value\":\"#1f77b4\"},\"right\":{\"field\":\"bottom_whisker\"},\"y\":{\"field\":\"cat\"}},\"id\":\"9ad22129-1137-440c-bfec-d803baa29232\",\"type\":\"HBar\"},{\"attributes\":{\"data_source\":{\"id\":\"3fd28135-62c7-459e-a0ae-7d715eb81559\",\"type\":\"ColumnDataSource\"},\"glyph\":{\"id\":\"b103e445-15d2-4668-8006-841173e4e881\",\"type\":\"HBar\"},\"hover_glyph\":null,\"muted_glyph\":null,\"nonselection_glyph\":{\"id\":\"b1fe4505-06be-4039-9ed8-46556943da68\",\"type\":\"HBar\"},\"selection_glyph\":null,\"view\":{\"id\":\"a12b38c2-e5eb-43eb-85c6-f97e806a0027\",\"type\":\"CDSView\"}},\"id\":\"41fe49ed-61be-483a-bf0c-0a696b0cf979\",\"type\":\"GlyphRenderer\"},{\"attributes\":{\"data_source\":{\"id\":\"3fd28135-62c7-459e-a0ae-7d715eb81559\",\"type\":\"ColumnDataSource\"},\"glyph\":{\"id\":\"8d909de8-c6db-4f01-8863-0f20c92c3c11\",\"type\":\"Segment\"},\"hover_glyph\":null,\"muted_glyph\":null,\"nonselection_glyph\":{\"id\":\"d1a01c86-a288-4a46-86dd-63602a37bd83\",\"type\":\"Segment\"},\"selection_glyph\":null,\"view\":{\"id\":\"25337d67-b575-4861-832a-1ed25df18766\",\"type\":\"CDSView\"}},\"id\":\"33c51bb6-b367-4add-9901-234f80df5a0b\",\"type\":\"GlyphRenderer\"},{\"attributes\":{\"fill_color\":{\"value\":\"#1f77b4\"},\"height\":{\"value\":0.1},\"left\":{\"field\":\"top_whisker\"},\"right\":{\"field\":\"top_whisker\"},\"y\":{\"field\":\"cat\"}},\"id\":\"b103e445-15d2-4668-8006-841173e4e881\",\"type\":\"HBar\"},{\"attributes\":{\"source\":{\"id\":\"3fd28135-62c7-459e-a0ae-7d715eb81559\",\"type\":\"ColumnDataSource\"}},\"id\":\"25b0070a-a355-4504-b700-da29d33b0eba\",\"type\":\"CDSView\"},{\"attributes\":{\"callback\":null,\"data\":{\"ID\":[\"II\",\"II\",\"II\"],\"__label\":[\"adult, II\",\"adult, II\",\"adult, II\"],\"age\":[\"adult\",\"adult\",\"adult\"],\"cat\":[[\"adult\",\"II\"],[\"adult\",\"II\"],[\"adult\",\"II\"]],\"impact force (mN)\":[1612,1539,1453]},\"selected\":{\"id\":\"6db48917-4b63-4152-846e-5d7c84b035f2\",\"type\":\"Selection\"},\"selection_policy\":{\"id\":\"03cab303-4965-4fc2-ac71-e67dff7b073e\",\"type\":\"UnionRenderers\"}},\"id\":\"cc4b22fc-f1fc-4176-ba9c-bbd86c117d71\",\"type\":\"ColumnDataSource\"},{\"attributes\":{\"x0\":{\"field\":\"top\"},\"x1\":{\"field\":\"top_whisker\"},\"y0\":{\"field\":\"cat\"},\"y1\":{\"field\":\"cat\"}},\"id\":\"b4243ac5-e106-433f-b058-a7098560d4d4\",\"type\":\"Segment\"},{\"attributes\":{\"data_source\":{\"id\":\"3fd28135-62c7-459e-a0ae-7d715eb81559\",\"type\":\"ColumnDataSource\"},\"glyph\":{\"id\":\"645ffca3-e5e8-4e7d-b695-7c2e48f33c5b\",\"type\":\"HBar\"},\"hover_glyph\":null,\"muted_glyph\":null,\"nonselection_glyph\":{\"id\":\"9023a81a-26f5-414d-927e-3b2676c6c9ec\",\"type\":\"HBar\"},\"selection_glyph\":null,\"view\":{\"id\":\"ba953ad6-774e-4663-a8d0-f92bed8b43a2\",\"type\":\"CDSView\"}},\"id\":\"7b504505-6be1-4fe4-8cb8-cd82df20e060\",\"type\":\"GlyphRenderer\"},{\"attributes\":{\"fill_alpha\":{\"value\":0.1},\"fill_color\":{\"value\":\"#1f77b4\"},\"height\":{\"value\":0.4},\"left\":{\"field\":\"bottom\"},\"line_alpha\":{\"value\":0.1},\"line_color\":{\"value\":\"#1f77b4\"},\"right\":{\"field\":\"top\"},\"y\":{\"field\":\"cat\"}},\"id\":\"9023a81a-26f5-414d-927e-3b2676c6c9ec\",\"type\":\"HBar\"}],\"root_ids\":[\"b8d3b582-8026-4423-9442-d268c28f652f\"]},\"title\":\"Bokeh Application\",\"version\":\"0.13.0\"}};\n",
       "  var render_items = [{\"docid\":\"b1a9c025-f1cf-4499-82dc-a855ece5b6f2\",\"roots\":{\"b8d3b582-8026-4423-9442-d268c28f652f\":\"34da97fc-3189-4805-9c21-8855b492a06d\"}}];\n",
       "  root.Bokeh.embed.embed_items_notebook(docs_json, render_items);\n",
       "\n",
       "  }\n",
       "  if (root.Bokeh !== undefined) {\n",
       "    embed_document(root);\n",
       "  } else {\n",
       "    var attempts = 0;\n",
       "    var timer = setInterval(function(root) {\n",
       "      if (root.Bokeh !== undefined) {\n",
       "        embed_document(root);\n",
       "        clearInterval(timer);\n",
       "      }\n",
       "      attempts++;\n",
       "      if (attempts > 100) {\n",
       "        console.log(\"Bokeh: ERROR: Unable to run BokehJS code because BokehJS library is missing\")\n",
       "        clearInterval(timer);\n",
       "      }\n",
       "    }, 10, root)\n",
       "  }\n",
       "})(window);"
      ],
      "application/vnd.bokehjs_exec.v0+json": ""
     },
     "metadata": {
      "application/vnd.bokehjs_exec.v0+json": {
       "id": "b8d3b582-8026-4423-9442-d268c28f652f"
      }
     },
     "output_type": "display_data"
    }
   ],
   "source": [
    "p = bebi103.viz.box(data=df, \n",
    "                    cats=['age', 'ID'], \n",
    "                    val='impact force (mN)', \n",
    "                    p=None, \n",
    "                    horizontal=True, \n",
    "                    y_axis_label='ID', \n",
    "                    x_axis_label='impact force (mN)', \n",
    "                    title=None, \n",
    "                    plot_height=300, \n",
    "                    plot_width=400, \n",
    "                    palette=['#4e79a7', '#f28e2b', '#e15759', '#76b7b2', '#59a14f',\n",
    "                             '#edc948', '#b07aa1', '#ff9da7', '#9c755f', '#bab0ac'],\n",
    "                    width=0.4, \n",
    "                    order=None, \n",
    "                    val_axis_type='linear')\n",
    "bokeh.io.show(p) "
   ]
  },
  {
   "cell_type": "code",
   "execution_count": 64,
   "metadata": {},
   "outputs": [
    {
     "data": {
      "text/html": [
       "\n",
       "\n",
       "\n",
       "\n",
       "\n",
       "\n",
       "  <div class=\"bk-root\" id=\"6753ee35-dea2-4298-aa2c-b2b900946f05\"></div>\n"
      ]
     },
     "metadata": {},
     "output_type": "display_data"
    },
    {
     "data": {
      "application/javascript": [
       "(function(root) {\n",
       "  function embed_document(root) {\n",
       "    \n",
       "  var docs_json = {\"e2e85164-f60a-4ad2-b5ff-888951ab849f\":{\"roots\":{\"references\":[{\"attributes\":{\"data_source\":{\"id\":\"1ad6220d-1ad5-4c0d-a6b8-b3fea3c5c780\",\"type\":\"ColumnDataSource\"},\"glyph\":{\"id\":\"bdbf5587-d779-465d-806b-3bd971e4adb2\",\"type\":\"HBar\"},\"hover_glyph\":null,\"muted_glyph\":null,\"nonselection_glyph\":{\"id\":\"0a3a509e-1b29-4c29-a0b1-477ca5a33b20\",\"type\":\"HBar\"},\"selection_glyph\":null,\"view\":{\"id\":\"1f99520f-1e63-4767-ac7e-cc0d98baf0e2\",\"type\":\"CDSView\"}},\"id\":\"30bc5620-01e1-4a83-86e3-f9db3aba2e11\",\"type\":\"GlyphRenderer\"},{\"attributes\":{\"active_drag\":\"auto\",\"active_inspect\":\"auto\",\"active_multi\":null,\"active_scroll\":\"auto\",\"active_tap\":\"auto\",\"tools\":[{\"id\":\"1b2ca00b-49ca-40d4-afa0-866d8e8bb846\",\"type\":\"PanTool\"},{\"id\":\"68956a51-be9e-49f1-988c-d90dbae32c4a\",\"type\":\"WheelZoomTool\"},{\"id\":\"21e9b381-8bdb-4535-9348-90feed76d5bf\",\"type\":\"BoxZoomTool\"},{\"id\":\"61b3147b-818d-465a-84c8-c882cd1886a8\",\"type\":\"SaveTool\"},{\"id\":\"66ab8a9b-8d18-4082-8854-6e2b40710f94\",\"type\":\"ResetTool\"},{\"id\":\"c915ebd3-befc-4ead-9d53-14a726d6e0ef\",\"type\":\"HelpTool\"}]},\"id\":\"4462ef12-9f6d-46af-9296-826454e93674\",\"type\":\"Toolbar\"},{\"attributes\":{\"x0\":{\"field\":\"top\"},\"x1\":{\"field\":\"top_whisker\"},\"y0\":{\"field\":\"cat\"},\"y1\":{\"field\":\"cat\"}},\"id\":\"4bbf3690-7cbe-41a9-9b83-6a8f77a21f1a\",\"type\":\"Segment\"},{\"attributes\":{},\"id\":\"ebddcccc-797e-4cca-b4d5-ff4061659a55\",\"type\":\"Selection\"},{\"attributes\":{\"callback\":null},\"id\":\"46333660-65e8-44ba-8abb-b64e7f11e0b4\",\"type\":\"DataRange1d\"},{\"attributes\":{\"fill_color\":{\"field\":\"cat\",\"transform\":{\"id\":\"6740e5d8-e485-43ed-b7ec-81e96c4cf573\",\"type\":\"CategoricalColorMapper\"}},\"height\":{\"value\":0.4},\"left\":{\"field\":\"bottom\"},\"right\":{\"field\":\"top\"},\"y\":{\"field\":\"cat\"}},\"id\":\"7f7038c8-5024-47b3-b998-77518a24d612\",\"type\":\"HBar\"},{\"attributes\":{\"source\":{\"id\":\"1ad6220d-1ad5-4c0d-a6b8-b3fea3c5c780\",\"type\":\"ColumnDataSource\"}},\"id\":\"1f99520f-1e63-4767-ac7e-cc0d98baf0e2\",\"type\":\"CDSView\"},{\"attributes\":{\"x0\":{\"field\":\"bottom\"},\"x1\":{\"field\":\"bottom_whisker\"},\"y0\":{\"field\":\"cat\"},\"y1\":{\"field\":\"cat\"}},\"id\":\"86246eea-65f1-4a02-a267-a57892ca0406\",\"type\":\"Segment\"},{\"attributes\":{\"source\":{\"id\":\"1ad6220d-1ad5-4c0d-a6b8-b3fea3c5c780\",\"type\":\"ColumnDataSource\"}},\"id\":\"a9b754e5-9553-4b85-bba7-092dadda3d46\",\"type\":\"CDSView\"},{\"attributes\":{\"fill_alpha\":{\"value\":0.1},\"fill_color\":{\"value\":\"#1f77b4\"},\"height\":{\"value\":0.4},\"left\":{\"field\":\"bottom\"},\"line_alpha\":{\"value\":0.1},\"line_color\":{\"value\":\"#1f77b4\"},\"right\":{\"field\":\"top\"},\"y\":{\"field\":\"cat\"}},\"id\":\"b9e47a99-442a-41bf-9b78-e4db10098049\",\"type\":\"HBar\"},{\"attributes\":{},\"id\":\"64ea9110-d062-48d2-87c2-7c90e16119bf\",\"type\":\"CategoricalScale\"},{\"attributes\":{\"data_source\":{\"id\":\"1ad6220d-1ad5-4c0d-a6b8-b3fea3c5c780\",\"type\":\"ColumnDataSource\"},\"glyph\":{\"id\":\"7f7038c8-5024-47b3-b998-77518a24d612\",\"type\":\"HBar\"},\"hover_glyph\":null,\"muted_glyph\":null,\"nonselection_glyph\":{\"id\":\"b9e47a99-442a-41bf-9b78-e4db10098049\",\"type\":\"HBar\"},\"selection_glyph\":null,\"view\":{\"id\":\"05f4e89c-38ef-42a4-ae57-3a44dd6b1524\",\"type\":\"CDSView\"}},\"id\":\"b19e5935-7d7d-4029-9c23-34f6cf3cca7a\",\"type\":\"GlyphRenderer\"},{\"attributes\":{\"fill_color\":{\"field\":\"cat\",\"transform\":{\"id\":\"476711d3-b7cb-43e3-9032-6f21782519da\",\"type\":\"CategoricalColorMapper\"}},\"line_color\":{\"field\":\"cat\",\"transform\":{\"id\":\"b489c7e5-8582-4a52-8dd5-19913d4d9b31\",\"type\":\"CategoricalColorMapper\"}},\"x\":{\"field\":\"impact force (mN)\"},\"y\":{\"field\":\"cat\"}},\"id\":\"8947d211-1d20-49b5-888e-62b2a05bd870\",\"type\":\"Circle\"},{\"attributes\":{},\"id\":\"72a55ff6-ad67-4bd0-afe6-5e094c9b7835\",\"type\":\"LinearScale\"},{\"attributes\":{\"fill_alpha\":{\"value\":0.1},\"fill_color\":{\"value\":\"#1f77b4\"},\"height\":{\"value\":0.4},\"left\":{\"field\":\"middle\"},\"line_alpha\":{\"value\":0.1},\"line_color\":{\"value\":\"#1f77b4\"},\"right\":{\"field\":\"middle\"},\"y\":{\"field\":\"cat\"}},\"id\":\"0a3a509e-1b29-4c29-a0b1-477ca5a33b20\",\"type\":\"HBar\"},{\"attributes\":{},\"id\":\"5057185f-d4eb-4cee-a0d2-92b13d725185\",\"type\":\"UnionRenderers\"},{\"attributes\":{\"plot\":{\"id\":\"971b4701-87fe-4d88-8f82-9e8b15467fe7\",\"subtype\":\"Figure\",\"type\":\"Plot\"},\"ticker\":{\"id\":\"6f7603de-03d9-4b64-9ff3-5621d0da2fdb\",\"type\":\"BasicTicker\"}},\"id\":\"d12f84fb-b6ac-4e34-99c8-eb49602630b3\",\"type\":\"Grid\"},{\"attributes\":{\"axis_label\":\"impact force (mN)\",\"formatter\":{\"id\":\"3487dc28-ff13-4a01-bd9d-5533d901a554\",\"type\":\"BasicTickFormatter\"},\"plot\":{\"id\":\"971b4701-87fe-4d88-8f82-9e8b15467fe7\",\"subtype\":\"Figure\",\"type\":\"Plot\"},\"ticker\":{\"id\":\"6f7603de-03d9-4b64-9ff3-5621d0da2fdb\",\"type\":\"BasicTicker\"}},\"id\":\"2f371442-7190-4f5e-b41d-c7fcdec18398\",\"type\":\"LinearAxis\"},{\"attributes\":{\"fill_alpha\":{\"value\":0.1},\"fill_color\":{\"value\":\"#1f77b4\"},\"line_alpha\":{\"value\":0.1},\"line_color\":{\"value\":\"#1f77b4\"},\"x\":{\"field\":\"impact force (mN)\"},\"y\":{\"field\":\"cat\"}},\"id\":\"f54e92df-0121-4b2a-b2d9-9c02934ddd8f\",\"type\":\"Circle\"},{\"attributes\":{},\"id\":\"6f7603de-03d9-4b64-9ff3-5621d0da2fdb\",\"type\":\"BasicTicker\"},{\"attributes\":{\"axis_label\":\"ID\",\"formatter\":{\"id\":\"346041c8-3837-4f5e-bca4-612cec32e395\",\"type\":\"CategoricalTickFormatter\"},\"plot\":{\"id\":\"971b4701-87fe-4d88-8f82-9e8b15467fe7\",\"subtype\":\"Figure\",\"type\":\"Plot\"},\"ticker\":{\"id\":\"527596a0-31df-4af6-8fe8-2b8a55e49904\",\"type\":\"CategoricalTicker\"}},\"id\":\"13934d04-ef87-4b66-bf59-84a6ca40ddbe\",\"type\":\"CategoricalAxis\"},{\"attributes\":{},\"id\":\"527596a0-31df-4af6-8fe8-2b8a55e49904\",\"type\":\"CategoricalTicker\"},{\"attributes\":{\"dimension\":1,\"grid_line_color\":{\"value\":null},\"plot\":{\"id\":\"971b4701-87fe-4d88-8f82-9e8b15467fe7\",\"subtype\":\"Figure\",\"type\":\"Plot\"},\"ticker\":{\"id\":\"527596a0-31df-4af6-8fe8-2b8a55e49904\",\"type\":\"CategoricalTicker\"}},\"id\":\"1161768b-081d-41d9-907c-50b86d2697d4\",\"type\":\"Grid\"},{\"attributes\":{\"fill_color\":{\"field\":\"cat\",\"transform\":{\"id\":\"6740e5d8-e485-43ed-b7ec-81e96c4cf573\",\"type\":\"CategoricalColorMapper\"}},\"height\":{\"value\":0.4},\"left\":{\"field\":\"middle\"},\"right\":{\"field\":\"middle\"},\"y\":{\"field\":\"cat\"}},\"id\":\"bdbf5587-d779-465d-806b-3bd971e4adb2\",\"type\":\"HBar\"},{\"attributes\":{\"source\":{\"id\":\"1ad6220d-1ad5-4c0d-a6b8-b3fea3c5c780\",\"type\":\"ColumnDataSource\"}},\"id\":\"05f4e89c-38ef-42a4-ae57-3a44dd6b1524\",\"type\":\"CDSView\"},{\"attributes\":{\"fill_color\":{\"value\":\"#1f77b4\"},\"height\":{\"value\":0.1},\"left\":{\"field\":\"top_whisker\"},\"right\":{\"field\":\"top_whisker\"},\"y\":{\"field\":\"cat\"}},\"id\":\"72856a79-2e69-421e-9dc0-c1438717ab85\",\"type\":\"HBar\"},{\"attributes\":{},\"id\":\"1b2ca00b-49ca-40d4-afa0-866d8e8bb846\",\"type\":\"PanTool\"},{\"attributes\":{\"source\":{\"id\":\"1ad6220d-1ad5-4c0d-a6b8-b3fea3c5c780\",\"type\":\"ColumnDataSource\"}},\"id\":\"3b2f3afc-a3e5-4939-959b-fcdb6027f574\",\"type\":\"CDSView\"},{\"attributes\":{\"data_source\":{\"id\":\"1ad6220d-1ad5-4c0d-a6b8-b3fea3c5c780\",\"type\":\"ColumnDataSource\"},\"glyph\":{\"id\":\"86246eea-65f1-4a02-a267-a57892ca0406\",\"type\":\"Segment\"},\"hover_glyph\":null,\"muted_glyph\":null,\"nonselection_glyph\":{\"id\":\"7b42fc2e-07ed-44fc-a4fb-ec5437062b3d\",\"type\":\"Segment\"},\"selection_glyph\":null,\"view\":{\"id\":\"30d809bc-3452-4fd8-9e88-d1853b2664fb\",\"type\":\"CDSView\"}},\"id\":\"605c9e69-0685-40ec-ba83-0a622613c8cf\",\"type\":\"GlyphRenderer\"},{\"attributes\":{},\"id\":\"61b3147b-818d-465a-84c8-c882cd1886a8\",\"type\":\"SaveTool\"},{\"attributes\":{\"factors\":[[\"adult\",\"I\",\"63\"],[\"adult\",\"II\",\"70\"],[\"juvenile\",\"III\",\"28\"],[\"juvenile\",\"IV\",\"31\"]],\"palette\":[\"#4e79a7\",\"#f28e2b\",\"#e15759\",\"#76b7b2\",\"#59a14f\",\"#edc948\",\"#b07aa1\",\"#ff9da7\",\"#9c755f\",\"#bab0ac\"]},\"id\":\"476711d3-b7cb-43e3-9032-6f21782519da\",\"type\":\"CategoricalColorMapper\"},{\"attributes\":{},\"id\":\"66ab8a9b-8d18-4082-8854-6e2b40710f94\",\"type\":\"ResetTool\"},{\"attributes\":{},\"id\":\"346041c8-3837-4f5e-bca4-612cec32e395\",\"type\":\"CategoricalTickFormatter\"},{\"attributes\":{\"below\":[{\"id\":\"2f371442-7190-4f5e-b41d-c7fcdec18398\",\"type\":\"LinearAxis\"}],\"left\":[{\"id\":\"13934d04-ef87-4b66-bf59-84a6ca40ddbe\",\"type\":\"CategoricalAxis\"}],\"plot_height\":300,\"plot_width\":400,\"renderers\":[{\"id\":\"2f371442-7190-4f5e-b41d-c7fcdec18398\",\"type\":\"LinearAxis\"},{\"id\":\"d12f84fb-b6ac-4e34-99c8-eb49602630b3\",\"type\":\"Grid\"},{\"id\":\"13934d04-ef87-4b66-bf59-84a6ca40ddbe\",\"type\":\"CategoricalAxis\"},{\"id\":\"1161768b-081d-41d9-907c-50b86d2697d4\",\"type\":\"Grid\"},{\"id\":\"6a03d56e-67a4-4c0e-8bb1-6b1227eee624\",\"type\":\"BoxAnnotation\"},{\"id\":\"d7765555-e24c-4834-981d-1e0efdc5435e\",\"type\":\"GlyphRenderer\"},{\"id\":\"605c9e69-0685-40ec-ba83-0a622613c8cf\",\"type\":\"GlyphRenderer\"},{\"id\":\"ff277d48-c2a8-4755-ad97-ae3acdebe1a6\",\"type\":\"GlyphRenderer\"},{\"id\":\"c7d6bd85-e50b-4970-b91a-c3e677f3077f\",\"type\":\"GlyphRenderer\"},{\"id\":\"b19e5935-7d7d-4029-9c23-34f6cf3cca7a\",\"type\":\"GlyphRenderer\"},{\"id\":\"30bc5620-01e1-4a83-86e3-f9db3aba2e11\",\"type\":\"GlyphRenderer\"},{\"id\":\"dba0fd3a-7105-4e9b-81fe-49f41f16e5c9\",\"type\":\"GlyphRenderer\"}],\"title\":null,\"toolbar\":{\"id\":\"4462ef12-9f6d-46af-9296-826454e93674\",\"type\":\"Toolbar\"},\"x_range\":{\"id\":\"46333660-65e8-44ba-8abb-b64e7f11e0b4\",\"type\":\"DataRange1d\"},\"x_scale\":{\"id\":\"72a55ff6-ad67-4bd0-afe6-5e094c9b7835\",\"type\":\"LinearScale\"},\"y_range\":{\"id\":\"c0b9824a-17fe-4550-b03a-7169f03d4432\",\"type\":\"FactorRange\"},\"y_scale\":{\"id\":\"64ea9110-d062-48d2-87c2-7c90e16119bf\",\"type\":\"CategoricalScale\"}},\"id\":\"971b4701-87fe-4d88-8f82-9e8b15467fe7\",\"subtype\":\"Figure\",\"type\":\"Plot\"},{\"attributes\":{},\"id\":\"c915ebd3-befc-4ead-9d53-14a726d6e0ef\",\"type\":\"HelpTool\"},{\"attributes\":{},\"id\":\"f315ac68-0b8e-4975-a0d8-52fc4a9e812e\",\"type\":\"Selection\"},{\"attributes\":{\"bottom_units\":\"screen\",\"fill_alpha\":{\"value\":0.5},\"fill_color\":{\"value\":\"lightgrey\"},\"left_units\":\"screen\",\"level\":\"overlay\",\"line_alpha\":{\"value\":1.0},\"line_color\":{\"value\":\"black\"},\"line_dash\":[4,4],\"line_width\":{\"value\":2},\"plot\":null,\"render_mode\":\"css\",\"right_units\":\"screen\",\"top_units\":\"screen\"},\"id\":\"6a03d56e-67a4-4c0e-8bb1-6b1227eee624\",\"type\":\"BoxAnnotation\"},{\"attributes\":{\"data_source\":{\"id\":\"57ba3de9-5ea6-4c2c-9722-be712c743eaf\",\"type\":\"ColumnDataSource\"},\"glyph\":{\"id\":\"8947d211-1d20-49b5-888e-62b2a05bd870\",\"type\":\"Circle\"},\"hover_glyph\":null,\"muted_glyph\":null,\"nonselection_glyph\":{\"id\":\"f54e92df-0121-4b2a-b2d9-9c02934ddd8f\",\"type\":\"Circle\"},\"selection_glyph\":null,\"view\":{\"id\":\"2352d278-e8fd-4dea-a935-85d04579c677\",\"type\":\"CDSView\"}},\"id\":\"dba0fd3a-7105-4e9b-81fe-49f41f16e5c9\",\"type\":\"GlyphRenderer\"},{\"attributes\":{\"fill_alpha\":{\"value\":0.1},\"fill_color\":{\"value\":\"#1f77b4\"},\"height\":{\"value\":0.1},\"left\":{\"field\":\"top_whisker\"},\"line_alpha\":{\"value\":0.1},\"line_color\":{\"value\":\"#1f77b4\"},\"right\":{\"field\":\"top_whisker\"},\"y\":{\"field\":\"cat\"}},\"id\":\"c4086f7f-318f-4462-9dfd-066ae804e0c1\",\"type\":\"HBar\"},{\"attributes\":{\"source\":{\"id\":\"57ba3de9-5ea6-4c2c-9722-be712c743eaf\",\"type\":\"ColumnDataSource\"}},\"id\":\"2352d278-e8fd-4dea-a935-85d04579c677\",\"type\":\"CDSView\"},{\"attributes\":{\"line_alpha\":{\"value\":0.1},\"line_color\":{\"value\":\"#1f77b4\"},\"x0\":{\"field\":\"bottom\"},\"x1\":{\"field\":\"bottom_whisker\"},\"y0\":{\"field\":\"cat\"},\"y1\":{\"field\":\"cat\"}},\"id\":\"7b42fc2e-07ed-44fc-a4fb-ec5437062b3d\",\"type\":\"Segment\"},{\"attributes\":{},\"id\":\"3487dc28-ff13-4a01-bd9d-5533d901a554\",\"type\":\"BasicTickFormatter\"},{\"attributes\":{\"source\":{\"id\":\"1ad6220d-1ad5-4c0d-a6b8-b3fea3c5c780\",\"type\":\"ColumnDataSource\"}},\"id\":\"30d809bc-3452-4fd8-9e88-d1853b2664fb\",\"type\":\"CDSView\"},{\"attributes\":{},\"id\":\"68956a51-be9e-49f1-988c-d90dbae32c4a\",\"type\":\"WheelZoomTool\"},{\"attributes\":{\"data_source\":{\"id\":\"1ad6220d-1ad5-4c0d-a6b8-b3fea3c5c780\",\"type\":\"ColumnDataSource\"},\"glyph\":{\"id\":\"72856a79-2e69-421e-9dc0-c1438717ab85\",\"type\":\"HBar\"},\"hover_glyph\":null,\"muted_glyph\":null,\"nonselection_glyph\":{\"id\":\"c4086f7f-318f-4462-9dfd-066ae804e0c1\",\"type\":\"HBar\"},\"selection_glyph\":null,\"view\":{\"id\":\"a9b754e5-9553-4b85-bba7-092dadda3d46\",\"type\":\"CDSView\"}},\"id\":\"ff277d48-c2a8-4755-ad97-ae3acdebe1a6\",\"type\":\"GlyphRenderer\"},{\"attributes\":{\"callback\":null,\"data\":{\"ID\":[\"II\",\"II\",\"II\"],\"SVL (mm)\":[70,70,70],\"__label\":[\"adult, II, 70\",\"adult, II, 70\",\"adult, II, 70\"],\"age\":[\"adult\",\"adult\",\"adult\"],\"cat\":[[\"adult\",\"II\",\"70\"],[\"adult\",\"II\",\"70\"],[\"adult\",\"II\",\"70\"]],\"impact force (mN)\":[1612,1539,1453]},\"selected\":{\"id\":\"ebddcccc-797e-4cca-b4d5-ff4061659a55\",\"type\":\"Selection\"},\"selection_policy\":{\"id\":\"5057185f-d4eb-4cee-a0d2-92b13d725185\",\"type\":\"UnionRenderers\"}},\"id\":\"57ba3de9-5ea6-4c2c-9722-be712c743eaf\",\"type\":\"ColumnDataSource\"},{\"attributes\":{\"overlay\":{\"id\":\"6a03d56e-67a4-4c0e-8bb1-6b1227eee624\",\"type\":\"BoxAnnotation\"}},\"id\":\"21e9b381-8bdb-4535-9348-90feed76d5bf\",\"type\":\"BoxZoomTool\"},{\"attributes\":{\"data_source\":{\"id\":\"1ad6220d-1ad5-4c0d-a6b8-b3fea3c5c780\",\"type\":\"ColumnDataSource\"},\"glyph\":{\"id\":\"4bbf3690-7cbe-41a9-9b83-6a8f77a21f1a\",\"type\":\"Segment\"},\"hover_glyph\":null,\"muted_glyph\":null,\"nonselection_glyph\":{\"id\":\"e4bd8c62-aec9-416a-ae53-802dde80f8de\",\"type\":\"Segment\"},\"selection_glyph\":null,\"view\":{\"id\":\"586ae45e-b4cd-4b80-8afb-39a09283790b\",\"type\":\"CDSView\"}},\"id\":\"d7765555-e24c-4834-981d-1e0efdc5435e\",\"type\":\"GlyphRenderer\"},{\"attributes\":{\"factors\":[[\"adult\",\"I\",\"63\"],[\"adult\",\"II\",\"70\"],[\"juvenile\",\"III\",\"28\"],[\"juvenile\",\"IV\",\"31\"]],\"palette\":[\"#4e79a7\",\"#f28e2b\",\"#e15759\",\"#76b7b2\",\"#59a14f\",\"#edc948\",\"#b07aa1\",\"#ff9da7\",\"#9c755f\",\"#bab0ac\"]},\"id\":\"6740e5d8-e485-43ed-b7ec-81e96c4cf573\",\"type\":\"CategoricalColorMapper\"},{\"attributes\":{},\"id\":\"11843b2f-4b34-4c46-875c-f5c4471eae09\",\"type\":\"UnionRenderers\"},{\"attributes\":{\"factors\":[[\"adult\",\"I\",\"63\"],[\"adult\",\"II\",\"70\"],[\"juvenile\",\"III\",\"28\"],[\"juvenile\",\"IV\",\"31\"]],\"palette\":[\"#4e79a7\",\"#f28e2b\",\"#e15759\",\"#76b7b2\",\"#59a14f\",\"#edc948\",\"#b07aa1\",\"#ff9da7\",\"#9c755f\",\"#bab0ac\"]},\"id\":\"b489c7e5-8582-4a52-8dd5-19913d4d9b31\",\"type\":\"CategoricalColorMapper\"},{\"attributes\":{\"fill_color\":{\"value\":\"#1f77b4\"},\"height\":{\"value\":0.1},\"left\":{\"field\":\"bottom_whisker\"},\"right\":{\"field\":\"bottom_whisker\"},\"y\":{\"field\":\"cat\"}},\"id\":\"658bd20c-3d4d-4529-92a6-ad4888b2ff34\",\"type\":\"HBar\"},{\"attributes\":{\"fill_alpha\":{\"value\":0.1},\"fill_color\":{\"value\":\"#1f77b4\"},\"height\":{\"value\":0.1},\"left\":{\"field\":\"bottom_whisker\"},\"line_alpha\":{\"value\":0.1},\"line_color\":{\"value\":\"#1f77b4\"},\"right\":{\"field\":\"bottom_whisker\"},\"y\":{\"field\":\"cat\"}},\"id\":\"ccc1f4ba-8acd-426f-88d3-82547297175f\",\"type\":\"HBar\"},{\"attributes\":{\"callback\":null,\"data\":{\"__label\":[\"adult, I, 63\",\"adult, II, 70\",\"juvenile, III, 28\",\"juvenile, IV, 31\"],\"bottom\":[1231.25,422.0,458.75,198.0],\"bottom_whisker\":[473.0,245.0,324.0,22.0],\"cat\":[[\"adult\",\"I\",\"63\"],[\"adult\",\"II\",\"70\"],[\"juvenile\",\"III\",\"28\"],[\"juvenile\",\"IV\",\"31\"]],\"middle\":[1550.5,573.0,544.0,460.5],\"top\":[1904.75,799.75,615.75,599.0],\"top_whisker\":[2641.0,1366.375,806.0,815.0]},\"selected\":{\"id\":\"f315ac68-0b8e-4975-a0d8-52fc4a9e812e\",\"type\":\"Selection\"},\"selection_policy\":{\"id\":\"11843b2f-4b34-4c46-875c-f5c4471eae09\",\"type\":\"UnionRenderers\"}},\"id\":\"1ad6220d-1ad5-4c0d-a6b8-b3fea3c5c780\",\"type\":\"ColumnDataSource\"},{\"attributes\":{\"callback\":null,\"factors\":[[\"juvenile\",\"IV\",\"31\"],[\"juvenile\",\"III\",\"28\"],[\"adult\",\"II\",\"70\"],[\"adult\",\"I\",\"63\"]]},\"id\":\"c0b9824a-17fe-4550-b03a-7169f03d4432\",\"type\":\"FactorRange\"},{\"attributes\":{\"data_source\":{\"id\":\"1ad6220d-1ad5-4c0d-a6b8-b3fea3c5c780\",\"type\":\"ColumnDataSource\"},\"glyph\":{\"id\":\"658bd20c-3d4d-4529-92a6-ad4888b2ff34\",\"type\":\"HBar\"},\"hover_glyph\":null,\"muted_glyph\":null,\"nonselection_glyph\":{\"id\":\"ccc1f4ba-8acd-426f-88d3-82547297175f\",\"type\":\"HBar\"},\"selection_glyph\":null,\"view\":{\"id\":\"3b2f3afc-a3e5-4939-959b-fcdb6027f574\",\"type\":\"CDSView\"}},\"id\":\"c7d6bd85-e50b-4970-b91a-c3e677f3077f\",\"type\":\"GlyphRenderer\"},{\"attributes\":{\"line_alpha\":{\"value\":0.1},\"line_color\":{\"value\":\"#1f77b4\"},\"x0\":{\"field\":\"top\"},\"x1\":{\"field\":\"top_whisker\"},\"y0\":{\"field\":\"cat\"},\"y1\":{\"field\":\"cat\"}},\"id\":\"e4bd8c62-aec9-416a-ae53-802dde80f8de\",\"type\":\"Segment\"},{\"attributes\":{\"source\":{\"id\":\"1ad6220d-1ad5-4c0d-a6b8-b3fea3c5c780\",\"type\":\"ColumnDataSource\"}},\"id\":\"586ae45e-b4cd-4b80-8afb-39a09283790b\",\"type\":\"CDSView\"}],\"root_ids\":[\"971b4701-87fe-4d88-8f82-9e8b15467fe7\"]},\"title\":\"Bokeh Application\",\"version\":\"0.13.0\"}};\n",
       "  var render_items = [{\"docid\":\"e2e85164-f60a-4ad2-b5ff-888951ab849f\",\"roots\":{\"971b4701-87fe-4d88-8f82-9e8b15467fe7\":\"6753ee35-dea2-4298-aa2c-b2b900946f05\"}}];\n",
       "  root.Bokeh.embed.embed_items_notebook(docs_json, render_items);\n",
       "\n",
       "  }\n",
       "  if (root.Bokeh !== undefined) {\n",
       "    embed_document(root);\n",
       "  } else {\n",
       "    var attempts = 0;\n",
       "    var timer = setInterval(function(root) {\n",
       "      if (root.Bokeh !== undefined) {\n",
       "        embed_document(root);\n",
       "        clearInterval(timer);\n",
       "      }\n",
       "      attempts++;\n",
       "      if (attempts > 100) {\n",
       "        console.log(\"Bokeh: ERROR: Unable to run BokehJS code because BokehJS library is missing\")\n",
       "        clearInterval(timer);\n",
       "      }\n",
       "    }, 10, root)\n",
       "  }\n",
       "})(window);"
      ],
      "application/vnd.bokehjs_exec.v0+json": ""
     },
     "metadata": {
      "application/vnd.bokehjs_exec.v0+json": {
       "id": "971b4701-87fe-4d88-8f82-9e8b15467fe7"
      }
     },
     "output_type": "display_data"
    }
   ],
   "source": [
    "p = bebi103.viz.box(data=df, \n",
    "                    cats=['age', 'ID', 'SVL (mm)'], \n",
    "                    val='impact force (mN)', \n",
    "                    p=None, \n",
    "                    horizontal=True, \n",
    "                    y_axis_label='ID', \n",
    "                    x_axis_label='impact force (mN)', \n",
    "                    title=None, \n",
    "                    plot_height=300, \n",
    "                    plot_width=400, \n",
    "                    palette=['#4e79a7', '#f28e2b', '#e15759', '#76b7b2', '#59a14f',\n",
    "                             '#edc948', '#b07aa1', '#ff9da7', '#9c755f', '#bab0ac'],\n",
    "                    width=0.4, \n",
    "                    order=None, \n",
    "                    val_axis_type='linear')\n",
    "bokeh.io.show(p) "
   ]
  }
 ],
 "metadata": {
  "kernelspec": {
   "display_name": "Python 3",
   "language": "python",
   "name": "python3"
  },
  "language_info": {
   "codemirror_mode": {
    "name": "ipython",
    "version": 3
   },
   "file_extension": ".py",
   "mimetype": "text/x-python",
   "name": "python",
   "nbconvert_exporter": "python",
   "pygments_lexer": "ipython3",
   "version": "3.7.0"
  }
 },
 "nbformat": 4,
 "nbformat_minor": 2
}
