{
 "cells": [
  {
   "cell_type": "code",
   "execution_count": 1,
   "metadata": {},
   "outputs": [
    {
     "data": {
      "text/plain": [
       "'2.17.1.0'"
      ]
     },
     "execution_count": 1,
     "metadata": {},
     "output_type": "execute_result"
    }
   ],
   "source": [
    "import pystan\n",
    "pystan.__version__"
   ]
  },
  {
   "cell_type": "code",
   "execution_count": 1,
   "metadata": {},
   "outputs": [
    {
     "name": "stderr",
     "output_type": "stream",
     "text": [
      "INFO:pystan:COMPILING THE C++ CODE FOR MODEL anon_model_1b8a10ae4fc8bca012da623246b337aa NOW.\n"
     ]
    }
   ],
   "source": [
    "import pystan\n",
    "\n",
    "schools_dat = {'J': 8,\n",
    "               'y': [28,  8, -3,  7, -1,  1, 18, 12],\n",
    "               'sigma': [15, 10, 16, 11,  9, 11, 10, 18]}\n",
    "\n",
    "schools_code = \"\"\"\n",
    "data {\n",
    "  int<lower=0> J; // number of schools\n",
    "  vector[J] y; // estimated treatment effects\n",
    "  vector<lower=0>[J] sigma; // s.e. of effect estimates\n",
    "}\n",
    "\n",
    "parameters {\n",
    "  real mu;\n",
    "  real<lower=0> tau;\n",
    "  vector[J] eta;\n",
    "}\n",
    "\n",
    "transformed parameters {\n",
    "  vector[J] theta = mu + tau * eta;\n",
    "}\n",
    "\n",
    "model {\n",
    "  eta ~ normal(0, 1);\n",
    "  y ~ normal(theta, sigma);\n",
    "}\n",
    "\"\"\"\n",
    "\n",
    "sm = pystan.StanModel(model_code=schools_code)\n",
    "fit = sm.sampling(data=schools_dat, iter=1000, chains=1)"
   ]
  },
  {
   "cell_type": "code",
   "execution_count": 9,
   "metadata": {},
   "outputs": [
    {
     "name": "stderr",
     "output_type": "stream",
     "text": [
      "INFO:pystan:COMPILING THE C++ CODE FOR MODEL anon_model_1b8a10ae4fc8bca012da623246b337aa NOW.\n"
     ]
    },
    {
     "name": "stdout",
     "output_type": "stream",
     "text": [
      "In file included from /var/folders/y7/r162f1fd0zv1vzxkb5nktz300000gn/T/tmpirh7kdtp/stanfit4anon_model_1b8a10ae4fc8bca012da623246b337aa_729551725655581445.cpp:641:\n",
      "In file included from /Users/Justin/anaconda3/lib/python3.6/site-packages/numpy/core/include/numpy/arrayobject.h:4:\n",
      "In file included from /Users/Justin/anaconda3/lib/python3.6/site-packages/numpy/core/include/numpy/ndarrayobject.h:18:\n",
      "In file included from /Users/Justin/anaconda3/lib/python3.6/site-packages/numpy/core/include/numpy/ndarraytypes.h:1823:\n",
      "/Users/Justin/anaconda3/lib/python3.6/site-packages/numpy/core/include/numpy/npy_1_7_deprecated_api.h:15:2: warning: \"Using deprecated NumPy API, disable it by \"          \"#defining NPY_NO_DEPRECATED_API NPY_1_7_API_VERSION\" [-W#warnings]\n",
      "#warning \"Using deprecated NumPy API, disable it by \" \\\n",
      " ^\n",
      "/var/folders/y7/r162f1fd0zv1vzxkb5nktz300000gn/T/tmpirh7kdtp/stanfit4anon_model_1b8a10ae4fc8bca012da623246b337aa_729551725655581445.cpp:9215:30: warning: comparison of integers of different signs: 'Py_ssize_t' (aka 'long') and 'size_type' (aka 'unsigned long') [-Wsign-compare]\n",
      "    __pyx_t_12 = ((__pyx_t_9 != __pyx_v_fitptr->param_names_oi().size()) != 0);\n",
      "                   ~~~~~~~~~ ^  ~~~~~~~~~~~~~~~~~~~~~~~~~~~~~~~~~~~~~~~\n",
      "/var/folders/y7/r162f1fd0zv1vzxkb5nktz300000gn/T/tmpirh7kdtp/stanfit4anon_model_1b8a10ae4fc8bca012da623246b337aa_729551725655581445.cpp:25445:52: warning: code will never be executed [-Wunreachable-code]\n",
      "        } else if (PY_VERSION_HEX >= 0x030700A0 && flag == (METH_FASTCALL | METH_KEYWORDS)) {\n",
      "                                                   ^~~~\n",
      "/var/folders/y7/r162f1fd0zv1vzxkb5nktz300000gn/T/tmpirh7kdtp/stanfit4anon_model_1b8a10ae4fc8bca012da623246b337aa_729551725655581445.cpp:25445:38: note: silence by adding parentheses to mark code as explicitly dead\n",
      "        } else if (PY_VERSION_HEX >= 0x030700A0 && flag == (METH_FASTCALL | METH_KEYWORDS)) {\n",
      "                                     ^\n",
      "                                     /* DISABLES CODE */ ( )\n",
      "In file included from /var/folders/y7/r162f1fd0zv1vzxkb5nktz300000gn/T/tmpirh7kdtp/stanfit4anon_model_1b8a10ae4fc8bca012da623246b337aa_729551725655581445.cpp:645:\n",
      "In file included from /Users/Justin/anaconda3/lib/python3.6/site-packages/pystan/stan_fit.hpp:22:\n",
      "In file included from /Users/Justin/anaconda3/lib/python3.6/site-packages/pystan/stan/src/stan/services/diagnose/diagnose.hpp:10:\n",
      "In file included from /Users/Justin/anaconda3/lib/python3.6/site-packages/pystan/stan/src/stan/model/test_gradients.hpp:7:\n",
      "In file included from /Users/Justin/anaconda3/lib/python3.6/site-packages/pystan/stan/src/stan/model/log_prob_grad.hpp:4:\n",
      "In file included from /Users/Justin/anaconda3/lib/python3.6/site-packages/pystan/stan/lib/stan_math/stan/math/rev/mat.hpp:12:\n",
      "In file included from /Users/Justin/anaconda3/lib/python3.6/site-packages/pystan/stan/lib/stan_math/stan/math/prim/mat.hpp:298:\n",
      "In file included from /Users/Justin/anaconda3/lib/python3.6/site-packages/pystan/stan/lib/stan_math/stan/math/prim/arr.hpp:38:\n",
      "In file included from /Users/Justin/anaconda3/lib/python3.6/site-packages/pystan/stan/lib/stan_math/stan/math/prim/arr/functor/integrate_ode_rk45.hpp:17:\n",
      "In file included from /Users/Justin/anaconda3/lib/python3.6/site-packages/pystan/stan/lib/stan_math/lib/boost_1.64.0/boost/numeric/odeint.hpp:61:\n",
      "In file included from /Users/Justin/anaconda3/lib/python3.6/site-packages/pystan/stan/lib/stan_math/lib/boost_1.64.0/boost/numeric/odeint/util/multi_array_adaption.hpp:29:\n",
      "In file included from /Users/Justin/anaconda3/lib/python3.6/site-packages/pystan/stan/lib/stan_math/lib/boost_1.64.0/boost/multi_array.hpp:21:\n",
      "In file included from /Users/Justin/anaconda3/lib/python3.6/site-packages/pystan/stan/lib/stan_math/lib/boost_1.64.0/boost/multi_array/base.hpp:28:\n",
      "/Users/Justin/anaconda3/lib/python3.6/site-packages/pystan/stan/lib/stan_math/lib/boost_1.64.0/boost/multi_array/concept_checks.hpp:42:43: warning: unused typedef 'index_range' [-Wunused-local-typedef]\n",
      "      typedef typename Array::index_range index_range;\n",
      "                                          ^\n",
      "/Users/Justin/anaconda3/lib/python3.6/site-packages/pystan/stan/lib/stan_math/lib/boost_1.64.0/boost/multi_array/concept_checks.hpp:43:37: warning: unused typedef 'index' [-Wunused-local-typedef]\n",
      "      typedef typename Array::index index;\n",
      "                                    ^\n",
      "/Users/Justin/anaconda3/lib/python3.6/site-packages/pystan/stan/lib/stan_math/lib/boost_1.64.0/boost/multi_array/concept_checks.hpp:53:43: warning: unused typedef 'index_range' [-Wunused-local-typedef]\n",
      "      typedef typename Array::index_range index_range;\n",
      "                                          ^\n",
      "/Users/Justin/anaconda3/lib/python3.6/site-packages/pystan/stan/lib/stan_math/lib/boost_1.64.0/boost/multi_array/concept_checks.hpp:54:37: warning: unused typedef 'index' [-Wunused-local-typedef]\n",
      "      typedef typename Array::index index;\n",
      "                                    ^\n",
      "7 warnings generated.\n"
     ]
    }
   ],
   "source": [
    "sm = pystan.StanModel(model_code=schools_code)"
   ]
  },
  {
   "cell_type": "code",
   "execution_count": null,
   "metadata": {},
   "outputs": [],
   "source": [
    "sm.sampling(data=schools_dat, iter=1000, chains=4)"
   ]
  },
  {
   "cell_type": "markdown",
   "metadata": {},
   "source": [
    "There we no compiler messages in the terminal window for compiling this. Just the error message above screaming about the syntax error."
   ]
  },
  {
   "cell_type": "code",
   "execution_count": 4,
   "metadata": {},
   "outputs": [
    {
     "name": "stderr",
     "output_type": "stream",
     "text": [
      "INFO:pystan:COMPILING THE C++ CODE FOR MODEL anon_model_098ad34f53642840fd7f27473faaeca8 NOW.\n"
     ]
    }
   ],
   "source": [
    "sm_with_for_loops = pystan.StanModel(model_code=schools_code_with_for_loops)"
   ]
  },
  {
   "cell_type": "markdown",
   "metadata": {},
   "source": [
    "And here are the compiler warnings:"
   ]
  },
  {
   "cell_type": "markdown",
   "metadata": {},
   "source": [
    "```\n",
    "In file included from /var/folders/y7/r162f1fd0zv1vzxkb5nktz300000gn/T/tmp7vh4b5br/stanfit4anon_model_098ad34f53642840fd7f27473faaeca8_1604521810952981958.cpp:641:\n",
    "In file included from /Users/Justin/anaconda3/lib/python3.6/site-packages/numpy/core/include/numpy/arrayobject.h:4:\n",
    "In file included from /Users/Justin/anaconda3/lib/python3.6/site-packages/numpy/core/include/numpy/ndarrayobject.h:18:\n",
    "In file included from /Users/Justin/anaconda3/lib/python3.6/site-packages/numpy/core/include/numpy/ndarraytypes.h:1823:\n",
    "/Users/Justin/anaconda3/lib/python3.6/site-packages/numpy/core/include/numpy/npy_1_7_deprecated_api.h:15:2: warning: \"Using deprecated NumPy API, disable it by \"          \"#defining NPY_NO_DEPRECATED_API NPY_1_7_API_VERSION\" [-W#warnings]\n",
    "#warning \"Using deprecated NumPy API, disable it by \" \\\n",
    " ^\n",
    "/var/folders/y7/r162f1fd0zv1vzxkb5nktz300000gn/T/tmp7vh4b5br/stanfit4anon_model_098ad34f53642840fd7f27473faaeca8_1604521810952981958.cpp:9215:30: warning: comparison of integers of different signs: 'Py_ssize_t' (aka 'long') and 'size_type' (aka 'unsigned long') [-Wsign-compare]\n",
    "    __pyx_t_12 = ((__pyx_t_9 != __pyx_v_fitptr->param_names_oi().size()) != 0);\n",
    "                   ~~~~~~~~~ ^  ~~~~~~~~~~~~~~~~~~~~~~~~~~~~~~~~~~~~~~~\n",
    "/var/folders/y7/r162f1fd0zv1vzxkb5nktz300000gn/T/tmp7vh4b5br/stanfit4anon_model_098ad34f53642840fd7f27473faaeca8_1604521810952981958.cpp:25445:52: warning: code will never be executed [-Wunreachable-code]\n",
    "        } else if (PY_VERSION_HEX >= 0x030700A0 && flag == (METH_FASTCALL | METH_KEYWORDS)) {\n",
    "                                                   ^~~~\n",
    "/var/folders/y7/r162f1fd0zv1vzxkb5nktz300000gn/T/tmp7vh4b5br/stanfit4anon_model_098ad34f53642840fd7f27473faaeca8_1604521810952981958.cpp:25445:38: note: silence by adding parentheses to mark code as explicitly dead\n",
    "        } else if (PY_VERSION_HEX >= 0x030700A0 && flag == (METH_FASTCALL | METH_KEYWORDS)) {\n",
    "                                     ^\n",
    "                                     /* DISABLES CODE */ ( )\n",
    "/var/folders/y7/r162f1fd0zv1vzxkb5nktz300000gn/T/tmp7vh4b5br/stanfit4anon_model_098ad34f53642840fd7f27473faaeca8_1604521810952981958.cpp:27249:26: warning: code will never be executed [-Wunreachable-code]\n",
    "                module = PyImport_ImportModuleLevelObject(\n",
    "                         ^~~~~~~~~~~~~~~~~~~~~~~~~~~~~~~~\n",
    "In file included from /var/folders/y7/r162f1fd0zv1vzxkb5nktz300000gn/T/tmp7vh4b5br/stanfit4anon_model_098ad34f53642840fd7f27473faaeca8_1604521810952981958.cpp:645:\n",
    "In file included from /Users/Justin/anaconda3/lib/python3.6/site-packages/pystan/stan_fit.hpp:22:\n",
    "In file included from /Users/Justin/anaconda3/lib/python3.6/site-packages/pystan/stan/src/stan/services/diagnose/diagnose.hpp:10:\n",
    "In file included from /Users/Justin/anaconda3/lib/python3.6/site-packages/pystan/stan/src/stan/model/test_gradients.hpp:7:\n",
    "In file included from /Users/Justin/anaconda3/lib/python3.6/site-packages/pystan/stan/src/stan/model/log_prob_grad.hpp:4:\n",
    "In file included from /Users/Justin/anaconda3/lib/python3.6/site-packages/pystan/stan/lib/stan_math/stan/math/rev/mat.hpp:12:\n",
    "In file included from /Users/Justin/anaconda3/lib/python3.6/site-packages/pystan/stan/lib/stan_math/stan/math/prim/mat.hpp:298:\n",
    "In file included from /Users/Justin/anaconda3/lib/python3.6/site-packages/pystan/stan/lib/stan_math/stan/math/prim/arr.hpp:38:\n",
    "In file included from /Users/Justin/anaconda3/lib/python3.6/site-packages/pystan/stan/lib/stan_math/stan/math/prim/arr/functor/integrate_ode_rk45.hpp:17:\n",
    "In file included from /Users/Justin/anaconda3/lib/python3.6/site-packages/pystan/stan/lib/stan_math/lib/boost_1.64.0/boost/numeric/odeint.hpp:61:\n",
    "In file included from /Users/Justin/anaconda3/lib/python3.6/site-packages/pystan/stan/lib/stan_math/lib/boost_1.64.0/boost/numeric/odeint/util/multi_array_adaption.hpp:29:\n",
    "In file included from /Users/Justin/anaconda3/lib/python3.6/site-packages/pystan/stan/lib/stan_math/lib/boost_1.64.0/boost/multi_array.hpp:21:\n",
    "In file included from /Users/Justin/anaconda3/lib/python3.6/site-packages/pystan/stan/lib/stan_math/lib/boost_1.64.0/boost/multi_array/base.hpp:28:\n",
    "/Users/Justin/anaconda3/lib/python3.6/site-packages/pystan/stan/lib/stan_math/lib/boost_1.64.0/boost/multi_array/concept_checks.hpp:42:43: warning: unused typedef 'index_range' [-Wunused-local-typedef]\n",
    "      typedef typename Array::index_range index_range;\n",
    "                                          ^\n",
    "/Users/Justin/anaconda3/lib/python3.6/site-packages/pystan/stan/lib/stan_math/lib/boost_1.64.0/boost/multi_array/concept_checks.hpp:43:37: warning: unused typedef 'index' [-Wunused-local-typedef]\n",
    "      typedef typename Array::index index;\n",
    "                                    ^\n",
    "/Users/Justin/anaconda3/lib/python3.6/site-packages/pystan/stan/lib/stan_math/lib/boost_1.64.0/boost/multi_array/concept_checks.hpp:53:43: warning: unused typedef 'index_range' [-Wunused-local-typedef]\n",
    "      typedef typename Array::index_range index_range;\n",
    "                                          ^\n",
    "/Users/Justin/anaconda3/lib/python3.6/site-packages/pystan/stan/lib/stan_math/lib/boost_1.64.0/boost/multi_array/concept_checks.hpp:54:37: warning: unused typedef 'index' [-Wunused-local-typedef]\n",
    "      typedef typename Array::index index;\n",
    "                                    ^\n",
    "8 warnings generated.\n",
    "clang: warning: libstdc++ is deprecated; move to libc++ with a minimum deployment target of OS X 10.9 [-Wdeprecated]\n",
    "[I 13:03:43.394 LabApp] Saving file at /pystan_test.ipynb\n",
    "```"
   ]
  },
  {
   "cell_type": "code",
   "execution_count": 5,
   "metadata": {},
   "outputs": [],
   "source": [
    "import pymc3"
   ]
  },
  {
   "cell_type": "code",
   "execution_count": 7,
   "metadata": {},
   "outputs": [
    {
     "data": {
      "text/plain": [
       "'test 5\\ntest\\ntest2'"
      ]
     },
     "execution_count": 7,
     "metadata": {},
     "output_type": "execute_result"
    }
   ],
   "source": [
    "a = 5\n",
    "f\"\"\"test {a}\n",
    "test\n",
    "test2\"\"\""
   ]
  },
  {
   "cell_type": "code",
   "execution_count": null,
   "metadata": {},
   "outputs": [],
   "source": []
  }
 ],
 "metadata": {
  "kernelspec": {
   "display_name": "Python 3",
   "language": "python",
   "name": "python3"
  },
  "language_info": {
   "codemirror_mode": {
    "name": "ipython",
    "version": 3
   },
   "file_extension": ".py",
   "mimetype": "text/x-python",
   "name": "python",
   "nbconvert_exporter": "python",
   "pygments_lexer": "ipython3",
   "version": "3.6.6"
  }
 },
 "nbformat": 4,
 "nbformat_minor": 2
}
